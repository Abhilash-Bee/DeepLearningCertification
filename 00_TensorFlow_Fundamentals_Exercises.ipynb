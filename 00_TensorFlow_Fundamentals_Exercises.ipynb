{
  "nbformat": 4,
  "nbformat_minor": 0,
  "metadata": {
    "colab": {
      "provenance": [],
      "toc_visible": true,
      "authorship_tag": "ABX9TyMjcItSl2ujYClV0FxjV5de",
      "include_colab_link": true
    },
    "kernelspec": {
      "name": "python3",
      "display_name": "Python 3"
    },
    "language_info": {
      "name": "python"
    }
  },
  "cells": [
    {
      "cell_type": "markdown",
      "metadata": {
        "id": "view-in-github",
        "colab_type": "text"
      },
      "source": [
        "<a href=\"https://colab.research.google.com/github/Abhilash-Bee/DeepLearningCertification/blob/main/00_TensorFlow_Fundamentals_Exercises.ipynb\" target=\"_parent\"><img src=\"https://colab.research.google.com/assets/colab-badge.svg\" alt=\"Open In Colab\"/></a>"
      ]
    },
    {
      "cell_type": "markdown",
      "source": [
        "# 🛠 **00. TensorFlow Fundamentals Exercises**\n",
        "\n",
        "1. Create a vector, scalar, matrix and tensor with values of your choosing using tf.constant().\n",
        "2. Find the shape, rank and size of the tensors you created in 1.\n",
        "3. Create two tensors containing random values between 0 and 1 with shape [5, 300].\n",
        "4. Multiply the two tensors you created in 3 using matrix multiplication.\n",
        "5. Multiply the two tensors you created in 3 using dot product.\n",
        "6. Create a tensor with random values between 0 and 1 with shape [224, 224, 3].\n",
        "7. Find the min and max values of the tensor you created in 6 along the first axis.\n",
        "8. Created a tensor with random values of shape [1, 224, 224, 3] then squeeze it to change the shape to [224, 224, 3].\n",
        "9. Create a tensor with shape [10] using your own choice of values, then find the index which has the maximum value.\n",
        "10. One-hot encode the tensor you created in 9."
      ],
      "metadata": {
        "id": "ihjInQJ0EV8J"
      }
    },
    {
      "cell_type": "markdown",
      "source": [
        "---"
      ],
      "metadata": {
        "id": "blU5Qf-1H0Ju"
      }
    },
    {
      "cell_type": "markdown",
      "source": [
        "---"
      ],
      "metadata": {
        "id": "RV46_RBuJcyD"
      }
    },
    {
      "cell_type": "markdown",
      "source": [
        "## **0. Importing TensorFlow**"
      ],
      "metadata": {
        "id": "mylcxaOsJ0H1"
      }
    },
    {
      "cell_type": "code",
      "source": [
        "import tensorflow as tf\n",
        "\n",
        "tf.__version__"
      ],
      "metadata": {
        "colab": {
          "base_uri": "https://localhost:8080/",
          "height": 35
        },
        "id": "aew13gHiJ7wp",
        "outputId": "ef8a807f-e3e9-424a-a076-e478b3ac22b4"
      },
      "execution_count": null,
      "outputs": [
        {
          "output_type": "execute_result",
          "data": {
            "text/plain": [
              "'2.15.0'"
            ],
            "application/vnd.google.colaboratory.intrinsic+json": {
              "type": "string"
            }
          },
          "metadata": {},
          "execution_count": 47
        }
      ]
    },
    {
      "cell_type": "markdown",
      "source": [
        "---"
      ],
      "metadata": {
        "id": "aZEuXiPULoOi"
      }
    },
    {
      "cell_type": "markdown",
      "source": [
        "---"
      ],
      "metadata": {
        "id": "oz14N4B9Lwpb"
      }
    },
    {
      "cell_type": "markdown",
      "source": [
        "## **1. Create a vector, scalar, matrix and tensor with values of your choosing using tf.constant().**\n",
        "\n"
      ],
      "metadata": {
        "id": "frSes_KTH4G3"
      }
    },
    {
      "cell_type": "code",
      "source": [
        "# Scalar\n",
        "\n",
        "scalar = 7\n",
        "scalar"
      ],
      "metadata": {
        "colab": {
          "base_uri": "https://localhost:8080/"
        },
        "id": "fsu2Ki78JGMu",
        "outputId": "7bc4a49b-2baa-4e55-c9a3-eab493df347c"
      },
      "execution_count": null,
      "outputs": [
        {
          "output_type": "execute_result",
          "data": {
            "text/plain": [
              "7"
            ]
          },
          "metadata": {},
          "execution_count": 48
        }
      ]
    },
    {
      "cell_type": "code",
      "source": [
        "# Vector\n",
        "\n",
        "vector = [8, 13]\n",
        "vector"
      ],
      "metadata": {
        "colab": {
          "base_uri": "https://localhost:8080/"
        },
        "id": "Xymi43bkJr6l",
        "outputId": "587a5af5-6f16-4928-9705-fa6a6a4d157a"
      },
      "execution_count": null,
      "outputs": [
        {
          "output_type": "execute_result",
          "data": {
            "text/plain": [
              "[8, 13]"
            ]
          },
          "metadata": {},
          "execution_count": 49
        }
      ]
    },
    {
      "cell_type": "code",
      "source": [
        "# Matrix\n",
        "\n",
        "matrix = [[8, 13],\n",
        "          [10, 5]]\n",
        "matrix"
      ],
      "metadata": {
        "colab": {
          "base_uri": "https://localhost:8080/"
        },
        "id": "DRxKEeI7Kd68",
        "outputId": "c53dbc32-9a1c-4334-a4e9-ca72969ab9ce"
      },
      "execution_count": null,
      "outputs": [
        {
          "output_type": "execute_result",
          "data": {
            "text/plain": [
              "[[8, 13], [10, 5]]"
            ]
          },
          "metadata": {},
          "execution_count": 50
        }
      ]
    },
    {
      "cell_type": "code",
      "source": [
        "# Scalar-Tensor\n",
        "\n",
        "scalar_tensor = tf.constant(scalar)\n",
        "scalar_tensor"
      ],
      "metadata": {
        "colab": {
          "base_uri": "https://localhost:8080/"
        },
        "id": "9022MVZVKwxw",
        "outputId": "7875a6cc-27d0-4302-ab56-cf6a67146d2d"
      },
      "execution_count": null,
      "outputs": [
        {
          "output_type": "execute_result",
          "data": {
            "text/plain": [
              "<tf.Tensor: shape=(), dtype=int32, numpy=7>"
            ]
          },
          "metadata": {},
          "execution_count": 51
        }
      ]
    },
    {
      "cell_type": "code",
      "source": [
        "# Vector-Tensor\n",
        "\n",
        "vector_tensor = tf.constant(vector)\n",
        "vector_tensor"
      ],
      "metadata": {
        "colab": {
          "base_uri": "https://localhost:8080/"
        },
        "id": "o0FqoIz_LOAe",
        "outputId": "d2690263-e8fc-4414-e208-f910b553b50c"
      },
      "execution_count": null,
      "outputs": [
        {
          "output_type": "execute_result",
          "data": {
            "text/plain": [
              "<tf.Tensor: shape=(2,), dtype=int32, numpy=array([ 8, 13], dtype=int32)>"
            ]
          },
          "metadata": {},
          "execution_count": 52
        }
      ]
    },
    {
      "cell_type": "code",
      "source": [
        "# Matrix-Tensor\n",
        "\n",
        "matrix_tensor = tf.constant(matrix)\n",
        "matrix_tensor"
      ],
      "metadata": {
        "colab": {
          "base_uri": "https://localhost:8080/"
        },
        "id": "t3IEK2j9LVrr",
        "outputId": "fb9ec3d8-03cb-483b-c0bc-cd3877ecd924"
      },
      "execution_count": null,
      "outputs": [
        {
          "output_type": "execute_result",
          "data": {
            "text/plain": [
              "<tf.Tensor: shape=(2, 2), dtype=int32, numpy=\n",
              "array([[ 8, 13],\n",
              "       [10,  5]], dtype=int32)>"
            ]
          },
          "metadata": {},
          "execution_count": 53
        }
      ]
    },
    {
      "cell_type": "markdown",
      "source": [
        "---"
      ],
      "metadata": {
        "id": "1H2_pMMJLgnu"
      }
    },
    {
      "cell_type": "markdown",
      "source": [
        "---"
      ],
      "metadata": {
        "id": "-dHK3RzIMH16"
      }
    },
    {
      "cell_type": "markdown",
      "source": [
        "## **2. Find the shape, rank and size of the tensors you created in 1.**"
      ],
      "metadata": {
        "id": "cnsJ5RS_MLTB"
      }
    },
    {
      "cell_type": "code",
      "source": [
        "print('Scalar Shape:', scalar_tensor.shape)\n",
        "print('Scalar Rank:', scalar_tensor.ndim)\n",
        "print('Scalar size:', tf.size(scalar_tensor))"
      ],
      "metadata": {
        "colab": {
          "base_uri": "https://localhost:8080/"
        },
        "id": "nR3BnRqdMUQe",
        "outputId": "6ef4cc42-dc84-4bf5-99cf-1121ed68ca4f"
      },
      "execution_count": null,
      "outputs": [
        {
          "output_type": "stream",
          "name": "stdout",
          "text": [
            "Scalar Shape: ()\n",
            "Scalar Rank: 0\n",
            "Scalar size: tf.Tensor(1, shape=(), dtype=int32)\n"
          ]
        }
      ]
    },
    {
      "cell_type": "code",
      "source": [
        "print('Vector Shape:', vector_tensor.shape)\n",
        "print('Vector Rank:', vector_tensor.ndim)\n",
        "print('Vector size:', tf.size(vector_tensor))"
      ],
      "metadata": {
        "colab": {
          "base_uri": "https://localhost:8080/"
        },
        "id": "hGCX5-8IM3zj",
        "outputId": "4e02d41b-5abd-4b64-ce5d-6b58dff22e56"
      },
      "execution_count": null,
      "outputs": [
        {
          "output_type": "stream",
          "name": "stdout",
          "text": [
            "Vector Shape: (2,)\n",
            "Vector Rank: 1\n",
            "Vector size: tf.Tensor(2, shape=(), dtype=int32)\n"
          ]
        }
      ]
    },
    {
      "cell_type": "code",
      "source": [
        "print('Matrix Shape:', matrix_tensor.shape)\n",
        "print('Matrix Rank:', matrix_tensor.ndim)\n",
        "print('Matrix size:', tf.size(matrix_tensor).numpy())"
      ],
      "metadata": {
        "colab": {
          "base_uri": "https://localhost:8080/"
        },
        "id": "FQMTTIBNNdSe",
        "outputId": "6cf701e7-54c0-4219-c0e6-d6dfb851d975"
      },
      "execution_count": null,
      "outputs": [
        {
          "output_type": "stream",
          "name": "stdout",
          "text": [
            "Matrix Shape: (2, 2)\n",
            "Matrix Rank: 2\n",
            "Matrix size: 4\n"
          ]
        }
      ]
    },
    {
      "cell_type": "markdown",
      "source": [
        "---"
      ],
      "metadata": {
        "id": "fUD1AXMlNufy"
      }
    },
    {
      "cell_type": "markdown",
      "source": [
        "---"
      ],
      "metadata": {
        "id": "cSD2nSc0OgUf"
      }
    },
    {
      "cell_type": "markdown",
      "source": [
        "## **3. Create two tensors containing random values between 0 and 1 with shape [5, 300].**"
      ],
      "metadata": {
        "id": "euj18EwAOh1d"
      }
    },
    {
      "cell_type": "code",
      "source": [
        "tf.random.set_seed(8)\n",
        "rand_tensor_1 = tf.random.normal([5, 300])\n",
        "rand_tensor_1"
      ],
      "metadata": {
        "colab": {
          "base_uri": "https://localhost:8080/"
        },
        "id": "nECsmQgkO35f",
        "outputId": "6d363034-e13d-4ba3-f4ec-908026dc2800"
      },
      "execution_count": null,
      "outputs": [
        {
          "output_type": "execute_result",
          "data": {
            "text/plain": [
              "<tf.Tensor: shape=(5, 300), dtype=float32, numpy=\n",
              "array([[ 1.2074401 , -0.7452462 ,  0.6908678 , ...,  0.41348934,\n",
              "         1.0111853 , -0.5068622 ],\n",
              "       [-0.615032  ,  1.0809565 ,  1.0717989 , ...,  1.2365917 ,\n",
              "        -0.9548575 ,  0.4210502 ],\n",
              "       [ 0.20328137, -0.41216978,  0.39604047, ...,  0.73841554,\n",
              "        -0.5433401 , -0.19178566],\n",
              "       [-0.67259544, -0.01823891,  1.1740032 , ..., -0.00382315,\n",
              "         1.6092392 , -1.3606751 ],\n",
              "       [-0.07399517,  0.15060243, -1.4232525 , ...,  0.91519403,\n",
              "         0.7762883 , -0.9586654 ]], dtype=float32)>"
            ]
          },
          "metadata": {},
          "execution_count": 57
        }
      ]
    },
    {
      "cell_type": "code",
      "source": [
        "tf.random.set_seed(13)\n",
        "rand_tensor_2 = tf.random.normal([5, 300])\n",
        "rand_tensor_2"
      ],
      "metadata": {
        "colab": {
          "base_uri": "https://localhost:8080/"
        },
        "id": "sKcoyn3vTmLj",
        "outputId": "1e6b7f1e-93ac-4d8f-83da-d606a87b47fd"
      },
      "execution_count": null,
      "outputs": [
        {
          "output_type": "execute_result",
          "data": {
            "text/plain": [
              "<tf.Tensor: shape=(5, 300), dtype=float32, numpy=\n",
              "array([[ 0.46733698,  0.89927393, -0.78262424, ..., -0.00339889,\n",
              "        -1.003618  , -1.3988328 ],\n",
              "       [-0.8889128 ,  0.3825111 ,  0.23511857, ..., -0.8417241 ,\n",
              "         0.19115192,  1.6598426 ],\n",
              "       [ 0.39654583,  1.3194978 ,  1.6494288 , ...,  0.6034325 ,\n",
              "        -0.20702732, -0.58929247],\n",
              "       [-0.08622172, -1.0301651 , -1.0771402 , ...,  0.81814975,\n",
              "         1.1996921 ,  0.574482  ],\n",
              "       [ 1.891347  ,  0.6549452 ,  0.6319449 , ...,  1.8122883 ,\n",
              "         1.7424241 ,  1.9001238 ]], dtype=float32)>"
            ]
          },
          "metadata": {},
          "execution_count": 58
        }
      ]
    },
    {
      "cell_type": "markdown",
      "source": [
        "---"
      ],
      "metadata": {
        "id": "KURy5Mn-PSsu"
      }
    },
    {
      "cell_type": "markdown",
      "source": [
        "---"
      ],
      "metadata": {
        "id": "44OnunxQPT8N"
      }
    },
    {
      "cell_type": "markdown",
      "source": [
        "## **4. Multiply the two tensors you created in 3 using matrix multiplication.**"
      ],
      "metadata": {
        "id": "1DUH9OzmO6PM"
      }
    },
    {
      "cell_type": "code",
      "source": [
        "rand_tensor_3 = rand_tensor_1 * rand_tensor_2\n",
        "rand_tensor_3"
      ],
      "metadata": {
        "colab": {
          "base_uri": "https://localhost:8080/"
        },
        "id": "qJN0BB_FPb6e",
        "outputId": "49d0f87d-cff5-49ea-cf57-18c8d44c767f"
      },
      "execution_count": null,
      "outputs": [
        {
          "output_type": "execute_result",
          "data": {
            "text/plain": [
              "<tf.Tensor: shape=(5, 300), dtype=float32, numpy=\n",
              "array([[ 5.6428140e-01, -6.7018044e-01, -5.4068989e-01, ...,\n",
              "        -1.4054053e-03, -1.0148437e+00,  7.0901549e-01],\n",
              "       [ 5.4670984e-01,  4.1347787e-01,  2.5199983e-01, ...,\n",
              "        -1.0408690e+00, -1.8252285e-01,  6.9887704e-01],\n",
              "       [ 8.0610380e-02, -5.4385716e-01,  6.5324056e-01, ...,\n",
              "         4.4558391e-01,  1.1248624e-01,  1.1301785e-01],\n",
              "       [ 5.7992339e-02,  1.8789090e-02, -1.2645661e+00, ...,\n",
              "        -3.1279081e-03,  1.9305916e+00, -7.8168339e-01],\n",
              "       [-1.3995056e-01,  9.8636337e-02, -8.9941710e-01, ...,\n",
              "         1.6585954e+00,  1.3526235e+00, -1.8215829e+00]], dtype=float32)>"
            ]
          },
          "metadata": {},
          "execution_count": 59
        }
      ]
    },
    {
      "cell_type": "code",
      "source": [
        "rand_tensor_4 = tf.multiply(rand_tensor_1, rand_tensor_2)\n",
        "rand_tensor_4"
      ],
      "metadata": {
        "colab": {
          "base_uri": "https://localhost:8080/"
        },
        "id": "-7lZUJQbUXyj",
        "outputId": "152b66c0-e255-44b3-f970-6b3aa54e613c"
      },
      "execution_count": null,
      "outputs": [
        {
          "output_type": "execute_result",
          "data": {
            "text/plain": [
              "<tf.Tensor: shape=(5, 300), dtype=float32, numpy=\n",
              "array([[ 5.6428140e-01, -6.7018044e-01, -5.4068989e-01, ...,\n",
              "        -1.4054053e-03, -1.0148437e+00,  7.0901549e-01],\n",
              "       [ 5.4670984e-01,  4.1347787e-01,  2.5199983e-01, ...,\n",
              "        -1.0408690e+00, -1.8252285e-01,  6.9887704e-01],\n",
              "       [ 8.0610380e-02, -5.4385716e-01,  6.5324056e-01, ...,\n",
              "         4.4558391e-01,  1.1248624e-01,  1.1301785e-01],\n",
              "       [ 5.7992339e-02,  1.8789090e-02, -1.2645661e+00, ...,\n",
              "        -3.1279081e-03,  1.9305916e+00, -7.8168339e-01],\n",
              "       [-1.3995056e-01,  9.8636337e-02, -8.9941710e-01, ...,\n",
              "         1.6585954e+00,  1.3526235e+00, -1.8215829e+00]], dtype=float32)>"
            ]
          },
          "metadata": {},
          "execution_count": 60
        }
      ]
    },
    {
      "cell_type": "markdown",
      "source": [
        "---"
      ],
      "metadata": {
        "id": "hHpCZlYkPcGF"
      }
    },
    {
      "cell_type": "markdown",
      "source": [
        "---"
      ],
      "metadata": {
        "id": "n028Sg9xPdcB"
      }
    },
    {
      "cell_type": "markdown",
      "source": [
        "## **5. Multiply the two tensors you created in 3 using dot product.**"
      ],
      "metadata": {
        "id": "dxnTJ9NEPB_e"
      }
    },
    {
      "cell_type": "code",
      "source": [
        "rand_tensor_5 = rand_tensor_1 @ tf.transpose(rand_tensor_2)\n",
        "rand_tensor_5"
      ],
      "metadata": {
        "colab": {
          "base_uri": "https://localhost:8080/"
        },
        "id": "UUGiQa1OPlDV",
        "outputId": "b0548ca6-b007-4b18-acda-1c4d3bc5df7e"
      },
      "execution_count": null,
      "outputs": [
        {
          "output_type": "execute_result",
          "data": {
            "text/plain": [
              "<tf.Tensor: shape=(5, 5), dtype=float32, numpy=\n",
              "array([[-27.844341 ,   8.376965 ,   6.693235 , -30.54904  , -20.347622 ],\n",
              "       [ 16.756718 ,  -7.024115 ,  -5.0225754,   8.68558  ,  20.473629 ],\n",
              "       [ -7.4475946,  16.062185 ,   4.002384 , -15.966463 , -47.850693 ],\n",
              "       [ 25.589417 ,   9.014551 , -12.429403 , -13.239283 ,  23.374681 ],\n",
              "       [ -0.828989 , -22.863894 ,  24.36324  ,  17.802435 ,   2.923245 ]],\n",
              "      dtype=float32)>"
            ]
          },
          "metadata": {},
          "execution_count": 61
        }
      ]
    },
    {
      "cell_type": "code",
      "source": [
        "rand_tensor_6 = tf.matmul(rand_tensor_1, rand_tensor_2, transpose_b=True)\n",
        "rand_tensor_6"
      ],
      "metadata": {
        "colab": {
          "base_uri": "https://localhost:8080/"
        },
        "id": "x6Ff4VC2UuO1",
        "outputId": "d498bf95-eb9a-40cd-d1c9-f77992503fe5"
      },
      "execution_count": null,
      "outputs": [
        {
          "output_type": "execute_result",
          "data": {
            "text/plain": [
              "<tf.Tensor: shape=(5, 5), dtype=float32, numpy=\n",
              "array([[-27.844341 ,   8.376965 ,   6.693235 , -30.54904  , -20.347622 ],\n",
              "       [ 16.756718 ,  -7.024115 ,  -5.0225754,   8.68558  ,  20.473629 ],\n",
              "       [ -7.4475946,  16.062185 ,   4.002384 , -15.966463 , -47.850693 ],\n",
              "       [ 25.589417 ,   9.014551 , -12.429403 , -13.239283 ,  23.374681 ],\n",
              "       [ -0.828989 , -22.863894 ,  24.36324  ,  17.802435 ,   2.923245 ]],\n",
              "      dtype=float32)>"
            ]
          },
          "metadata": {},
          "execution_count": 62
        }
      ]
    },
    {
      "cell_type": "markdown",
      "source": [
        "---"
      ],
      "metadata": {
        "id": "aofQmcA2PlVL"
      }
    },
    {
      "cell_type": "markdown",
      "source": [
        "---"
      ],
      "metadata": {
        "id": "zy2NjdtjPm5X"
      }
    },
    {
      "cell_type": "markdown",
      "source": [
        "## **6. Create a tensor with random values between 0 and 1 with shape [224, 224, 3].**"
      ],
      "metadata": {
        "id": "WmsVbP-iPFWP"
      }
    },
    {
      "cell_type": "code",
      "source": [
        "tf.random.set_seed(8)\n",
        "rand_tensor_3d = tf.random.normal([224, 224, 3])\n",
        "rand_tensor_3d"
      ],
      "metadata": {
        "colab": {
          "base_uri": "https://localhost:8080/"
        },
        "id": "xDqpGkGUP4Nm",
        "outputId": "c091268a-bbf3-4a1f-b24f-26c3ae29bc5c"
      },
      "execution_count": null,
      "outputs": [
        {
          "output_type": "execute_result",
          "data": {
            "text/plain": [
              "<tf.Tensor: shape=(224, 224, 3), dtype=float32, numpy=\n",
              "array([[[ 1.2074401e+00, -7.4524617e-01,  6.9086778e-01],\n",
              "        [-7.6359880e-01, -2.4725451e+00,  5.8341402e-01],\n",
              "        [ 2.7248889e-01, -4.5308730e-01,  5.9562445e-01],\n",
              "        ...,\n",
              "        [ 3.8274556e-01, -5.8457148e-01, -3.3245701e-01],\n",
              "        [-1.2835133e+00,  1.8631322e+00, -2.2772641e+00],\n",
              "        [-4.1349369e-01,  6.7511153e-01,  3.1716865e-01]],\n",
              "\n",
              "       [[ 5.6904036e-01,  7.9601842e-01, -5.5805594e-01],\n",
              "        [-2.5748613e+00,  8.8135904e-01, -1.5871291e-01],\n",
              "        [ 2.0767291e+00,  5.1848781e-01,  8.0432779e-01],\n",
              "        ...,\n",
              "        [-1.0550995e+00, -7.4551076e-01, -2.4144816e-01],\n",
              "        [-3.8414150e-01, -1.9853790e+00, -7.9983521e-01],\n",
              "        [-1.4019266e-01, -1.8271549e+00, -4.3548155e-01]],\n",
              "\n",
              "       [[ 7.4505967e-01, -7.8544691e-02, -6.1164266e-01],\n",
              "        [-3.8983086e-01,  1.5153303e+00,  6.5550292e-01],\n",
              "        [ 5.0580347e-01, -5.0000471e-01, -1.3863361e+00],\n",
              "        ...,\n",
              "        [ 3.7148711e-01,  7.3761702e-01,  7.4986732e-01],\n",
              "        [-1.5909460e+00,  1.1795765e+00,  1.0312649e+00],\n",
              "        [-1.3365582e+00, -1.5037924e-01,  1.5896026e+00]],\n",
              "\n",
              "       ...,\n",
              "\n",
              "       [[ 3.6597174e-01, -1.3089257e-03, -8.0912256e-01],\n",
              "        [-7.5636733e-01,  3.9748842e-01, -7.3434532e-01],\n",
              "        [-8.3907658e-01,  9.6711248e-02,  3.7125927e-01],\n",
              "        ...,\n",
              "        [ 5.7279813e-01, -1.1352308e+00, -2.7146593e-01],\n",
              "        [ 1.4847173e-01, -2.5138310e-01, -1.0177774e+00],\n",
              "        [ 5.9358627e-01,  5.9648669e-01, -1.5124579e-01]],\n",
              "\n",
              "       [[ 6.9061971e-01,  2.0851858e+00,  3.9123192e-01],\n",
              "        [ 2.3696949e-01, -7.2829671e-02, -9.4036847e-01],\n",
              "        [ 1.2680706e+00,  1.0017630e+00, -3.3663502e-01],\n",
              "        ...,\n",
              "        [-1.1692464e-01,  1.4668676e+00, -4.9119166e-01],\n",
              "        [-3.3331951e-01,  1.3398658e+00,  5.2078623e-01],\n",
              "        [ 5.3028327e-01, -3.1935200e-01,  7.2426236e-01]],\n",
              "\n",
              "       [[-1.1293527e+00,  1.9477881e-01,  2.8964910e-01],\n",
              "        [ 3.7950359e-02, -9.7899121e-01,  7.8426284e-01],\n",
              "        [ 1.3547267e+00,  2.9523492e-01,  1.0713148e-02],\n",
              "        ...,\n",
              "        [ 5.5386609e-01,  9.3076408e-01,  1.0019727e+00],\n",
              "        [ 2.1481378e+00,  1.4308501e+00, -1.8607622e+00],\n",
              "        [-1.1275982e+00,  8.0222440e-01,  1.9000787e+00]]], dtype=float32)>"
            ]
          },
          "metadata": {},
          "execution_count": 63
        }
      ]
    },
    {
      "cell_type": "markdown",
      "source": [
        "---"
      ],
      "metadata": {
        "id": "ohVn8XdwP4go"
      }
    },
    {
      "cell_type": "markdown",
      "source": [
        "---"
      ],
      "metadata": {
        "id": "xEst2w-DP5tj"
      }
    },
    {
      "cell_type": "markdown",
      "source": [
        "## **7. Find the min and max values of the tensor you created in 6 along the first axis.**"
      ],
      "metadata": {
        "id": "547qTxRqPIBZ"
      }
    },
    {
      "cell_type": "code",
      "source": [
        "# Minimum values in rand_tensor_3d along first axis (axis=1)\n",
        "\n",
        "min = tf.reduce_min(rand_tensor_3d, axis=1)\n",
        "min"
      ],
      "metadata": {
        "colab": {
          "base_uri": "https://localhost:8080/"
        },
        "id": "fkfSQtY-QB9v",
        "outputId": "acbc0205-46c6-409b-d5be-f6104dc5d398"
      },
      "execution_count": null,
      "outputs": [
        {
          "output_type": "execute_result",
          "data": {
            "text/plain": [
              "<tf.Tensor: shape=(224, 3), dtype=float32, numpy=\n",
              "array([[-2.6111567, -2.6206064, -2.6236355],\n",
              "       [-2.8915224, -2.6960318, -2.795175 ],\n",
              "       [-2.6187434, -3.0560741, -2.668006 ],\n",
              "       [-3.718246 , -2.4147823, -2.647766 ],\n",
              "       [-2.6776953, -2.57523  , -2.9417646],\n",
              "       [-2.7661216, -2.757551 , -2.5072596],\n",
              "       [-2.2377243, -3.6505606, -2.94296  ],\n",
              "       [-2.9566748, -2.414771 , -2.2353952],\n",
              "       [-2.5377264, -2.2252197, -2.4405742],\n",
              "       [-2.9242606, -2.6130486, -3.0380712],\n",
              "       [-2.6361456, -2.7280865, -2.8174565],\n",
              "       [-2.9253259, -2.8901384, -2.3577545],\n",
              "       [-2.3066413, -2.6695178, -2.4072125],\n",
              "       [-4.116674 , -3.487861 , -2.609929 ],\n",
              "       [-2.9804802, -2.4455054, -2.878742 ],\n",
              "       [-2.641624 , -3.1212175, -2.477215 ],\n",
              "       [-2.3328173, -2.0451956, -3.1921043],\n",
              "       [-2.1251028, -2.4823017, -2.3906775],\n",
              "       [-2.3787034, -3.0225828, -2.9581914],\n",
              "       [-2.7172143, -2.4411905, -3.1289918],\n",
              "       [-2.9055853, -2.9239829, -2.298721 ],\n",
              "       [-2.6014652, -2.303859 , -2.4192717],\n",
              "       [-2.6964052, -3.0015488, -2.210651 ],\n",
              "       [-3.0759683, -2.5065904, -2.7412405],\n",
              "       [-2.4414046, -2.8108814, -3.114336 ],\n",
              "       [-2.2232819, -2.3897927, -2.877754 ],\n",
              "       [-2.528479 , -2.834904 , -2.32922  ],\n",
              "       [-3.4103584, -2.4615672, -2.2257874],\n",
              "       [-2.7637348, -2.540056 , -2.8387122],\n",
              "       [-2.7620935, -2.9929795, -2.4985378],\n",
              "       [-2.7220383, -2.407232 , -2.4308028],\n",
              "       [-2.651434 , -2.3718731, -2.5401323],\n",
              "       [-2.1067708, -2.7452126, -2.6791441],\n",
              "       [-2.4764342, -2.7474225, -2.7499397],\n",
              "       [-2.2248359, -2.7648249, -3.1338427],\n",
              "       [-3.991817 , -2.6971772, -2.8431668],\n",
              "       [-2.7586908, -2.3934453, -2.7075064],\n",
              "       [-2.6227946, -2.6141841, -3.1246264],\n",
              "       [-2.5650833, -2.015511 , -2.3573265],\n",
              "       [-2.8874054, -3.036982 , -2.6429348],\n",
              "       [-3.075386 , -3.183655 , -2.8507445],\n",
              "       [-2.5769646, -3.5548718, -2.4510043],\n",
              "       [-2.6538863, -3.0316465, -2.4376786],\n",
              "       [-2.5261335, -3.0160089, -2.739779 ],\n",
              "       [-3.9423907, -2.2534614, -2.5430846],\n",
              "       [-3.0281758, -3.3892877, -3.1741397],\n",
              "       [-2.0902107, -2.622367 , -2.6677256],\n",
              "       [-2.5815635, -2.7334347, -2.900774 ],\n",
              "       [-2.670178 , -2.406889 , -2.8572638],\n",
              "       [-2.2613757, -2.3705096, -2.7203076],\n",
              "       [-2.6533015, -2.6742718, -2.6175182],\n",
              "       [-2.702431 , -2.9745889, -3.5307395],\n",
              "       [-2.510889 , -3.096712 , -2.4181025],\n",
              "       [-3.085862 , -2.5788655, -2.376889 ],\n",
              "       [-3.4507241, -2.202395 , -2.5080433],\n",
              "       [-2.6042743, -2.7431934, -3.4563544],\n",
              "       [-2.6784687, -2.207867 , -4.1816187],\n",
              "       [-2.5151608, -2.884263 , -3.8018265],\n",
              "       [-2.69535  , -3.5005565, -3.470016 ],\n",
              "       [-2.5811334, -2.0945883, -2.8977602],\n",
              "       [-2.7034917, -3.1605003, -2.7805593],\n",
              "       [-1.9715347, -2.704616 , -3.3882709],\n",
              "       [-2.832076 , -2.5761242, -2.9252875],\n",
              "       [-3.2888203, -3.0325456, -2.3681037],\n",
              "       [-3.3236713, -2.5134919, -2.6177561],\n",
              "       [-2.6336694, -3.227439 , -3.130778 ],\n",
              "       [-2.77831  , -2.5752301, -2.3890285],\n",
              "       [-2.2080793, -2.459869 , -2.658754 ],\n",
              "       [-3.080481 , -2.5659037, -2.6050892],\n",
              "       [-3.177    , -2.3295593, -2.777313 ],\n",
              "       [-2.60602  , -2.6645153, -2.6002274],\n",
              "       [-2.7031102, -3.4172404, -3.1224873],\n",
              "       [-2.9562423, -3.6909192, -2.9081035],\n",
              "       [-2.7992916, -2.770868 , -2.4723618],\n",
              "       [-2.7651894, -3.1080532, -3.0430663],\n",
              "       [-2.9002886, -2.8177106, -2.5103424],\n",
              "       [-2.4291537, -2.8849595, -2.4156837],\n",
              "       [-2.3876143, -2.74644  , -2.7155197],\n",
              "       [-2.760557 , -2.431177 , -2.858167 ],\n",
              "       [-2.7705374, -2.7609947, -2.6105185],\n",
              "       [-2.8461416, -2.3792143, -2.2350163],\n",
              "       [-2.1020105, -3.2820573, -2.3671856],\n",
              "       [-2.5095248, -3.004362 , -2.2517357],\n",
              "       [-2.2765849, -3.021825 , -3.2116888],\n",
              "       [-2.0877507, -2.6583805, -2.642513 ],\n",
              "       [-2.3441336, -2.4679222, -2.4539804],\n",
              "       [-2.9603062, -3.5226107, -2.790048 ],\n",
              "       [-3.8859289, -3.0216208, -3.642388 ],\n",
              "       [-2.272794 , -2.4286795, -2.6829422],\n",
              "       [-2.6102536, -2.943591 , -3.6815693],\n",
              "       [-2.3821745, -3.5423193, -3.4241333],\n",
              "       [-3.0012512, -3.3601594, -3.4380856],\n",
              "       [-2.8628168, -2.616275 , -1.9447185],\n",
              "       [-3.1035779, -2.6637378, -2.577973 ],\n",
              "       [-2.6533465, -2.6877005, -2.4396324],\n",
              "       [-3.837971 , -3.049861 , -3.3132684],\n",
              "       [-2.1437654, -2.5610094, -2.2961535],\n",
              "       [-2.1039622, -2.570872 , -2.6770883],\n",
              "       [-2.4656975, -3.3940187, -2.4716613],\n",
              "       [-3.0631638, -2.7062562, -2.494539 ],\n",
              "       [-2.6712108, -3.3152547, -2.438983 ],\n",
              "       [-3.036468 , -2.1835415, -2.247426 ],\n",
              "       [-2.9178455, -2.868624 , -2.4152932],\n",
              "       [-2.653891 , -2.0713928, -2.5073123],\n",
              "       [-2.441218 , -2.9905095, -2.511677 ],\n",
              "       [-2.9710205, -3.7113452, -2.293654 ],\n",
              "       [-3.9534218, -2.3935616, -2.642807 ],\n",
              "       [-3.2335958, -2.820878 , -2.65338  ],\n",
              "       [-3.1381342, -2.7319515, -2.8892646],\n",
              "       [-2.3659172, -2.2924364, -2.8780084],\n",
              "       [-2.3957155, -4.3546257, -2.6540673],\n",
              "       [-3.0428252, -2.9174457, -2.8134055],\n",
              "       [-2.858318 , -3.4427283, -2.7453046],\n",
              "       [-2.9332252, -2.8476987, -2.336447 ],\n",
              "       [-2.3132758, -2.8836815, -2.4881227],\n",
              "       [-3.2142024, -2.5322154, -2.2635307],\n",
              "       [-3.5000303, -2.751154 , -2.8274732],\n",
              "       [-2.3577378, -2.8143773, -2.6200414],\n",
              "       [-3.1128883, -2.2441905, -2.4642038],\n",
              "       [-2.612521 , -2.0448275, -2.3165474],\n",
              "       [-2.7796674, -1.9873401, -2.8001022],\n",
              "       [-2.8532665, -2.5212593, -2.8480709],\n",
              "       [-2.4097798, -2.7150588, -2.6320603],\n",
              "       [-2.762178 , -2.8383393, -2.2237911],\n",
              "       [-2.586338 , -2.9585524, -2.6918137],\n",
              "       [-2.3914366, -2.596403 , -2.901576 ],\n",
              "       [-2.4693456, -3.115946 , -3.6568832],\n",
              "       [-2.5231051, -2.7375207, -3.1165087],\n",
              "       [-2.6312532, -2.5422206, -3.0023787],\n",
              "       [-2.8026903, -2.4580522, -2.167476 ],\n",
              "       [-2.444586 , -3.011313 , -3.0540938],\n",
              "       [-3.2480206, -2.3770905, -3.721489 ],\n",
              "       [-2.1661909, -2.5020933, -2.200904 ],\n",
              "       [-2.7049527, -2.5975802, -3.079844 ],\n",
              "       [-2.438194 , -2.9716077, -2.457437 ],\n",
              "       [-2.9461184, -2.7215252, -2.8653045],\n",
              "       [-3.0062187, -3.6074996, -2.6963599],\n",
              "       [-2.900797 , -3.2871258, -2.4836895],\n",
              "       [-2.80338  , -2.624897 , -2.4678705],\n",
              "       [-2.6181037, -3.1488628, -2.578252 ],\n",
              "       [-3.4317248, -2.7923648, -2.8952088],\n",
              "       [-2.9029725, -2.8058915, -2.935558 ],\n",
              "       [-2.7898405, -2.9420564, -2.0305157],\n",
              "       [-3.1662955, -3.733656 , -2.8020906],\n",
              "       [-2.1551392, -2.3877282, -2.5988626],\n",
              "       [-2.6744785, -3.509188 , -2.798789 ],\n",
              "       [-3.1164775, -2.3547716, -2.4471443],\n",
              "       [-2.5614774, -2.0002646, -2.634846 ],\n",
              "       [-3.0623105, -2.755341 , -2.527802 ],\n",
              "       [-2.3556745, -2.7214963, -2.5878098],\n",
              "       [-2.550176 , -2.6097908, -3.1019418],\n",
              "       [-2.7881126, -2.7802083, -2.7051637],\n",
              "       [-3.0725107, -2.2602534, -2.2177927],\n",
              "       [-3.649651 , -2.4725363, -1.8652426],\n",
              "       [-2.4215548, -2.7740324, -2.2216206],\n",
              "       [-2.734634 , -2.2355258, -2.5605125],\n",
              "       [-1.9128653, -2.9178722, -2.4842317],\n",
              "       [-3.2977138, -2.210983 , -2.3957615],\n",
              "       [-2.535867 , -3.1962018, -2.905016 ],\n",
              "       [-2.2943275, -4.1282506, -2.4614062],\n",
              "       [-2.9598944, -2.1871388, -2.5857852],\n",
              "       [-2.3280537, -2.554697 , -2.3452704],\n",
              "       [-2.4277747, -2.5096304, -3.035847 ],\n",
              "       [-3.0886397, -2.5114636, -2.6882691],\n",
              "       [-2.3369005, -2.850072 , -3.0110548],\n",
              "       [-3.056007 , -2.2709603, -3.0571082],\n",
              "       [-2.4870334, -3.0284233, -2.6869304],\n",
              "       [-2.2574906, -3.018431 , -2.706502 ],\n",
              "       [-2.4065285, -2.5239735, -2.9279122],\n",
              "       [-2.3054802, -2.6728182, -2.5813699],\n",
              "       [-3.2184355, -2.595258 , -2.209109 ],\n",
              "       [-3.568625 , -2.1312182, -2.5441208],\n",
              "       [-4.0231285, -2.9616463, -2.9209926],\n",
              "       [-2.4887707, -3.0331652, -2.3213863],\n",
              "       [-3.3603525, -3.1066937, -2.876113 ],\n",
              "       [-2.3660307, -3.3805344, -2.5185528],\n",
              "       [-2.5355854, -3.121315 , -3.7084079],\n",
              "       [-2.855322 , -3.1030793, -2.844245 ],\n",
              "       [-2.8978338, -2.6538363, -2.7033014],\n",
              "       [-2.8263233, -2.8481483, -2.381402 ],\n",
              "       [-2.7781637, -2.4590857, -3.0713348],\n",
              "       [-2.4125338, -2.3582675, -2.228978 ],\n",
              "       [-2.9762619, -2.2006023, -2.7955716],\n",
              "       [-2.4350607, -2.6535408, -3.1534154],\n",
              "       [-3.1129065, -2.385109 , -3.2574337],\n",
              "       [-1.7525737, -2.466277 , -2.8744328],\n",
              "       [-3.913174 , -2.583855 , -2.6759012],\n",
              "       [-2.8856091, -2.4857054, -2.8125033],\n",
              "       [-2.6415198, -2.7779005, -2.0558548],\n",
              "       [-2.1344612, -2.49891  , -3.003736 ],\n",
              "       [-2.8217835, -3.5909822, -2.3668194],\n",
              "       [-2.5719528, -2.9722488, -3.1377242],\n",
              "       [-2.7756984, -3.2184079, -3.2457738],\n",
              "       [-2.5498006, -2.7659295, -2.0439372],\n",
              "       [-2.6722693, -2.1466753, -2.8087318],\n",
              "       [-3.312588 , -2.8463814, -3.02225  ],\n",
              "       [-2.6338205, -2.3403513, -2.1186194],\n",
              "       [-3.1817887, -4.107945 , -3.1284432],\n",
              "       [-2.4404318, -2.048181 , -3.0142393],\n",
              "       [-3.1846602, -2.0734882, -3.073134 ],\n",
              "       [-2.3081782, -2.646262 , -2.9195292],\n",
              "       [-2.771751 , -2.1716294, -3.7366076],\n",
              "       [-3.2514713, -2.912455 , -3.5614614],\n",
              "       [-2.5295868, -2.6668723, -3.0826812],\n",
              "       [-3.6964645, -2.489343 , -2.0457556],\n",
              "       [-2.672538 , -2.7899616, -2.5761743],\n",
              "       [-2.8352313, -2.3573294, -2.387375 ],\n",
              "       [-3.0219407, -2.4247775, -2.0599427],\n",
              "       [-3.11392  , -3.360082 , -2.8169823],\n",
              "       [-2.5182912, -2.456446 , -3.2679517],\n",
              "       [-3.555373 , -2.8744466, -3.256733 ],\n",
              "       [-2.236015 , -2.8872597, -3.085305 ],\n",
              "       [-2.5060453, -2.5199797, -2.8111188],\n",
              "       [-2.3435206, -2.5799205, -2.8735714],\n",
              "       [-2.5115316, -2.4029975, -2.8065395],\n",
              "       [-2.5834315, -2.5600457, -3.97572  ],\n",
              "       [-3.1064532, -3.8991313, -2.5247316],\n",
              "       [-2.3683903, -2.4259405, -2.8667824],\n",
              "       [-2.7514577, -2.9001415, -2.867222 ],\n",
              "       [-2.7247448, -3.1638327, -3.2657578],\n",
              "       [-2.7957888, -3.0078375, -2.427923 ],\n",
              "       [-2.585686 , -2.466326 , -2.4932418],\n",
              "       [-2.9157822, -2.7355638, -2.5792284],\n",
              "       [-2.220655 , -3.1984813, -2.9369931]], dtype=float32)>"
            ]
          },
          "metadata": {},
          "execution_count": 64
        }
      ]
    },
    {
      "cell_type": "code",
      "source": [
        "# Maximum values in rand_tensor_3d along first axis (axis=1)\n",
        "\n",
        "max = tf.reduce_max(rand_tensor_3d, axis=1)\n",
        "max"
      ],
      "metadata": {
        "colab": {
          "base_uri": "https://localhost:8080/"
        },
        "id": "P1YZ8ySLWGkI",
        "outputId": "49f530a9-d8cc-48ba-b674-b05e10e78546"
      },
      "execution_count": null,
      "outputs": [
        {
          "output_type": "execute_result",
          "data": {
            "text/plain": [
              "<tf.Tensor: shape=(224, 3), dtype=float32, numpy=\n",
              "array([[3.6931124, 3.875815 , 2.3918061],\n",
              "       [2.5597692, 2.732857 , 3.3285372],\n",
              "       [3.0758047, 2.9977002, 3.0356796],\n",
              "       [2.8015184, 3.4888377, 2.7154498],\n",
              "       [2.572701 , 2.7158961, 2.8254821],\n",
              "       [2.8526256, 2.3707669, 2.5694616],\n",
              "       [2.7136188, 3.49579  , 3.0577245],\n",
              "       [2.3453343, 2.525589 , 3.4414928],\n",
              "       [2.392164 , 2.5641289, 2.7615914],\n",
              "       [2.2840145, 2.5153866, 2.7226377],\n",
              "       [2.507508 , 3.117597 , 3.1905518],\n",
              "       [2.6446292, 3.3391933, 2.975334 ],\n",
              "       [2.3754334, 2.7091608, 3.0686724],\n",
              "       [2.704627 , 2.781787 , 2.370723 ],\n",
              "       [3.4069333, 2.3803294, 3.0029488],\n",
              "       [2.982242 , 2.8345435, 2.7907505],\n",
              "       [2.8016512, 2.920856 , 2.75311  ],\n",
              "       [2.718816 , 2.8583326, 2.416334 ],\n",
              "       [2.8361244, 2.211527 , 2.9272783],\n",
              "       [3.1569858, 3.1693532, 2.8124444],\n",
              "       [2.8450878, 2.2249713, 2.8822248],\n",
              "       [2.837734 , 2.21551  , 2.6272318],\n",
              "       [2.4533908, 2.967724 , 2.3994057],\n",
              "       [2.3988667, 2.5176787, 3.0364182],\n",
              "       [2.6211672, 3.1479292, 2.6361792],\n",
              "       [3.2213268, 2.6494792, 3.254479 ],\n",
              "       [3.5675066, 2.284955 , 2.5535123],\n",
              "       [2.1968558, 2.3450994, 2.9229293],\n",
              "       [3.0319562, 2.3499506, 2.169947 ],\n",
              "       [2.78769  , 1.8460587, 3.253659 ],\n",
              "       [2.511986 , 2.5410607, 2.4559655],\n",
              "       [2.5207222, 2.4395   , 3.5578346],\n",
              "       [2.6032476, 3.0450063, 2.549337 ],\n",
              "       [2.4224212, 2.4733932, 2.1276133],\n",
              "       [2.4601498, 3.4857066, 3.202035 ],\n",
              "       [2.3136048, 2.529781 , 2.6419063],\n",
              "       [2.6914442, 2.9914155, 2.9087157],\n",
              "       [2.8920224, 2.7727182, 2.6984797],\n",
              "       [4.005459 , 3.0832546, 2.7728975],\n",
              "       [3.003603 , 2.2759643, 3.1351109],\n",
              "       [3.0310326, 2.2311594, 2.097788 ],\n",
              "       [3.2434957, 2.3205822, 2.7803376],\n",
              "       [2.3348186, 2.6374714, 2.9681926],\n",
              "       [2.1043668, 2.4988177, 2.1221406],\n",
              "       [3.0225034, 2.5871863, 2.9589033],\n",
              "       [2.9404793, 2.9746401, 2.890205 ],\n",
              "       [2.6530433, 2.937997 , 2.8287597],\n",
              "       [2.4222634, 3.2492094, 2.3455393],\n",
              "       [2.8231826, 2.5439517, 2.1649647],\n",
              "       [3.6149101, 2.2650332, 2.3959267],\n",
              "       [2.5291197, 3.1686351, 3.1652176],\n",
              "       [2.594019 , 2.5012913, 2.6364527],\n",
              "       [2.6983407, 2.6425807, 2.3992698],\n",
              "       [2.43404  , 2.3509302, 2.4275556],\n",
              "       [3.3699055, 2.763732 , 2.3742087],\n",
              "       [2.489236 , 2.6888003, 2.8179586],\n",
              "       [2.48877  , 3.265788 , 2.4996665],\n",
              "       [2.6049228, 3.617743 , 2.9591582],\n",
              "       [2.5989416, 3.153714 , 4.1586795],\n",
              "       [2.548069 , 2.667307 , 2.083457 ],\n",
              "       [2.6904275, 2.9192004, 2.8593037],\n",
              "       [2.7436762, 2.660297 , 3.6822922],\n",
              "       [2.6771195, 2.6958818, 3.95554  ],\n",
              "       [3.333485 , 2.5841262, 2.3901808],\n",
              "       [2.9959416, 2.3983958, 2.4476151],\n",
              "       [2.7425103, 2.8614028, 2.7925766],\n",
              "       [2.4985464, 2.2323992, 2.225168 ],\n",
              "       [2.7223656, 2.6610866, 3.3088653],\n",
              "       [2.7704904, 2.0355558, 2.6644993],\n",
              "       [2.8194084, 2.7984097, 2.3162167],\n",
              "       [2.6610134, 2.1428752, 2.88808  ],\n",
              "       [2.619631 , 3.0944843, 2.6049511],\n",
              "       [2.5911882, 3.1115115, 3.9740322],\n",
              "       [2.5847929, 2.256559 , 2.5750375],\n",
              "       [2.854083 , 2.6483912, 2.0924408],\n",
              "       [3.3320727, 2.6848176, 3.374048 ],\n",
              "       [2.6309342, 3.0100412, 3.0333574],\n",
              "       [2.5765212, 3.2900677, 2.3153863],\n",
              "       [2.36605  , 2.1374903, 3.1269357],\n",
              "       [2.4636421, 2.9243827, 2.688289 ],\n",
              "       [2.9453382, 2.8795598, 3.1313498],\n",
              "       [2.653337 , 2.1039817, 2.9766986],\n",
              "       [3.4595385, 2.8741925, 2.3401685],\n",
              "       [3.2644067, 2.8337562, 2.126129 ],\n",
              "       [3.354513 , 3.2808154, 2.669491 ],\n",
              "       [2.4475887, 2.4579494, 3.3942814],\n",
              "       [2.8387988, 3.3012075, 2.8951974],\n",
              "       [2.6076484, 2.4233124, 2.3980656],\n",
              "       [2.6576333, 2.6376357, 2.9894211],\n",
              "       [3.2034242, 3.0300815, 2.809786 ],\n",
              "       [3.7108767, 3.209905 , 2.0248811],\n",
              "       [3.9657447, 2.9197874, 2.7521453],\n",
              "       [3.1849124, 2.6635284, 2.8211315],\n",
              "       [2.5208855, 2.9612777, 2.8148305],\n",
              "       [2.975395 , 2.3233428, 2.8684828],\n",
              "       [3.3681233, 2.5660212, 2.870756 ],\n",
              "       [3.0788298, 2.967609 , 2.4506168],\n",
              "       [2.725695 , 2.9912832, 2.154688 ],\n",
              "       [3.0357633, 3.075158 , 3.889916 ],\n",
              "       [2.6978245, 2.7387078, 3.2425344],\n",
              "       [2.5855386, 2.0263073, 2.5222278],\n",
              "       [2.3736093, 2.569909 , 2.5021987],\n",
              "       [2.7221668, 2.5804813, 2.779583 ],\n",
              "       [2.204383 , 2.8065429, 2.910482 ],\n",
              "       [2.829996 , 2.2726119, 2.8457308],\n",
              "       [3.0818744, 2.62403  , 2.501696 ],\n",
              "       [3.4965234, 3.8337066, 3.3931851],\n",
              "       [2.2808986, 3.0292976, 2.984553 ],\n",
              "       [3.0153558, 3.632786 , 3.0503592],\n",
              "       [2.575042 , 2.51629  , 3.4439456],\n",
              "       [4.122703 , 2.803168 , 2.404245 ],\n",
              "       [1.9986458, 3.0179467, 3.1899214],\n",
              "       [2.7101812, 2.8726642, 2.7001255],\n",
              "       [2.942787 , 2.8435533, 2.2274368],\n",
              "       [2.3610919, 2.5203736, 2.1787977],\n",
              "       [3.260492 , 2.8351014, 2.2337372],\n",
              "       [3.319052 , 2.1630125, 3.7775187],\n",
              "       [2.3430305, 2.5274136, 2.3151348],\n",
              "       [2.9944177, 3.53184  , 2.1665888],\n",
              "       [3.080217 , 2.3624313, 2.6788979],\n",
              "       [2.8328779, 2.5365596, 2.7394788],\n",
              "       [2.8612797, 2.4789631, 2.3688679],\n",
              "       [3.1761982, 3.0745769, 2.9191601],\n",
              "       [2.661988 , 2.715738 , 1.9289837],\n",
              "       [2.512461 , 2.9734623, 2.2895246],\n",
              "       [2.6694593, 2.189835 , 2.8402162],\n",
              "       [2.3877945, 2.3853042, 2.4009316],\n",
              "       [2.9930408, 2.4849162, 3.1611109],\n",
              "       [2.2457585, 2.1205063, 2.7440856],\n",
              "       [2.5294952, 2.3138063, 2.5452023],\n",
              "       [2.1874387, 2.650272 , 2.9371688],\n",
              "       [2.4102626, 2.8369758, 2.735712 ],\n",
              "       [2.3174193, 2.3458595, 2.0614731],\n",
              "       [2.3092904, 2.3723526, 2.3480608],\n",
              "       [3.5567534, 2.7344584, 3.242266 ],\n",
              "       [3.054025 , 2.5587144, 3.8770068],\n",
              "       [3.475899 , 2.5032542, 2.4071658],\n",
              "       [3.3307538, 2.5288956, 2.6796424],\n",
              "       [2.792777 , 4.0111604, 3.3897114],\n",
              "       [2.3149648, 2.9850266, 3.1037285],\n",
              "       [2.511757 , 2.7122958, 2.7710555],\n",
              "       [2.658464 , 2.6048684, 2.7584877],\n",
              "       [2.4997616, 2.8564892, 2.5151777],\n",
              "       [2.4585278, 2.0917535, 3.8185701],\n",
              "       [2.3827636, 2.2376456, 3.2486236],\n",
              "       [3.531111 , 3.7269266, 2.5244977],\n",
              "       [3.2108681, 3.5972075, 2.960527 ],\n",
              "       [3.2644851, 2.0539937, 2.5782692],\n",
              "       [2.754324 , 3.258459 , 2.8496137],\n",
              "       [2.3530524, 2.1476386, 2.4902127],\n",
              "       [2.6018229, 2.2382963, 3.558557 ],\n",
              "       [2.9503968, 3.0703275, 2.1044464],\n",
              "       [2.5499752, 2.0998955, 3.2442634],\n",
              "       [3.137107 , 2.3015385, 2.904009 ],\n",
              "       [2.543515 , 4.353259 , 1.8183067],\n",
              "       [3.4483554, 2.6178772, 2.8354652],\n",
              "       [2.6354766, 3.1281934, 2.7231767],\n",
              "       [2.852559 , 3.0749068, 2.7193434],\n",
              "       [2.7481508, 3.1214864, 2.4795315],\n",
              "       [2.8441362, 3.2353196, 2.6535919],\n",
              "       [3.0110476, 2.7222023, 2.4059958],\n",
              "       [2.448037 , 2.895654 , 2.5223382],\n",
              "       [2.5112534, 2.4378483, 2.5192468],\n",
              "       [2.367292 , 2.8745503, 2.7959316],\n",
              "       [3.0072155, 2.7032926, 2.794859 ],\n",
              "       [2.668674 , 2.4649622, 2.422011 ],\n",
              "       [2.142536 , 2.6798644, 2.2923017],\n",
              "       [2.3201647, 2.3386836, 2.2323444],\n",
              "       [2.3022308, 2.963755 , 2.2466102],\n",
              "       [2.5307565, 2.5975866, 2.4103954],\n",
              "       [2.6962724, 2.498413 , 2.5516086],\n",
              "       [3.709353 , 2.6055932, 2.8660004],\n",
              "       [2.445554 , 2.5686018, 3.0791   ],\n",
              "       [2.531515 , 2.4138086, 2.7813718],\n",
              "       [2.7348053, 3.0111103, 3.3356993],\n",
              "       [2.4572341, 2.1825135, 2.6514955],\n",
              "       [2.1083405, 2.6943452, 2.4820952],\n",
              "       [2.556598 , 2.7415707, 3.1835413],\n",
              "       [2.4538662, 2.8057923, 2.756862 ],\n",
              "       [4.4307184, 2.5270638, 2.439461 ],\n",
              "       [2.150033 , 3.6456275, 3.579621 ],\n",
              "       [2.22498  , 2.8619554, 2.0438344],\n",
              "       [2.9970312, 3.1714983, 3.3029788],\n",
              "       [2.8551967, 2.5985138, 2.3598351],\n",
              "       [2.7531614, 2.8706255, 3.4764128],\n",
              "       [2.618963 , 3.151379 , 2.9020736],\n",
              "       [2.2062738, 2.3783958, 3.0122633],\n",
              "       [3.3237853, 2.6735706, 2.2324784],\n",
              "       [2.6520078, 2.1323454, 2.4837294],\n",
              "       [2.5105987, 2.8920095, 2.9047093],\n",
              "       [2.4080658, 3.4297898, 3.4163582],\n",
              "       [3.8984904, 2.9503505, 2.8447113],\n",
              "       [2.8116949, 3.0818193, 2.3450003],\n",
              "       [2.2175424, 2.6747596, 2.158291 ],\n",
              "       [2.6701767, 3.4315364, 2.9635313],\n",
              "       [2.6825547, 1.972253 , 2.9454017],\n",
              "       [2.6673982, 2.4127746, 2.7523808],\n",
              "       [2.2710283, 2.7387602, 2.8423617],\n",
              "       [2.8076456, 2.540607 , 2.6879373],\n",
              "       [2.4669542, 2.474238 , 2.6094394],\n",
              "       [2.3309264, 2.694731 , 2.4650226],\n",
              "       [2.9988716, 2.8331454, 3.2102938],\n",
              "       [3.0194995, 3.0608563, 2.4139493],\n",
              "       [2.4149435, 3.5844243, 2.1911936],\n",
              "       [3.043236 , 2.4585323, 2.7995794],\n",
              "       [3.270131 , 3.0878665, 2.659232 ],\n",
              "       [2.8209836, 2.6592646, 2.6736226],\n",
              "       [2.448403 , 1.9008384, 2.9371684],\n",
              "       [3.5027   , 2.8891437, 2.2145495],\n",
              "       [2.931159 , 2.694179 , 2.4874437],\n",
              "       [2.586955 , 3.004378 , 2.6524436],\n",
              "       [2.2683105, 2.901084 , 2.8732598],\n",
              "       [3.6141365, 2.855287 , 2.6324403],\n",
              "       [2.3972058, 2.6433976, 2.9043143],\n",
              "       [3.106358 , 3.1807575, 3.7590723],\n",
              "       [3.0451415, 3.26598  , 2.6299973],\n",
              "       [2.3956063, 2.1909578, 2.5144007],\n",
              "       [2.7704866, 2.7580252, 2.5662973],\n",
              "       [2.6455212, 2.8620362, 2.5685055],\n",
              "       [2.6287832, 2.496588 , 3.0377636],\n",
              "       [3.122379 , 2.9966998, 4.070108 ],\n",
              "       [2.6537783, 2.9331105, 3.1871507],\n",
              "       [2.592126 , 3.759243 , 2.4236631],\n",
              "       [2.6974323, 2.3982804, 2.5742972]], dtype=float32)>"
            ]
          },
          "metadata": {},
          "execution_count": 65
        }
      ]
    },
    {
      "cell_type": "markdown",
      "source": [
        "---"
      ],
      "metadata": {
        "id": "HbfZCfuEQCK8"
      }
    },
    {
      "cell_type": "markdown",
      "source": [
        "---"
      ],
      "metadata": {
        "id": "rWuvQ9bUQDTB"
      }
    },
    {
      "cell_type": "markdown",
      "source": [
        "## **8. Created a tensor with random values of shape [1, 224, 224, 3] then squeeze it to change the shape to [224, 224, 3].**"
      ],
      "metadata": {
        "id": "edG4uCZtPKLG"
      }
    },
    {
      "cell_type": "code",
      "source": [
        "tf.random.set_seed(13)\n",
        "rand_tensor_4d = tf.random.normal([1, 224, 224, 3])\n",
        "rand_tensor_4d.shape"
      ],
      "metadata": {
        "colab": {
          "base_uri": "https://localhost:8080/"
        },
        "id": "SqmR-ewMQLcm",
        "outputId": "30c4c449-03e7-4ee6-ba54-8ba0ee2dbd74"
      },
      "execution_count": null,
      "outputs": [
        {
          "output_type": "execute_result",
          "data": {
            "text/plain": [
              "TensorShape([1, 224, 224, 3])"
            ]
          },
          "metadata": {},
          "execution_count": 66
        }
      ]
    },
    {
      "cell_type": "code",
      "source": [
        "rand_squeezed_3d = tf.squeeze(rand_tensor_4d)\n",
        "rand_squeezed_3d.shape"
      ],
      "metadata": {
        "colab": {
          "base_uri": "https://localhost:8080/"
        },
        "id": "kCXdvdBJXTQn",
        "outputId": "c55ba2e5-836b-4652-869a-796952382b11"
      },
      "execution_count": null,
      "outputs": [
        {
          "output_type": "execute_result",
          "data": {
            "text/plain": [
              "TensorShape([224, 224, 3])"
            ]
          },
          "metadata": {},
          "execution_count": 67
        }
      ]
    },
    {
      "cell_type": "markdown",
      "source": [
        "---"
      ],
      "metadata": {
        "id": "e7iskFzwQLok"
      }
    },
    {
      "cell_type": "markdown",
      "source": [
        "---"
      ],
      "metadata": {
        "id": "WL1xtjyoQMrj"
      }
    },
    {
      "cell_type": "markdown",
      "source": [
        "## **9. Create a tensor with shape [10] using your own choice of values, then find the index which has the maximum value.**"
      ],
      "metadata": {
        "id": "ghJf9H8cPMeM"
      }
    },
    {
      "cell_type": "code",
      "source": [
        "tf.random.set_seed(20)\n",
        "random_numbers = tf.range(0, 11)\n",
        "random_numbers = tf.random.shuffle(random_numbers)\n",
        "random_numbers"
      ],
      "metadata": {
        "colab": {
          "base_uri": "https://localhost:8080/"
        },
        "id": "sfHaJrkcQR-P",
        "outputId": "aa64595b-bc28-4561-9023-259ad047f6dd"
      },
      "execution_count": null,
      "outputs": [
        {
          "output_type": "execute_result",
          "data": {
            "text/plain": [
              "<tf.Tensor: shape=(11,), dtype=int32, numpy=array([ 2,  0, 10,  6,  7,  5,  8,  3,  9,  1,  4], dtype=int32)>"
            ]
          },
          "metadata": {},
          "execution_count": 82
        }
      ]
    },
    {
      "cell_type": "code",
      "source": [
        "max_ind = tf.argmax(random_numbers)\n",
        "max_ind"
      ],
      "metadata": {
        "colab": {
          "base_uri": "https://localhost:8080/"
        },
        "id": "uY3fDCXRYwL5",
        "outputId": "914dcc39-8af2-438c-d261-b261426caec5"
      },
      "execution_count": null,
      "outputs": [
        {
          "output_type": "execute_result",
          "data": {
            "text/plain": [
              "<tf.Tensor: shape=(), dtype=int64, numpy=2>"
            ]
          },
          "metadata": {},
          "execution_count": 83
        }
      ]
    },
    {
      "cell_type": "code",
      "source": [
        "random_numbers[tf.argmax(random_numbers)]"
      ],
      "metadata": {
        "colab": {
          "base_uri": "https://localhost:8080/"
        },
        "id": "nbvClj68Y524",
        "outputId": "aefffe91-ea4c-41f1-b8cd-978199e2aab3"
      },
      "execution_count": null,
      "outputs": [
        {
          "output_type": "execute_result",
          "data": {
            "text/plain": [
              "<tf.Tensor: shape=(), dtype=int32, numpy=10>"
            ]
          },
          "metadata": {},
          "execution_count": 84
        }
      ]
    },
    {
      "cell_type": "markdown",
      "source": [
        "---"
      ],
      "metadata": {
        "id": "XAerIdjkQSVz"
      }
    },
    {
      "cell_type": "markdown",
      "source": [
        "---"
      ],
      "metadata": {
        "id": "XVMP0vOYQTle"
      }
    },
    {
      "cell_type": "markdown",
      "source": [
        "## **10. One-hot encode the tensor you created in 9.**"
      ],
      "metadata": {
        "id": "xHjV3DIJPO86"
      }
    },
    {
      "cell_type": "code",
      "source": [
        "tf.one_hot(random_numbers, depth=10)"
      ],
      "metadata": {
        "colab": {
          "base_uri": "https://localhost:8080/"
        },
        "id": "qY8uK_dfQX-z",
        "outputId": "356fcc01-39cc-4a09-c4cb-28565afcd662"
      },
      "execution_count": null,
      "outputs": [
        {
          "output_type": "execute_result",
          "data": {
            "text/plain": [
              "<tf.Tensor: shape=(11, 10), dtype=float32, numpy=\n",
              "array([[0., 0., 1., 0., 0., 0., 0., 0., 0., 0.],\n",
              "       [1., 0., 0., 0., 0., 0., 0., 0., 0., 0.],\n",
              "       [0., 0., 0., 0., 0., 0., 0., 0., 0., 0.],\n",
              "       [0., 0., 0., 0., 0., 0., 1., 0., 0., 0.],\n",
              "       [0., 0., 0., 0., 0., 0., 0., 1., 0., 0.],\n",
              "       [0., 0., 0., 0., 0., 1., 0., 0., 0., 0.],\n",
              "       [0., 0., 0., 0., 0., 0., 0., 0., 1., 0.],\n",
              "       [0., 0., 0., 1., 0., 0., 0., 0., 0., 0.],\n",
              "       [0., 0., 0., 0., 0., 0., 0., 0., 0., 1.],\n",
              "       [0., 1., 0., 0., 0., 0., 0., 0., 0., 0.],\n",
              "       [0., 0., 0., 0., 1., 0., 0., 0., 0., 0.]], dtype=float32)>"
            ]
          },
          "metadata": {},
          "execution_count": 85
        }
      ]
    },
    {
      "cell_type": "code",
      "source": [
        "tf.one_hot(random_numbers, depth=5)"
      ],
      "metadata": {
        "colab": {
          "base_uri": "https://localhost:8080/"
        },
        "id": "DBSuoMV5ZYxK",
        "outputId": "dfd5712f-3dc9-4b26-da9e-6f99062ec29e"
      },
      "execution_count": null,
      "outputs": [
        {
          "output_type": "execute_result",
          "data": {
            "text/plain": [
              "<tf.Tensor: shape=(11, 5), dtype=float32, numpy=\n",
              "array([[0., 0., 1., 0., 0.],\n",
              "       [1., 0., 0., 0., 0.],\n",
              "       [0., 0., 0., 0., 0.],\n",
              "       [0., 0., 0., 0., 0.],\n",
              "       [0., 0., 0., 0., 0.],\n",
              "       [0., 0., 0., 0., 0.],\n",
              "       [0., 0., 0., 0., 0.],\n",
              "       [0., 0., 0., 1., 0.],\n",
              "       [0., 0., 0., 0., 0.],\n",
              "       [0., 1., 0., 0., 0.],\n",
              "       [0., 0., 0., 0., 1.]], dtype=float32)>"
            ]
          },
          "metadata": {},
          "execution_count": 86
        }
      ]
    },
    {
      "cell_type": "code",
      "source": [
        "tf.one_hot(random_numbers, depth=10, on_value='A', off_value='L', dtype=tf.string)"
      ],
      "metadata": {
        "colab": {
          "base_uri": "https://localhost:8080/"
        },
        "id": "v1q1pNJ2ZgJZ",
        "outputId": "9f07391e-04f3-4865-d8af-9853e202aa63"
      },
      "execution_count": null,
      "outputs": [
        {
          "output_type": "execute_result",
          "data": {
            "text/plain": [
              "<tf.Tensor: shape=(11, 10), dtype=string, numpy=\n",
              "array([[b'L', b'L', b'A', b'L', b'L', b'L', b'L', b'L', b'L', b'L'],\n",
              "       [b'A', b'L', b'L', b'L', b'L', b'L', b'L', b'L', b'L', b'L'],\n",
              "       [b'L', b'L', b'L', b'L', b'L', b'L', b'L', b'L', b'L', b'L'],\n",
              "       [b'L', b'L', b'L', b'L', b'L', b'L', b'A', b'L', b'L', b'L'],\n",
              "       [b'L', b'L', b'L', b'L', b'L', b'L', b'L', b'A', b'L', b'L'],\n",
              "       [b'L', b'L', b'L', b'L', b'L', b'A', b'L', b'L', b'L', b'L'],\n",
              "       [b'L', b'L', b'L', b'L', b'L', b'L', b'L', b'L', b'A', b'L'],\n",
              "       [b'L', b'L', b'L', b'A', b'L', b'L', b'L', b'L', b'L', b'L'],\n",
              "       [b'L', b'L', b'L', b'L', b'L', b'L', b'L', b'L', b'L', b'A'],\n",
              "       [b'L', b'A', b'L', b'L', b'L', b'L', b'L', b'L', b'L', b'L'],\n",
              "       [b'L', b'L', b'L', b'L', b'A', b'L', b'L', b'L', b'L', b'L']],\n",
              "      dtype=object)>"
            ]
          },
          "metadata": {},
          "execution_count": 91
        }
      ]
    },
    {
      "cell_type": "markdown",
      "source": [
        "---"
      ],
      "metadata": {
        "id": "4Wos7h7YPQl2"
      }
    },
    {
      "cell_type": "markdown",
      "source": [
        "---"
      ],
      "metadata": {
        "id": "-ulApRNuQZ1Q"
      }
    },
    {
      "cell_type": "markdown",
      "source": [
        "# **📖 00. TensorFlow Fundamentals Extra-curriculum**\n",
        "\n",
        "* Read through the list of TensorFlow Python APIs, pick one we haven't gone through in this notebook, reverse engineer it (write out the documentation code for yourself) and figure out what it does.\n",
        "\n",
        "* Try to create a series of tensor functions to calculate your most recent grocery bill (it's okay if you don't use the names of the items, just the price in numerical form).\n",
        " * How would you calculate your grocery bill for the month and for the year using tensors?\n",
        "\n",
        "* Go through the TensorFlow 2.x quick start for beginners tutorial (be sure to type out all of the code yourself, even if you don't understand it).\n",
        " * Are there any functions we used in here that match what's used in there? Which are the same? Which haven't you seen before?\n",
        "\n",
        "* Watch the video \"What's a tensor?\" - a great visual introduction to many of the concepts we've covered in this notebook."
      ],
      "metadata": {
        "id": "FhwXm7tgdfwm"
      }
    },
    {
      "cell_type": "markdown",
      "source": [
        "---"
      ],
      "metadata": {
        "id": "DtUYCztpeAGb"
      }
    },
    {
      "cell_type": "markdown",
      "source": [
        "---"
      ],
      "metadata": {
        "id": "_U1G0hSQeHD7"
      }
    }
  ]
}