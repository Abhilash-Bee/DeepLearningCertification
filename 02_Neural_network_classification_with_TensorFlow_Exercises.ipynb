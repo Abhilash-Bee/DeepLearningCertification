{
  "nbformat": 4,
  "nbformat_minor": 0,
  "metadata": {
    "colab": {
      "provenance": [],
      "toc_visible": true,
      "mount_file_id": "13pzGCIPeXC-oBwvirntV1uKB_3k_2iP9",
      "authorship_tag": "ABX9TyPORr81VNDdL6IszQPtW/L0",
      "include_colab_link": true
    },
    "kernelspec": {
      "name": "python3",
      "display_name": "Python 3"
    },
    "language_info": {
      "name": "python"
    }
  },
  "cells": [
    {
      "cell_type": "markdown",
      "metadata": {
        "id": "view-in-github",
        "colab_type": "text"
      },
      "source": [
        "<a href=\"https://colab.research.google.com/github/Abhilash-Bee/DeepLearningCertification/blob/main/02_Neural_network_classification_with_TensorFlow_Exercises.ipynb\" target=\"_parent\"><img src=\"https://colab.research.google.com/assets/colab-badge.svg\" alt=\"Open In Colab\"/></a>"
      ]
    },
    {
      "cell_type": "markdown",
      "source": [
        "# 🛠 **02. Neural network classification with TensorFlow Exercises**\n",
        "\n",
        "1. Play with neural networks in the [TensorFlow Playground](https://playground.tensorflow.org/) for 10-minutes. Especially try different values of the learning, what happens when you decrease it? What happens when you increase it?\n",
        "2. Replicate the model pictured in the [TensorFlow Playground diagram](https://playground.tensorflow.org/#activation=relu&batchSize=10&dataset=circle&regDataset=reg-plane&learningRate=0.001&regularizationRate=0&noise=0&networkShape=6,6,6,6,6&seed=0.51287&showTestData=false&discretize=false&percTrainData=50&x=true&y=true&xTimesY=false&xSquared=false&ySquared=false&cosX=false&sinX=false&cosY=false&sinY=false&collectStats=false&problem=classification&initZero=false&hideText=false&regularization_hide=true&discretize_hide=true&regularizationRate_hide=true&percTrainData_hide=true&dataset_hide=true&problem_hide=true&noise_hide=true&batchSize_hide=true) below using TensorFlow code. Compile it using the Adam optimizer, binary crossentropy loss and accuracy metric. Once it's compiled check a summary of the model.\n",
        "![tensorflow playground example neural network](https://raw.githubusercontent.com/mrdbourke/tensorflow-deep-learning/main/images/02-tensorflow-playground-replication-exercise.png)\n",
        "*Try this network out for yourself on the [TensorFlow Playground website](https://playground.tensorflow.org/#activation=relu&batchSize=10&dataset=circle&regDataset=reg-plane&learningRate=0.001&regularizationRate=0&noise=0&networkShape=6,6,6,6,6&seed=0.51287&showTestData=false&discretize=false&percTrainData=50&x=true&y=true&xTimesY=false&xSquared=false&ySquared=false&cosX=false&sinX=false&cosY=false&sinY=false&collectStats=false&problem=classification&initZero=false&hideText=false&regularization_hide=true&discretize_hide=true&regularizationRate_hide=true&percTrainData_hide=true&dataset_hide=true&problem_hide=true&noise_hide=true&batchSize_hide=true). Hint: there are 5 hidden layers but the output layer isn't pictured, you'll have to decide what the output layer should be based on the input data.*\n",
        "3. Create a classification dataset using Scikit-Learn's [`make_moons()`](https://scikit-learn.org/stable/modules/generated/sklearn.datasets.make_moons.html) function, visualize it and then build a model to fit it at over 85% accuracy.\n",
        "4. Train a model to get 88%+ accuracy on the fashion MNIST test set. Plot a confusion matrix to see the results after.\n",
        "5. Recreate [TensorFlow's](https://www.tensorflow.org/api_docs/python/tf/keras/activations/softmax) [softmax activation function](https://en.wikipedia.org/wiki/Softmax_function) in your own code. Make sure it can accept a tensor and return that tensor after having the softmax function applied to it.\n",
        "6. Create a function (or write code) to visualize multiple image predictions for the fashion MNIST at the same time. Plot at least three different images and their prediction labels at the same time. Hint: see the [classification tutorial in the TensorFlow documentation](https://www.tensorflow.org/tutorials/keras/classification) for ideas.\n",
        "7. Make a function to show an image of a certain class of the fashion MNIST dataset and make a prediction on it. For example, plot 3 images of the `T-shirt` class with their predictions.\n"
      ],
      "metadata": {
        "id": "v-y7QeM9ZtIS"
      }
    },
    {
      "cell_type": "markdown",
      "source": [
        "---"
      ],
      "metadata": {
        "id": "fKdMzFRzcVuQ"
      }
    },
    {
      "cell_type": "markdown",
      "source": [
        "---"
      ],
      "metadata": {
        "id": "jCAyH8pMcWxI"
      }
    },
    {
      "cell_type": "markdown",
      "source": [
        "## **0. Import the TensorFlow**"
      ],
      "metadata": {
        "id": "lp2RNsP1cY_R"
      }
    },
    {
      "cell_type": "code",
      "source": [
        "import tensorflow as tf\n",
        "\n",
        "tf.__version__"
      ],
      "metadata": {
        "colab": {
          "base_uri": "https://localhost:8080/",
          "height": 34
        },
        "id": "I0uXTZ5BchHs",
        "outputId": "2e6f219e-074d-4d73-fd67-618c9e758e75"
      },
      "execution_count": null,
      "outputs": [
        {
          "output_type": "execute_result",
          "data": {
            "text/plain": [
              "'2.15.0'"
            ],
            "application/vnd.google.colaboratory.intrinsic+json": {
              "type": "string"
            }
          },
          "metadata": {},
          "execution_count": 2
        }
      ]
    },
    {
      "cell_type": "code",
      "source": [
        "import numpy as np\n",
        "import pandas as pd\n",
        "import matplotlib.pyplot as plt\n",
        "import seaborn as sns\n",
        "import matplotlib"
      ],
      "metadata": {
        "id": "7wf20Q8pcoQX"
      },
      "execution_count": null,
      "outputs": []
    },
    {
      "cell_type": "markdown",
      "source": [
        "---"
      ],
      "metadata": {
        "id": "_ghL14i2dASq"
      }
    },
    {
      "cell_type": "markdown",
      "source": [
        "---"
      ],
      "metadata": {
        "id": "HuHMQGG6dBug"
      }
    },
    {
      "cell_type": "markdown",
      "source": [
        "## **1. Play with neural networks in the [TensorFlow Playground](https://playground.tensorflow.org/) for 10-minutes. Especially try different values of the learning, what happens when you decrease it? What happens when you increase it?**"
      ],
      "metadata": {
        "id": "nCOKUt7XdxsM"
      }
    },
    {
      "cell_type": "markdown",
      "source": [
        "---"
      ],
      "metadata": {
        "id": "hM6lHKC8eJLW"
      }
    },
    {
      "cell_type": "markdown",
      "source": [
        "---"
      ],
      "metadata": {
        "id": "02hCYd6MeKNC"
      }
    },
    {
      "cell_type": "markdown",
      "source": [
        "## **2. Replicate the model pictured in the [TensorFlow Playground diagram](https://playground.tensorflow.org/#activation=relu&batchSize=10&dataset=circle&regDataset=reg-plane&learningRate=0.001&regularizationRate=0&noise=0&networkShape=6,6,6,6,6&seed=0.51287&showTestData=false&discretize=false&percTrainData=50&x=true&y=true&xTimesY=false&xSquared=false&ySquared=false&cosX=false&sinX=false&cosY=false&sinY=false&collectStats=false&problem=classification&initZero=false&hideText=false&regularization_hide=true&discretize_hide=true&regularizationRate_hide=true&percTrainData_hide=true&dataset_hide=true&problem_hide=true&noise_hide=true&batchSize_hide=true) below using TensorFlow code. Compile it using the Adam optimizer, binary crossentropy loss and accuracy metric. Once it's compiled check a summary of the model.**"
      ],
      "metadata": {
        "id": "qRmmyYrDeHvU"
      }
    },
    {
      "cell_type": "markdown",
      "source": [
        "---"
      ],
      "metadata": {
        "id": "YPiPK3uWdw9I"
      }
    },
    {
      "cell_type": "markdown",
      "source": [
        "---"
      ],
      "metadata": {
        "id": "-XjmrD7BeS9g"
      }
    },
    {
      "cell_type": "markdown",
      "source": [
        "## **3. Create a classification dataset using Scikit-Learn's [`make_moons()`](https://scikit-learn.org/stable/modules/generated/sklearn.datasets.make_moons.html) function, visualize it and then build a model to fit it at over 85% accuracy.**\n"
      ],
      "metadata": {
        "id": "2LS904OWdCiy"
      }
    },
    {
      "cell_type": "markdown",
      "source": [
        "### **Data Preprocessing**"
      ],
      "metadata": {
        "id": "wyjcQTSAhtKu"
      }
    },
    {
      "cell_type": "code",
      "source": [
        "from sklearn.datasets import make_moons\n",
        "\n",
        "X, y = make_moons(n_samples=1000, noise=0.03, random_state=8)"
      ],
      "metadata": {
        "id": "aVFb2v8Me0O1"
      },
      "execution_count": null,
      "outputs": []
    },
    {
      "cell_type": "code",
      "source": [
        "X = pd.DataFrame(X, columns=['X0', 'X1'])\n",
        "X.head()"
      ],
      "metadata": {
        "colab": {
          "base_uri": "https://localhost:8080/",
          "height": 204
        },
        "id": "I2M_0Fygfjgf",
        "outputId": "fb1e7b04-b812-4b57-ea87-da96257d6758"
      },
      "execution_count": null,
      "outputs": [
        {
          "output_type": "execute_result",
          "data": {
            "text/plain": [
              "         X0        X1\n",
              "0  1.831728 -0.000631\n",
              "1 -0.069368  1.017884\n",
              "2  0.296687 -0.224581\n",
              "3 -0.496681  0.909355\n",
              "4 -0.007274  1.012325"
            ],
            "text/html": [
              "\n",
              "  <div id=\"df-63619b0c-9f2e-46a4-9128-e03c606eba0c\" class=\"colab-df-container\">\n",
              "    <div>\n",
              "<style scoped>\n",
              "    .dataframe tbody tr th:only-of-type {\n",
              "        vertical-align: middle;\n",
              "    }\n",
              "\n",
              "    .dataframe tbody tr th {\n",
              "        vertical-align: top;\n",
              "    }\n",
              "\n",
              "    .dataframe thead th {\n",
              "        text-align: right;\n",
              "    }\n",
              "</style>\n",
              "<table border=\"1\" class=\"dataframe\">\n",
              "  <thead>\n",
              "    <tr style=\"text-align: right;\">\n",
              "      <th></th>\n",
              "      <th>X0</th>\n",
              "      <th>X1</th>\n",
              "    </tr>\n",
              "  </thead>\n",
              "  <tbody>\n",
              "    <tr>\n",
              "      <th>0</th>\n",
              "      <td>1.831728</td>\n",
              "      <td>-0.000631</td>\n",
              "    </tr>\n",
              "    <tr>\n",
              "      <th>1</th>\n",
              "      <td>-0.069368</td>\n",
              "      <td>1.017884</td>\n",
              "    </tr>\n",
              "    <tr>\n",
              "      <th>2</th>\n",
              "      <td>0.296687</td>\n",
              "      <td>-0.224581</td>\n",
              "    </tr>\n",
              "    <tr>\n",
              "      <th>3</th>\n",
              "      <td>-0.496681</td>\n",
              "      <td>0.909355</td>\n",
              "    </tr>\n",
              "    <tr>\n",
              "      <th>4</th>\n",
              "      <td>-0.007274</td>\n",
              "      <td>1.012325</td>\n",
              "    </tr>\n",
              "  </tbody>\n",
              "</table>\n",
              "</div>\n",
              "    <div class=\"colab-df-buttons\">\n",
              "\n",
              "  <div class=\"colab-df-container\">\n",
              "    <button class=\"colab-df-convert\" onclick=\"convertToInteractive('df-63619b0c-9f2e-46a4-9128-e03c606eba0c')\"\n",
              "            title=\"Convert this dataframe to an interactive table.\"\n",
              "            style=\"display:none;\">\n",
              "\n",
              "  <svg xmlns=\"http://www.w3.org/2000/svg\" height=\"24px\" viewBox=\"0 -960 960 960\">\n",
              "    <path d=\"M120-120v-720h720v720H120Zm60-500h600v-160H180v160Zm220 220h160v-160H400v160Zm0 220h160v-160H400v160ZM180-400h160v-160H180v160Zm440 0h160v-160H620v160ZM180-180h160v-160H180v160Zm440 0h160v-160H620v160Z\"/>\n",
              "  </svg>\n",
              "    </button>\n",
              "\n",
              "  <style>\n",
              "    .colab-df-container {\n",
              "      display:flex;\n",
              "      gap: 12px;\n",
              "    }\n",
              "\n",
              "    .colab-df-convert {\n",
              "      background-color: #E8F0FE;\n",
              "      border: none;\n",
              "      border-radius: 50%;\n",
              "      cursor: pointer;\n",
              "      display: none;\n",
              "      fill: #1967D2;\n",
              "      height: 32px;\n",
              "      padding: 0 0 0 0;\n",
              "      width: 32px;\n",
              "    }\n",
              "\n",
              "    .colab-df-convert:hover {\n",
              "      background-color: #E2EBFA;\n",
              "      box-shadow: 0px 1px 2px rgba(60, 64, 67, 0.3), 0px 1px 3px 1px rgba(60, 64, 67, 0.15);\n",
              "      fill: #174EA6;\n",
              "    }\n",
              "\n",
              "    .colab-df-buttons div {\n",
              "      margin-bottom: 4px;\n",
              "    }\n",
              "\n",
              "    [theme=dark] .colab-df-convert {\n",
              "      background-color: #3B4455;\n",
              "      fill: #D2E3FC;\n",
              "    }\n",
              "\n",
              "    [theme=dark] .colab-df-convert:hover {\n",
              "      background-color: #434B5C;\n",
              "      box-shadow: 0px 1px 3px 1px rgba(0, 0, 0, 0.15);\n",
              "      filter: drop-shadow(0px 1px 2px rgba(0, 0, 0, 0.3));\n",
              "      fill: #FFFFFF;\n",
              "    }\n",
              "  </style>\n",
              "\n",
              "    <script>\n",
              "      const buttonEl =\n",
              "        document.querySelector('#df-63619b0c-9f2e-46a4-9128-e03c606eba0c button.colab-df-convert');\n",
              "      buttonEl.style.display =\n",
              "        google.colab.kernel.accessAllowed ? 'block' : 'none';\n",
              "\n",
              "      async function convertToInteractive(key) {\n",
              "        const element = document.querySelector('#df-63619b0c-9f2e-46a4-9128-e03c606eba0c');\n",
              "        const dataTable =\n",
              "          await google.colab.kernel.invokeFunction('convertToInteractive',\n",
              "                                                    [key], {});\n",
              "        if (!dataTable) return;\n",
              "\n",
              "        const docLinkHtml = 'Like what you see? Visit the ' +\n",
              "          '<a target=\"_blank\" href=https://colab.research.google.com/notebooks/data_table.ipynb>data table notebook</a>'\n",
              "          + ' to learn more about interactive tables.';\n",
              "        element.innerHTML = '';\n",
              "        dataTable['output_type'] = 'display_data';\n",
              "        await google.colab.output.renderOutput(dataTable, element);\n",
              "        const docLink = document.createElement('div');\n",
              "        docLink.innerHTML = docLinkHtml;\n",
              "        element.appendChild(docLink);\n",
              "      }\n",
              "    </script>\n",
              "  </div>\n",
              "\n",
              "\n",
              "<div id=\"df-e293eb70-cbc6-4725-94ac-4b991999d9a0\">\n",
              "  <button class=\"colab-df-quickchart\" onclick=\"quickchart('df-e293eb70-cbc6-4725-94ac-4b991999d9a0')\"\n",
              "            title=\"Suggest charts\"\n",
              "            style=\"display:none;\">\n",
              "\n",
              "<svg xmlns=\"http://www.w3.org/2000/svg\" height=\"24px\"viewBox=\"0 0 24 24\"\n",
              "     width=\"24px\">\n",
              "    <g>\n",
              "        <path d=\"M19 3H5c-1.1 0-2 .9-2 2v14c0 1.1.9 2 2 2h14c1.1 0 2-.9 2-2V5c0-1.1-.9-2-2-2zM9 17H7v-7h2v7zm4 0h-2V7h2v10zm4 0h-2v-4h2v4z\"/>\n",
              "    </g>\n",
              "</svg>\n",
              "  </button>\n",
              "\n",
              "<style>\n",
              "  .colab-df-quickchart {\n",
              "      --bg-color: #E8F0FE;\n",
              "      --fill-color: #1967D2;\n",
              "      --hover-bg-color: #E2EBFA;\n",
              "      --hover-fill-color: #174EA6;\n",
              "      --disabled-fill-color: #AAA;\n",
              "      --disabled-bg-color: #DDD;\n",
              "  }\n",
              "\n",
              "  [theme=dark] .colab-df-quickchart {\n",
              "      --bg-color: #3B4455;\n",
              "      --fill-color: #D2E3FC;\n",
              "      --hover-bg-color: #434B5C;\n",
              "      --hover-fill-color: #FFFFFF;\n",
              "      --disabled-bg-color: #3B4455;\n",
              "      --disabled-fill-color: #666;\n",
              "  }\n",
              "\n",
              "  .colab-df-quickchart {\n",
              "    background-color: var(--bg-color);\n",
              "    border: none;\n",
              "    border-radius: 50%;\n",
              "    cursor: pointer;\n",
              "    display: none;\n",
              "    fill: var(--fill-color);\n",
              "    height: 32px;\n",
              "    padding: 0;\n",
              "    width: 32px;\n",
              "  }\n",
              "\n",
              "  .colab-df-quickchart:hover {\n",
              "    background-color: var(--hover-bg-color);\n",
              "    box-shadow: 0 1px 2px rgba(60, 64, 67, 0.3), 0 1px 3px 1px rgba(60, 64, 67, 0.15);\n",
              "    fill: var(--button-hover-fill-color);\n",
              "  }\n",
              "\n",
              "  .colab-df-quickchart-complete:disabled,\n",
              "  .colab-df-quickchart-complete:disabled:hover {\n",
              "    background-color: var(--disabled-bg-color);\n",
              "    fill: var(--disabled-fill-color);\n",
              "    box-shadow: none;\n",
              "  }\n",
              "\n",
              "  .colab-df-spinner {\n",
              "    border: 2px solid var(--fill-color);\n",
              "    border-color: transparent;\n",
              "    border-bottom-color: var(--fill-color);\n",
              "    animation:\n",
              "      spin 1s steps(1) infinite;\n",
              "  }\n",
              "\n",
              "  @keyframes spin {\n",
              "    0% {\n",
              "      border-color: transparent;\n",
              "      border-bottom-color: var(--fill-color);\n",
              "      border-left-color: var(--fill-color);\n",
              "    }\n",
              "    20% {\n",
              "      border-color: transparent;\n",
              "      border-left-color: var(--fill-color);\n",
              "      border-top-color: var(--fill-color);\n",
              "    }\n",
              "    30% {\n",
              "      border-color: transparent;\n",
              "      border-left-color: var(--fill-color);\n",
              "      border-top-color: var(--fill-color);\n",
              "      border-right-color: var(--fill-color);\n",
              "    }\n",
              "    40% {\n",
              "      border-color: transparent;\n",
              "      border-right-color: var(--fill-color);\n",
              "      border-top-color: var(--fill-color);\n",
              "    }\n",
              "    60% {\n",
              "      border-color: transparent;\n",
              "      border-right-color: var(--fill-color);\n",
              "    }\n",
              "    80% {\n",
              "      border-color: transparent;\n",
              "      border-right-color: var(--fill-color);\n",
              "      border-bottom-color: var(--fill-color);\n",
              "    }\n",
              "    90% {\n",
              "      border-color: transparent;\n",
              "      border-bottom-color: var(--fill-color);\n",
              "    }\n",
              "  }\n",
              "</style>\n",
              "\n",
              "  <script>\n",
              "    async function quickchart(key) {\n",
              "      const quickchartButtonEl =\n",
              "        document.querySelector('#' + key + ' button');\n",
              "      quickchartButtonEl.disabled = true;  // To prevent multiple clicks.\n",
              "      quickchartButtonEl.classList.add('colab-df-spinner');\n",
              "      try {\n",
              "        const charts = await google.colab.kernel.invokeFunction(\n",
              "            'suggestCharts', [key], {});\n",
              "      } catch (error) {\n",
              "        console.error('Error during call to suggestCharts:', error);\n",
              "      }\n",
              "      quickchartButtonEl.classList.remove('colab-df-spinner');\n",
              "      quickchartButtonEl.classList.add('colab-df-quickchart-complete');\n",
              "    }\n",
              "    (() => {\n",
              "      let quickchartButtonEl =\n",
              "        document.querySelector('#df-e293eb70-cbc6-4725-94ac-4b991999d9a0 button');\n",
              "      quickchartButtonEl.style.display =\n",
              "        google.colab.kernel.accessAllowed ? 'block' : 'none';\n",
              "    })();\n",
              "  </script>\n",
              "</div>\n",
              "\n",
              "    </div>\n",
              "  </div>\n"
            ]
          },
          "metadata": {},
          "execution_count": 109
        }
      ]
    },
    {
      "cell_type": "code",
      "source": [
        "X.head()"
      ],
      "metadata": {
        "colab": {
          "base_uri": "https://localhost:8080/",
          "height": 204
        },
        "id": "SsffoXrbhKWh",
        "outputId": "ea2c0879-03eb-4512-9133-4a8afe52e0f0"
      },
      "execution_count": null,
      "outputs": [
        {
          "output_type": "execute_result",
          "data": {
            "text/plain": [
              "         X0        X1\n",
              "0  1.831728 -0.000631\n",
              "1 -0.069368  1.017884\n",
              "2  0.296687 -0.224581\n",
              "3 -0.496681  0.909355\n",
              "4 -0.007274  1.012325"
            ],
            "text/html": [
              "\n",
              "  <div id=\"df-97984cc1-bc1e-4a51-8711-7848cddb19a1\" class=\"colab-df-container\">\n",
              "    <div>\n",
              "<style scoped>\n",
              "    .dataframe tbody tr th:only-of-type {\n",
              "        vertical-align: middle;\n",
              "    }\n",
              "\n",
              "    .dataframe tbody tr th {\n",
              "        vertical-align: top;\n",
              "    }\n",
              "\n",
              "    .dataframe thead th {\n",
              "        text-align: right;\n",
              "    }\n",
              "</style>\n",
              "<table border=\"1\" class=\"dataframe\">\n",
              "  <thead>\n",
              "    <tr style=\"text-align: right;\">\n",
              "      <th></th>\n",
              "      <th>X0</th>\n",
              "      <th>X1</th>\n",
              "    </tr>\n",
              "  </thead>\n",
              "  <tbody>\n",
              "    <tr>\n",
              "      <th>0</th>\n",
              "      <td>1.831728</td>\n",
              "      <td>-0.000631</td>\n",
              "    </tr>\n",
              "    <tr>\n",
              "      <th>1</th>\n",
              "      <td>-0.069368</td>\n",
              "      <td>1.017884</td>\n",
              "    </tr>\n",
              "    <tr>\n",
              "      <th>2</th>\n",
              "      <td>0.296687</td>\n",
              "      <td>-0.224581</td>\n",
              "    </tr>\n",
              "    <tr>\n",
              "      <th>3</th>\n",
              "      <td>-0.496681</td>\n",
              "      <td>0.909355</td>\n",
              "    </tr>\n",
              "    <tr>\n",
              "      <th>4</th>\n",
              "      <td>-0.007274</td>\n",
              "      <td>1.012325</td>\n",
              "    </tr>\n",
              "  </tbody>\n",
              "</table>\n",
              "</div>\n",
              "    <div class=\"colab-df-buttons\">\n",
              "\n",
              "  <div class=\"colab-df-container\">\n",
              "    <button class=\"colab-df-convert\" onclick=\"convertToInteractive('df-97984cc1-bc1e-4a51-8711-7848cddb19a1')\"\n",
              "            title=\"Convert this dataframe to an interactive table.\"\n",
              "            style=\"display:none;\">\n",
              "\n",
              "  <svg xmlns=\"http://www.w3.org/2000/svg\" height=\"24px\" viewBox=\"0 -960 960 960\">\n",
              "    <path d=\"M120-120v-720h720v720H120Zm60-500h600v-160H180v160Zm220 220h160v-160H400v160Zm0 220h160v-160H400v160ZM180-400h160v-160H180v160Zm440 0h160v-160H620v160ZM180-180h160v-160H180v160Zm440 0h160v-160H620v160Z\"/>\n",
              "  </svg>\n",
              "    </button>\n",
              "\n",
              "  <style>\n",
              "    .colab-df-container {\n",
              "      display:flex;\n",
              "      gap: 12px;\n",
              "    }\n",
              "\n",
              "    .colab-df-convert {\n",
              "      background-color: #E8F0FE;\n",
              "      border: none;\n",
              "      border-radius: 50%;\n",
              "      cursor: pointer;\n",
              "      display: none;\n",
              "      fill: #1967D2;\n",
              "      height: 32px;\n",
              "      padding: 0 0 0 0;\n",
              "      width: 32px;\n",
              "    }\n",
              "\n",
              "    .colab-df-convert:hover {\n",
              "      background-color: #E2EBFA;\n",
              "      box-shadow: 0px 1px 2px rgba(60, 64, 67, 0.3), 0px 1px 3px 1px rgba(60, 64, 67, 0.15);\n",
              "      fill: #174EA6;\n",
              "    }\n",
              "\n",
              "    .colab-df-buttons div {\n",
              "      margin-bottom: 4px;\n",
              "    }\n",
              "\n",
              "    [theme=dark] .colab-df-convert {\n",
              "      background-color: #3B4455;\n",
              "      fill: #D2E3FC;\n",
              "    }\n",
              "\n",
              "    [theme=dark] .colab-df-convert:hover {\n",
              "      background-color: #434B5C;\n",
              "      box-shadow: 0px 1px 3px 1px rgba(0, 0, 0, 0.15);\n",
              "      filter: drop-shadow(0px 1px 2px rgba(0, 0, 0, 0.3));\n",
              "      fill: #FFFFFF;\n",
              "    }\n",
              "  </style>\n",
              "\n",
              "    <script>\n",
              "      const buttonEl =\n",
              "        document.querySelector('#df-97984cc1-bc1e-4a51-8711-7848cddb19a1 button.colab-df-convert');\n",
              "      buttonEl.style.display =\n",
              "        google.colab.kernel.accessAllowed ? 'block' : 'none';\n",
              "\n",
              "      async function convertToInteractive(key) {\n",
              "        const element = document.querySelector('#df-97984cc1-bc1e-4a51-8711-7848cddb19a1');\n",
              "        const dataTable =\n",
              "          await google.colab.kernel.invokeFunction('convertToInteractive',\n",
              "                                                    [key], {});\n",
              "        if (!dataTable) return;\n",
              "\n",
              "        const docLinkHtml = 'Like what you see? Visit the ' +\n",
              "          '<a target=\"_blank\" href=https://colab.research.google.com/notebooks/data_table.ipynb>data table notebook</a>'\n",
              "          + ' to learn more about interactive tables.';\n",
              "        element.innerHTML = '';\n",
              "        dataTable['output_type'] = 'display_data';\n",
              "        await google.colab.output.renderOutput(dataTable, element);\n",
              "        const docLink = document.createElement('div');\n",
              "        docLink.innerHTML = docLinkHtml;\n",
              "        element.appendChild(docLink);\n",
              "      }\n",
              "    </script>\n",
              "  </div>\n",
              "\n",
              "\n",
              "<div id=\"df-4d5435bc-8524-4914-8421-e97777000478\">\n",
              "  <button class=\"colab-df-quickchart\" onclick=\"quickchart('df-4d5435bc-8524-4914-8421-e97777000478')\"\n",
              "            title=\"Suggest charts\"\n",
              "            style=\"display:none;\">\n",
              "\n",
              "<svg xmlns=\"http://www.w3.org/2000/svg\" height=\"24px\"viewBox=\"0 0 24 24\"\n",
              "     width=\"24px\">\n",
              "    <g>\n",
              "        <path d=\"M19 3H5c-1.1 0-2 .9-2 2v14c0 1.1.9 2 2 2h14c1.1 0 2-.9 2-2V5c0-1.1-.9-2-2-2zM9 17H7v-7h2v7zm4 0h-2V7h2v10zm4 0h-2v-4h2v4z\"/>\n",
              "    </g>\n",
              "</svg>\n",
              "  </button>\n",
              "\n",
              "<style>\n",
              "  .colab-df-quickchart {\n",
              "      --bg-color: #E8F0FE;\n",
              "      --fill-color: #1967D2;\n",
              "      --hover-bg-color: #E2EBFA;\n",
              "      --hover-fill-color: #174EA6;\n",
              "      --disabled-fill-color: #AAA;\n",
              "      --disabled-bg-color: #DDD;\n",
              "  }\n",
              "\n",
              "  [theme=dark] .colab-df-quickchart {\n",
              "      --bg-color: #3B4455;\n",
              "      --fill-color: #D2E3FC;\n",
              "      --hover-bg-color: #434B5C;\n",
              "      --hover-fill-color: #FFFFFF;\n",
              "      --disabled-bg-color: #3B4455;\n",
              "      --disabled-fill-color: #666;\n",
              "  }\n",
              "\n",
              "  .colab-df-quickchart {\n",
              "    background-color: var(--bg-color);\n",
              "    border: none;\n",
              "    border-radius: 50%;\n",
              "    cursor: pointer;\n",
              "    display: none;\n",
              "    fill: var(--fill-color);\n",
              "    height: 32px;\n",
              "    padding: 0;\n",
              "    width: 32px;\n",
              "  }\n",
              "\n",
              "  .colab-df-quickchart:hover {\n",
              "    background-color: var(--hover-bg-color);\n",
              "    box-shadow: 0 1px 2px rgba(60, 64, 67, 0.3), 0 1px 3px 1px rgba(60, 64, 67, 0.15);\n",
              "    fill: var(--button-hover-fill-color);\n",
              "  }\n",
              "\n",
              "  .colab-df-quickchart-complete:disabled,\n",
              "  .colab-df-quickchart-complete:disabled:hover {\n",
              "    background-color: var(--disabled-bg-color);\n",
              "    fill: var(--disabled-fill-color);\n",
              "    box-shadow: none;\n",
              "  }\n",
              "\n",
              "  .colab-df-spinner {\n",
              "    border: 2px solid var(--fill-color);\n",
              "    border-color: transparent;\n",
              "    border-bottom-color: var(--fill-color);\n",
              "    animation:\n",
              "      spin 1s steps(1) infinite;\n",
              "  }\n",
              "\n",
              "  @keyframes spin {\n",
              "    0% {\n",
              "      border-color: transparent;\n",
              "      border-bottom-color: var(--fill-color);\n",
              "      border-left-color: var(--fill-color);\n",
              "    }\n",
              "    20% {\n",
              "      border-color: transparent;\n",
              "      border-left-color: var(--fill-color);\n",
              "      border-top-color: var(--fill-color);\n",
              "    }\n",
              "    30% {\n",
              "      border-color: transparent;\n",
              "      border-left-color: var(--fill-color);\n",
              "      border-top-color: var(--fill-color);\n",
              "      border-right-color: var(--fill-color);\n",
              "    }\n",
              "    40% {\n",
              "      border-color: transparent;\n",
              "      border-right-color: var(--fill-color);\n",
              "      border-top-color: var(--fill-color);\n",
              "    }\n",
              "    60% {\n",
              "      border-color: transparent;\n",
              "      border-right-color: var(--fill-color);\n",
              "    }\n",
              "    80% {\n",
              "      border-color: transparent;\n",
              "      border-right-color: var(--fill-color);\n",
              "      border-bottom-color: var(--fill-color);\n",
              "    }\n",
              "    90% {\n",
              "      border-color: transparent;\n",
              "      border-bottom-color: var(--fill-color);\n",
              "    }\n",
              "  }\n",
              "</style>\n",
              "\n",
              "  <script>\n",
              "    async function quickchart(key) {\n",
              "      const quickchartButtonEl =\n",
              "        document.querySelector('#' + key + ' button');\n",
              "      quickchartButtonEl.disabled = true;  // To prevent multiple clicks.\n",
              "      quickchartButtonEl.classList.add('colab-df-spinner');\n",
              "      try {\n",
              "        const charts = await google.colab.kernel.invokeFunction(\n",
              "            'suggestCharts', [key], {});\n",
              "      } catch (error) {\n",
              "        console.error('Error during call to suggestCharts:', error);\n",
              "      }\n",
              "      quickchartButtonEl.classList.remove('colab-df-spinner');\n",
              "      quickchartButtonEl.classList.add('colab-df-quickchart-complete');\n",
              "    }\n",
              "    (() => {\n",
              "      let quickchartButtonEl =\n",
              "        document.querySelector('#df-4d5435bc-8524-4914-8421-e97777000478 button');\n",
              "      quickchartButtonEl.style.display =\n",
              "        google.colab.kernel.accessAllowed ? 'block' : 'none';\n",
              "    })();\n",
              "  </script>\n",
              "</div>\n",
              "\n",
              "    </div>\n",
              "  </div>\n"
            ]
          },
          "metadata": {},
          "execution_count": 110
        }
      ]
    },
    {
      "cell_type": "code",
      "source": [
        "y[:10]"
      ],
      "metadata": {
        "colab": {
          "base_uri": "https://localhost:8080/"
        },
        "id": "HpbuDtdTiQGN",
        "outputId": "6a5a88c6-bb67-4d54-b56b-e97042b60eaf"
      },
      "execution_count": null,
      "outputs": [
        {
          "output_type": "execute_result",
          "data": {
            "text/plain": [
              "array([1, 0, 1, 0, 0, 1, 1, 1, 1, 1])"
            ]
          },
          "metadata": {},
          "execution_count": 111
        }
      ]
    },
    {
      "cell_type": "code",
      "source": [
        "from sklearn.model_selection import train_test_split"
      ],
      "metadata": {
        "id": "kaoX6f8lrB4Z"
      },
      "execution_count": null,
      "outputs": []
    },
    {
      "cell_type": "code",
      "source": [
        "X_train, X_test, y_train, y_test = train_test_split(X, y, test_size=0.2, random_state=8)"
      ],
      "metadata": {
        "id": "uQeSX7ulrI-1"
      },
      "execution_count": null,
      "outputs": []
    },
    {
      "cell_type": "code",
      "source": [
        "df = X.copy()\n",
        "df['y'] = y\n",
        "\n",
        "df.head()"
      ],
      "metadata": {
        "colab": {
          "base_uri": "https://localhost:8080/",
          "height": 204
        },
        "id": "5ou9jKINibJn",
        "outputId": "733d60e0-c8d3-4c8c-d946-b03864d137c7"
      },
      "execution_count": null,
      "outputs": [
        {
          "output_type": "execute_result",
          "data": {
            "text/plain": [
              "         X0        X1  y\n",
              "0  1.831728 -0.000631  1\n",
              "1 -0.069368  1.017884  0\n",
              "2  0.296687 -0.224581  1\n",
              "3 -0.496681  0.909355  0\n",
              "4 -0.007274  1.012325  0"
            ],
            "text/html": [
              "\n",
              "  <div id=\"df-57b5aca6-7405-4eae-a6ea-ff7ca6f639c2\" class=\"colab-df-container\">\n",
              "    <div>\n",
              "<style scoped>\n",
              "    .dataframe tbody tr th:only-of-type {\n",
              "        vertical-align: middle;\n",
              "    }\n",
              "\n",
              "    .dataframe tbody tr th {\n",
              "        vertical-align: top;\n",
              "    }\n",
              "\n",
              "    .dataframe thead th {\n",
              "        text-align: right;\n",
              "    }\n",
              "</style>\n",
              "<table border=\"1\" class=\"dataframe\">\n",
              "  <thead>\n",
              "    <tr style=\"text-align: right;\">\n",
              "      <th></th>\n",
              "      <th>X0</th>\n",
              "      <th>X1</th>\n",
              "      <th>y</th>\n",
              "    </tr>\n",
              "  </thead>\n",
              "  <tbody>\n",
              "    <tr>\n",
              "      <th>0</th>\n",
              "      <td>1.831728</td>\n",
              "      <td>-0.000631</td>\n",
              "      <td>1</td>\n",
              "    </tr>\n",
              "    <tr>\n",
              "      <th>1</th>\n",
              "      <td>-0.069368</td>\n",
              "      <td>1.017884</td>\n",
              "      <td>0</td>\n",
              "    </tr>\n",
              "    <tr>\n",
              "      <th>2</th>\n",
              "      <td>0.296687</td>\n",
              "      <td>-0.224581</td>\n",
              "      <td>1</td>\n",
              "    </tr>\n",
              "    <tr>\n",
              "      <th>3</th>\n",
              "      <td>-0.496681</td>\n",
              "      <td>0.909355</td>\n",
              "      <td>0</td>\n",
              "    </tr>\n",
              "    <tr>\n",
              "      <th>4</th>\n",
              "      <td>-0.007274</td>\n",
              "      <td>1.012325</td>\n",
              "      <td>0</td>\n",
              "    </tr>\n",
              "  </tbody>\n",
              "</table>\n",
              "</div>\n",
              "    <div class=\"colab-df-buttons\">\n",
              "\n",
              "  <div class=\"colab-df-container\">\n",
              "    <button class=\"colab-df-convert\" onclick=\"convertToInteractive('df-57b5aca6-7405-4eae-a6ea-ff7ca6f639c2')\"\n",
              "            title=\"Convert this dataframe to an interactive table.\"\n",
              "            style=\"display:none;\">\n",
              "\n",
              "  <svg xmlns=\"http://www.w3.org/2000/svg\" height=\"24px\" viewBox=\"0 -960 960 960\">\n",
              "    <path d=\"M120-120v-720h720v720H120Zm60-500h600v-160H180v160Zm220 220h160v-160H400v160Zm0 220h160v-160H400v160ZM180-400h160v-160H180v160Zm440 0h160v-160H620v160ZM180-180h160v-160H180v160Zm440 0h160v-160H620v160Z\"/>\n",
              "  </svg>\n",
              "    </button>\n",
              "\n",
              "  <style>\n",
              "    .colab-df-container {\n",
              "      display:flex;\n",
              "      gap: 12px;\n",
              "    }\n",
              "\n",
              "    .colab-df-convert {\n",
              "      background-color: #E8F0FE;\n",
              "      border: none;\n",
              "      border-radius: 50%;\n",
              "      cursor: pointer;\n",
              "      display: none;\n",
              "      fill: #1967D2;\n",
              "      height: 32px;\n",
              "      padding: 0 0 0 0;\n",
              "      width: 32px;\n",
              "    }\n",
              "\n",
              "    .colab-df-convert:hover {\n",
              "      background-color: #E2EBFA;\n",
              "      box-shadow: 0px 1px 2px rgba(60, 64, 67, 0.3), 0px 1px 3px 1px rgba(60, 64, 67, 0.15);\n",
              "      fill: #174EA6;\n",
              "    }\n",
              "\n",
              "    .colab-df-buttons div {\n",
              "      margin-bottom: 4px;\n",
              "    }\n",
              "\n",
              "    [theme=dark] .colab-df-convert {\n",
              "      background-color: #3B4455;\n",
              "      fill: #D2E3FC;\n",
              "    }\n",
              "\n",
              "    [theme=dark] .colab-df-convert:hover {\n",
              "      background-color: #434B5C;\n",
              "      box-shadow: 0px 1px 3px 1px rgba(0, 0, 0, 0.15);\n",
              "      filter: drop-shadow(0px 1px 2px rgba(0, 0, 0, 0.3));\n",
              "      fill: #FFFFFF;\n",
              "    }\n",
              "  </style>\n",
              "\n",
              "    <script>\n",
              "      const buttonEl =\n",
              "        document.querySelector('#df-57b5aca6-7405-4eae-a6ea-ff7ca6f639c2 button.colab-df-convert');\n",
              "      buttonEl.style.display =\n",
              "        google.colab.kernel.accessAllowed ? 'block' : 'none';\n",
              "\n",
              "      async function convertToInteractive(key) {\n",
              "        const element = document.querySelector('#df-57b5aca6-7405-4eae-a6ea-ff7ca6f639c2');\n",
              "        const dataTable =\n",
              "          await google.colab.kernel.invokeFunction('convertToInteractive',\n",
              "                                                    [key], {});\n",
              "        if (!dataTable) return;\n",
              "\n",
              "        const docLinkHtml = 'Like what you see? Visit the ' +\n",
              "          '<a target=\"_blank\" href=https://colab.research.google.com/notebooks/data_table.ipynb>data table notebook</a>'\n",
              "          + ' to learn more about interactive tables.';\n",
              "        element.innerHTML = '';\n",
              "        dataTable['output_type'] = 'display_data';\n",
              "        await google.colab.output.renderOutput(dataTable, element);\n",
              "        const docLink = document.createElement('div');\n",
              "        docLink.innerHTML = docLinkHtml;\n",
              "        element.appendChild(docLink);\n",
              "      }\n",
              "    </script>\n",
              "  </div>\n",
              "\n",
              "\n",
              "<div id=\"df-dfdbcedc-ecab-43db-bb34-9d308666e4ef\">\n",
              "  <button class=\"colab-df-quickchart\" onclick=\"quickchart('df-dfdbcedc-ecab-43db-bb34-9d308666e4ef')\"\n",
              "            title=\"Suggest charts\"\n",
              "            style=\"display:none;\">\n",
              "\n",
              "<svg xmlns=\"http://www.w3.org/2000/svg\" height=\"24px\"viewBox=\"0 0 24 24\"\n",
              "     width=\"24px\">\n",
              "    <g>\n",
              "        <path d=\"M19 3H5c-1.1 0-2 .9-2 2v14c0 1.1.9 2 2 2h14c1.1 0 2-.9 2-2V5c0-1.1-.9-2-2-2zM9 17H7v-7h2v7zm4 0h-2V7h2v10zm4 0h-2v-4h2v4z\"/>\n",
              "    </g>\n",
              "</svg>\n",
              "  </button>\n",
              "\n",
              "<style>\n",
              "  .colab-df-quickchart {\n",
              "      --bg-color: #E8F0FE;\n",
              "      --fill-color: #1967D2;\n",
              "      --hover-bg-color: #E2EBFA;\n",
              "      --hover-fill-color: #174EA6;\n",
              "      --disabled-fill-color: #AAA;\n",
              "      --disabled-bg-color: #DDD;\n",
              "  }\n",
              "\n",
              "  [theme=dark] .colab-df-quickchart {\n",
              "      --bg-color: #3B4455;\n",
              "      --fill-color: #D2E3FC;\n",
              "      --hover-bg-color: #434B5C;\n",
              "      --hover-fill-color: #FFFFFF;\n",
              "      --disabled-bg-color: #3B4455;\n",
              "      --disabled-fill-color: #666;\n",
              "  }\n",
              "\n",
              "  .colab-df-quickchart {\n",
              "    background-color: var(--bg-color);\n",
              "    border: none;\n",
              "    border-radius: 50%;\n",
              "    cursor: pointer;\n",
              "    display: none;\n",
              "    fill: var(--fill-color);\n",
              "    height: 32px;\n",
              "    padding: 0;\n",
              "    width: 32px;\n",
              "  }\n",
              "\n",
              "  .colab-df-quickchart:hover {\n",
              "    background-color: var(--hover-bg-color);\n",
              "    box-shadow: 0 1px 2px rgba(60, 64, 67, 0.3), 0 1px 3px 1px rgba(60, 64, 67, 0.15);\n",
              "    fill: var(--button-hover-fill-color);\n",
              "  }\n",
              "\n",
              "  .colab-df-quickchart-complete:disabled,\n",
              "  .colab-df-quickchart-complete:disabled:hover {\n",
              "    background-color: var(--disabled-bg-color);\n",
              "    fill: var(--disabled-fill-color);\n",
              "    box-shadow: none;\n",
              "  }\n",
              "\n",
              "  .colab-df-spinner {\n",
              "    border: 2px solid var(--fill-color);\n",
              "    border-color: transparent;\n",
              "    border-bottom-color: var(--fill-color);\n",
              "    animation:\n",
              "      spin 1s steps(1) infinite;\n",
              "  }\n",
              "\n",
              "  @keyframes spin {\n",
              "    0% {\n",
              "      border-color: transparent;\n",
              "      border-bottom-color: var(--fill-color);\n",
              "      border-left-color: var(--fill-color);\n",
              "    }\n",
              "    20% {\n",
              "      border-color: transparent;\n",
              "      border-left-color: var(--fill-color);\n",
              "      border-top-color: var(--fill-color);\n",
              "    }\n",
              "    30% {\n",
              "      border-color: transparent;\n",
              "      border-left-color: var(--fill-color);\n",
              "      border-top-color: var(--fill-color);\n",
              "      border-right-color: var(--fill-color);\n",
              "    }\n",
              "    40% {\n",
              "      border-color: transparent;\n",
              "      border-right-color: var(--fill-color);\n",
              "      border-top-color: var(--fill-color);\n",
              "    }\n",
              "    60% {\n",
              "      border-color: transparent;\n",
              "      border-right-color: var(--fill-color);\n",
              "    }\n",
              "    80% {\n",
              "      border-color: transparent;\n",
              "      border-right-color: var(--fill-color);\n",
              "      border-bottom-color: var(--fill-color);\n",
              "    }\n",
              "    90% {\n",
              "      border-color: transparent;\n",
              "      border-bottom-color: var(--fill-color);\n",
              "    }\n",
              "  }\n",
              "</style>\n",
              "\n",
              "  <script>\n",
              "    async function quickchart(key) {\n",
              "      const quickchartButtonEl =\n",
              "        document.querySelector('#' + key + ' button');\n",
              "      quickchartButtonEl.disabled = true;  // To prevent multiple clicks.\n",
              "      quickchartButtonEl.classList.add('colab-df-spinner');\n",
              "      try {\n",
              "        const charts = await google.colab.kernel.invokeFunction(\n",
              "            'suggestCharts', [key], {});\n",
              "      } catch (error) {\n",
              "        console.error('Error during call to suggestCharts:', error);\n",
              "      }\n",
              "      quickchartButtonEl.classList.remove('colab-df-spinner');\n",
              "      quickchartButtonEl.classList.add('colab-df-quickchart-complete');\n",
              "    }\n",
              "    (() => {\n",
              "      let quickchartButtonEl =\n",
              "        document.querySelector('#df-dfdbcedc-ecab-43db-bb34-9d308666e4ef button');\n",
              "      quickchartButtonEl.style.display =\n",
              "        google.colab.kernel.accessAllowed ? 'block' : 'none';\n",
              "    })();\n",
              "  </script>\n",
              "</div>\n",
              "\n",
              "    </div>\n",
              "  </div>\n"
            ]
          },
          "metadata": {},
          "execution_count": 44
        }
      ]
    },
    {
      "cell_type": "code",
      "source": [
        "plt.figure(figsize=(8, 6))\n",
        "sns.scatterplot(df, x='X0', y='X1', hue='y');"
      ],
      "metadata": {
        "colab": {
          "base_uri": "https://localhost:8080/",
          "height": 542
        },
        "id": "wJr-zFIYhljt",
        "outputId": "a768bdf2-f76b-4189-824c-0245236f36d2"
      },
      "execution_count": null,
      "outputs": [
        {
          "output_type": "display_data",
          "data": {
            "text/plain": [
              "<Figure size 800x600 with 1 Axes>"
            ],
            "image/png": "[encoded data removed]"
          },
          "metadata": {}
        }
      ]
    },
    {
      "cell_type": "markdown",
      "source": [
        "### **Preparing Model - 1**"
      ],
      "metadata": {
        "id": "HnuvvI9cjFsd"
      }
    },
    {
      "cell_type": "code",
      "source": [
        "# Set the random seed\n",
        "tf.random.set_seed(8)\n",
        "\n",
        "# Create the model\n",
        "model_1 = tf.keras.Sequential([\n",
        "    tf.keras.layers.Dense(1)\n",
        "])\n",
        "\n",
        "# Compile the model\n",
        "model_1.compile(optimizer=tf.keras.optimizers.Adam(),\n",
        "                loss=tf.keras.losses.BinaryCrossentropy(),\n",
        "                metrics=['accuracy'])\n",
        "\n",
        "# Fit the model\n",
        "model_1.fit(X_train, y_train, epochs=20)"
      ],
      "metadata": {
        "colab": {
          "base_uri": "https://localhost:8080/"
        },
        "id": "2qVP4qTLjBxC",
        "outputId": "a1235c52-122c-45a1-cc1b-9271515ced0e"
      },
      "execution_count": null,
      "outputs": [
        {
          "output_type": "stream",
          "name": "stdout",
          "text": [
            "Epoch 1/20\n",
            "25/25 [==============================] - 1s 2ms/step - loss: 2.2423 - accuracy: 0.7100\n",
            "Epoch 2/20\n",
            "25/25 [==============================] - 0s 2ms/step - loss: 2.0666 - accuracy: 0.7250\n",
            "Epoch 3/20\n",
            "25/25 [==============================] - 0s 2ms/step - loss: 1.8941 - accuracy: 0.7412\n",
            "Epoch 4/20\n",
            "25/25 [==============================] - 0s 2ms/step - loss: 1.7493 - accuracy: 0.7563\n",
            "Epoch 5/20\n",
            "25/25 [==============================] - 0s 2ms/step - loss: 1.5906 - accuracy: 0.7638\n",
            "Epoch 6/20\n",
            "25/25 [==============================] - 0s 2ms/step - loss: 1.4922 - accuracy: 0.7750\n",
            "Epoch 7/20\n",
            "25/25 [==============================] - 0s 2ms/step - loss: 1.4093 - accuracy: 0.7812\n",
            "Epoch 8/20\n",
            "25/25 [==============================] - 0s 2ms/step - loss: 1.3807 - accuracy: 0.7862\n",
            "Epoch 9/20\n",
            "25/25 [==============================] - 0s 2ms/step - loss: 1.3127 - accuracy: 0.7912\n",
            "Epoch 10/20\n",
            "25/25 [==============================] - 0s 2ms/step - loss: 1.2495 - accuracy: 0.7962\n",
            "Epoch 11/20\n",
            "25/25 [==============================] - 0s 2ms/step - loss: 1.2229 - accuracy: 0.8087\n",
            "Epoch 12/20\n",
            "25/25 [==============================] - 0s 2ms/step - loss: 1.1927 - accuracy: 0.8125\n",
            "Epoch 13/20\n",
            "25/25 [==============================] - 0s 2ms/step - loss: 1.1800 - accuracy: 0.8138\n",
            "Epoch 14/20\n",
            "25/25 [==============================] - 0s 2ms/step - loss: 1.1723 - accuracy: 0.8163\n",
            "Epoch 15/20\n",
            "25/25 [==============================] - 0s 2ms/step - loss: 1.1532 - accuracy: 0.8225\n",
            "Epoch 16/20\n",
            "25/25 [==============================] - 0s 2ms/step - loss: 1.1440 - accuracy: 0.8275\n",
            "Epoch 17/20\n",
            "25/25 [==============================] - 0s 2ms/step - loss: 1.1239 - accuracy: 0.8288\n",
            "Epoch 18/20\n",
            "25/25 [==============================] - 0s 2ms/step - loss: 1.0911 - accuracy: 0.8288\n",
            "Epoch 19/20\n",
            "25/25 [==============================] - 0s 2ms/step - loss: 1.0625 - accuracy: 0.8300\n",
            "Epoch 20/20\n",
            "25/25 [==============================] - 0s 2ms/step - loss: 1.0539 - accuracy: 0.8350\n"
          ]
        },
        {
          "output_type": "execute_result",
          "data": {
            "text/plain": [
              "<keras.src.callbacks.History at 0x7aa00f9c2a70>"
            ]
          },
          "metadata": {},
          "execution_count": 54
        }
      ]
    },
    {
      "cell_type": "code",
      "source": [
        "# Evaluate the model\n",
        "model_1.evaluate(X_test, y_test)"
      ],
      "metadata": {
        "colab": {
          "base_uri": "https://localhost:8080/"
        },
        "id": "m1QwyjKBrkq4",
        "outputId": "e9e6a19e-5270-4898-eac2-e6fea6a3b8b2"
      },
      "execution_count": null,
      "outputs": [
        {
          "output_type": "stream",
          "name": "stdout",
          "text": [
            "7/7 [==============================] - 1s 7ms/step - loss: 0.7391 - accuracy: 0.8700\n"
          ]
        },
        {
          "output_type": "execute_result",
          "data": {
            "text/plain": [
              "[0.7390565276145935, 0.8700000047683716]"
            ]
          },
          "metadata": {},
          "execution_count": 55
        }
      ]
    },
    {
      "cell_type": "markdown",
      "source": [
        "### Preparing Model - 2"
      ],
      "metadata": {
        "id": "YIsjZZjtr0iv"
      }
    },
    {
      "cell_type": "code",
      "source": [
        "# Set the random seed\n",
        "tf.random.set_seed(8)\n",
        "\n",
        "# Create the model\n",
        "model_2 = tf.keras.Sequential([\n",
        "    tf.keras.layers.Dense(1),\n",
        "    tf.keras.layers.Dense(1)\n",
        "])\n",
        "\n",
        "# Compile the model\n",
        "model_2.compile(optimizer=tf.keras.optimizers.Adam(),\n",
        "                loss=tf.keras.losses.BinaryCrossentropy(),\n",
        "                metrics=['accuracy'])\n",
        "\n",
        "# Fit the model\n",
        "model_2.fit(X_train, y_train, epochs=20)"
      ],
      "metadata": {
        "colab": {
          "base_uri": "https://localhost:8080/"
        },
        "id": "jdtIBzfQr7S1",
        "outputId": "173622cc-8083-44e9-8e22-eea8e76317ed"
      },
      "execution_count": null,
      "outputs": [
        {
          "output_type": "stream",
          "name": "stdout",
          "text": [
            "Epoch 1/20\n",
            "25/25 [==============================] - 1s 4ms/step - loss: 1.8680 - accuracy: 0.4963\n",
            "Epoch 2/20\n",
            "25/25 [==============================] - 0s 3ms/step - loss: 1.7614 - accuracy: 0.5275\n",
            "Epoch 3/20\n",
            "25/25 [==============================] - 0s 3ms/step - loss: 1.6854 - accuracy: 0.6000\n",
            "Epoch 4/20\n",
            "25/25 [==============================] - 0s 2ms/step - loss: 1.6317 - accuracy: 0.6388\n",
            "Epoch 5/20\n",
            "25/25 [==============================] - 0s 2ms/step - loss: 1.5816 - accuracy: 0.6750\n",
            "Epoch 6/20\n",
            "25/25 [==============================] - 0s 2ms/step - loss: 1.4941 - accuracy: 0.7075\n",
            "Epoch 7/20\n",
            "25/25 [==============================] - 0s 2ms/step - loss: 1.3883 - accuracy: 0.7300\n",
            "Epoch 8/20\n",
            "25/25 [==============================] - 0s 2ms/step - loss: 1.3434 - accuracy: 0.7425\n",
            "Epoch 9/20\n",
            "25/25 [==============================] - 0s 2ms/step - loss: 1.3150 - accuracy: 0.7538\n",
            "Epoch 10/20\n",
            "25/25 [==============================] - 0s 2ms/step - loss: 1.2804 - accuracy: 0.7650\n",
            "Epoch 11/20\n",
            "25/25 [==============================] - 0s 2ms/step - loss: 1.2329 - accuracy: 0.7713\n",
            "Epoch 12/20\n",
            "25/25 [==============================] - 0s 2ms/step - loss: 1.1770 - accuracy: 0.7862\n",
            "Epoch 13/20\n",
            "25/25 [==============================] - 0s 2ms/step - loss: 1.1546 - accuracy: 0.7987\n",
            "Epoch 14/20\n",
            "25/25 [==============================] - 0s 2ms/step - loss: 1.1226 - accuracy: 0.8025\n",
            "Epoch 15/20\n",
            "25/25 [==============================] - 0s 2ms/step - loss: 1.0879 - accuracy: 0.8112\n",
            "Epoch 16/20\n",
            "25/25 [==============================] - 0s 2ms/step - loss: 1.0546 - accuracy: 0.8200\n",
            "Epoch 17/20\n",
            "25/25 [==============================] - 0s 2ms/step - loss: 1.0360 - accuracy: 0.8275\n",
            "Epoch 18/20\n",
            "25/25 [==============================] - 0s 2ms/step - loss: 1.0218 - accuracy: 0.8325\n",
            "Epoch 19/20\n",
            "25/25 [==============================] - 0s 2ms/step - loss: 1.0040 - accuracy: 0.8375\n",
            "Epoch 20/20\n",
            "25/25 [==============================] - 0s 2ms/step - loss: 0.8637 - accuracy: 0.8438\n"
          ]
        },
        {
          "output_type": "execute_result",
          "data": {
            "text/plain": [
              "<keras.src.callbacks.History at 0x7aa007746500>"
            ]
          },
          "metadata": {},
          "execution_count": 56
        }
      ]
    },
    {
      "cell_type": "code",
      "source": [
        "# Evaluate the model\n",
        "model_2.evaluate(X_test, y_test)"
      ],
      "metadata": {
        "colab": {
          "base_uri": "https://localhost:8080/"
        },
        "id": "HOdUoMlZsfxZ",
        "outputId": "ed4d4ff2-b66d-4fab-a853-4dbecbc4c9be"
      },
      "execution_count": null,
      "outputs": [
        {
          "output_type": "stream",
          "name": "stdout",
          "text": [
            "7/7 [==============================] - 0s 3ms/step - loss: 0.6703 - accuracy: 0.8750\n"
          ]
        },
        {
          "output_type": "execute_result",
          "data": {
            "text/plain": [
              "[0.670250415802002, 0.875]"
            ]
          },
          "metadata": {},
          "execution_count": 57
        }
      ]
    },
    {
      "cell_type": "markdown",
      "source": [
        "### **Preparing Model - 3**"
      ],
      "metadata": {
        "id": "0tdcC8g4spqT"
      }
    },
    {
      "cell_type": "code",
      "source": [
        "# Set the random seed\n",
        "tf.random.set_seed(8)\n",
        "\n",
        "# Create the model\n",
        "model_3 = tf.keras.Sequential([\n",
        "    tf.keras.layers.Dense(4),\n",
        "    tf.keras.layers.Dense(1)\n",
        "])\n",
        "\n",
        "# Compile the model\n",
        "model_3.compile(optimizer=tf.keras.optimizers.Adam(),\n",
        "                loss=tf.keras.losses.BinaryCrossentropy(),\n",
        "                metrics=['accuracy'])\n",
        "\n",
        "# Fit the model\n",
        "model_3.fit(X_train, y_train, epochs=20)"
      ],
      "metadata": {
        "colab": {
          "base_uri": "https://localhost:8080/"
        },
        "id": "Tpfcxvu4suVM",
        "outputId": "23ff8730-b249-4833-e0ba-af8baca3d269"
      },
      "execution_count": null,
      "outputs": [
        {
          "output_type": "stream",
          "name": "stdout",
          "text": [
            "Epoch 1/20\n",
            "25/25 [==============================] - 2s 8ms/step - loss: 1.3032 - accuracy: 0.7962\n",
            "Epoch 2/20\n",
            "25/25 [==============================] - 0s 8ms/step - loss: 1.2063 - accuracy: 0.7987\n",
            "Epoch 3/20\n",
            "25/25 [==============================] - 0s 15ms/step - loss: 1.1767 - accuracy: 0.7975\n",
            "Epoch 4/20\n",
            "25/25 [==============================] - 0s 10ms/step - loss: 1.1693 - accuracy: 0.7975\n",
            "Epoch 5/20\n",
            "25/25 [==============================] - 0s 8ms/step - loss: 1.1633 - accuracy: 0.8025\n",
            "Epoch 6/20\n",
            "25/25 [==============================] - 0s 5ms/step - loss: 1.1573 - accuracy: 0.8062\n",
            "Epoch 7/20\n",
            "25/25 [==============================] - 0s 5ms/step - loss: 1.1517 - accuracy: 0.8062\n",
            "Epoch 8/20\n",
            "25/25 [==============================] - 0s 6ms/step - loss: 1.1220 - accuracy: 0.8138\n",
            "Epoch 9/20\n",
            "25/25 [==============================] - 0s 7ms/step - loss: 1.0680 - accuracy: 0.8138\n",
            "Epoch 10/20\n",
            "25/25 [==============================] - 0s 3ms/step - loss: 1.0355 - accuracy: 0.8163\n",
            "Epoch 11/20\n",
            "25/25 [==============================] - 0s 3ms/step - loss: 1.0095 - accuracy: 0.8150\n",
            "Epoch 12/20\n",
            "25/25 [==============================] - 0s 3ms/step - loss: 0.9922 - accuracy: 0.8200\n",
            "Epoch 13/20\n",
            "25/25 [==============================] - 0s 3ms/step - loss: 0.8209 - accuracy: 0.8188\n",
            "Epoch 14/20\n",
            "25/25 [==============================] - 0s 3ms/step - loss: 0.6849 - accuracy: 0.8138\n",
            "Epoch 15/20\n",
            "25/25 [==============================] - 0s 4ms/step - loss: 0.4881 - accuracy: 0.8138\n",
            "Epoch 16/20\n",
            "25/25 [==============================] - 0s 3ms/step - loss: 0.4398 - accuracy: 0.8125\n",
            "Epoch 17/20\n",
            "25/25 [==============================] - 0s 3ms/step - loss: 0.4315 - accuracy: 0.8125\n",
            "Epoch 18/20\n",
            "25/25 [==============================] - 0s 3ms/step - loss: 0.4006 - accuracy: 0.8125\n",
            "Epoch 19/20\n",
            "25/25 [==============================] - 0s 4ms/step - loss: 0.3323 - accuracy: 0.8125\n",
            "Epoch 20/20\n",
            "25/25 [==============================] - 0s 4ms/step - loss: 0.3230 - accuracy: 0.8150\n"
          ]
        },
        {
          "output_type": "execute_result",
          "data": {
            "text/plain": [
              "<keras.src.callbacks.History at 0x7aa00f224f10>"
            ]
          },
          "metadata": {},
          "execution_count": 59
        }
      ]
    },
    {
      "cell_type": "code",
      "source": [
        "# Evaluate the model\n",
        "model_3.evaluate(X_test, y_test)"
      ],
      "metadata": {
        "colab": {
          "base_uri": "https://localhost:8080/"
        },
        "id": "p4fP32-JtPyl",
        "outputId": "5d09a2bb-b734-49b4-e65f-4350d9f8d1b4"
      },
      "execution_count": null,
      "outputs": [
        {
          "output_type": "stream",
          "name": "stdout",
          "text": [
            "7/7 [==============================] - 1s 6ms/step - loss: 0.2891 - accuracy: 0.8500\n"
          ]
        },
        {
          "output_type": "execute_result",
          "data": {
            "text/plain": [
              "[0.28911292552948, 0.8500000238418579]"
            ]
          },
          "metadata": {},
          "execution_count": 60
        }
      ]
    },
    {
      "cell_type": "markdown",
      "source": [
        "### **Preparing Model - 4**"
      ],
      "metadata": {
        "id": "-AKg5z4DtfXh"
      }
    },
    {
      "cell_type": "code",
      "source": [
        "# Set the random seed\n",
        "tf.random.set_seed(8)\n",
        "\n",
        "# Create the model\n",
        "model_4 = tf.keras.Sequential([\n",
        "    tf.keras.layers.Dense(4, activation='relu'),\n",
        "    tf.keras.layers.Dense(1)\n",
        "])\n",
        "\n",
        "# Compile the model\n",
        "model_4.compile(optimizer=tf.keras.optimizers.Adam(),\n",
        "                loss=tf.keras.losses.BinaryCrossentropy(),\n",
        "                metrics=['accuracy'])\n",
        "\n",
        "# Fit the model\n",
        "model_4.fit(X_train, y_train, epochs=20)"
      ],
      "metadata": {
        "colab": {
          "base_uri": "https://localhost:8080/"
        },
        "id": "yVCsgyK4vxGf",
        "outputId": "0558470b-e122-43f2-a7d6-58b19ca592f4"
      },
      "execution_count": null,
      "outputs": [
        {
          "output_type": "stream",
          "name": "stdout",
          "text": [
            "Epoch 1/20\n",
            "25/25 [==============================] - 1s 2ms/step - loss: 0.7108 - accuracy: 0.6325\n",
            "Epoch 2/20\n",
            "25/25 [==============================] - 0s 2ms/step - loss: 0.6549 - accuracy: 0.6463\n",
            "Epoch 3/20\n",
            "25/25 [==============================] - 0s 2ms/step - loss: 0.6163 - accuracy: 0.6675\n",
            "Epoch 4/20\n",
            "25/25 [==============================] - 0s 2ms/step - loss: 0.5848 - accuracy: 0.6938\n",
            "Epoch 5/20\n",
            "25/25 [==============================] - 0s 2ms/step - loss: 0.5566 - accuracy: 0.7113\n",
            "Epoch 6/20\n",
            "25/25 [==============================] - 0s 2ms/step - loss: 0.5319 - accuracy: 0.7250\n",
            "Epoch 7/20\n",
            "25/25 [==============================] - 0s 2ms/step - loss: 0.5089 - accuracy: 0.7362\n",
            "Epoch 8/20\n",
            "25/25 [==============================] - 0s 2ms/step - loss: 0.4881 - accuracy: 0.7462\n",
            "Epoch 9/20\n",
            "25/25 [==============================] - 0s 2ms/step - loss: 0.4694 - accuracy: 0.7538\n",
            "Epoch 10/20\n",
            "25/25 [==============================] - 0s 2ms/step - loss: 0.4512 - accuracy: 0.7650\n",
            "Epoch 11/20\n",
            "25/25 [==============================] - 0s 2ms/step - loss: 0.4349 - accuracy: 0.7725\n",
            "Epoch 12/20\n",
            "25/25 [==============================] - 0s 2ms/step - loss: 0.4187 - accuracy: 0.7837\n",
            "Epoch 13/20\n",
            "25/25 [==============================] - 0s 2ms/step - loss: 0.4034 - accuracy: 0.7925\n",
            "Epoch 14/20\n",
            "25/25 [==============================] - 0s 2ms/step - loss: 0.3887 - accuracy: 0.8012\n",
            "Epoch 15/20\n",
            "25/25 [==============================] - 0s 2ms/step - loss: 0.3754 - accuracy: 0.8075\n",
            "Epoch 16/20\n",
            "25/25 [==============================] - 0s 2ms/step - loss: 0.3632 - accuracy: 0.8112\n",
            "Epoch 17/20\n",
            "25/25 [==============================] - 0s 2ms/step - loss: 0.3524 - accuracy: 0.8188\n",
            "Epoch 18/20\n",
            "25/25 [==============================] - 0s 2ms/step - loss: 0.3421 - accuracy: 0.8200\n",
            "Epoch 19/20\n",
            "25/25 [==============================] - 0s 2ms/step - loss: 0.3316 - accuracy: 0.8275\n",
            "Epoch 20/20\n",
            "25/25 [==============================] - 0s 2ms/step - loss: 0.3215 - accuracy: 0.8313\n"
          ]
        },
        {
          "output_type": "execute_result",
          "data": {
            "text/plain": [
              "<keras.src.callbacks.History at 0x7aa007600ac0>"
            ]
          },
          "metadata": {},
          "execution_count": 63
        }
      ]
    },
    {
      "cell_type": "markdown",
      "source": [
        "### **Preparing Model - 5**"
      ],
      "metadata": {
        "id": "-NbgjwVswces"
      }
    },
    {
      "cell_type": "code",
      "source": [
        "# Set the random seed\n",
        "tf.random.set_seed(8)\n",
        "\n",
        "# Create the model\n",
        "model_5 = tf.keras.Sequential([\n",
        "    tf.keras.layers.Dense(4, activation='relu'),\n",
        "    tf.keras.layers.Dense(4, activation='relu'),\n",
        "    tf.keras.layers.Dense(1)\n",
        "])\n",
        "\n",
        "# Compile the model\n",
        "model_5.compile(optimizer=tf.keras.optimizers.Adam(),\n",
        "                loss=tf.keras.losses.BinaryCrossentropy(),\n",
        "                metrics=['accuracy'])\n",
        "\n",
        "# Fit the model\n",
        "model_5.fit(X_train, y_train, epochs=20)"
      ],
      "metadata": {
        "colab": {
          "base_uri": "https://localhost:8080/"
        },
        "id": "saC69AxVwsb7",
        "outputId": "093de017-207a-4d12-cef9-8f74500f871d"
      },
      "execution_count": null,
      "outputs": [
        {
          "output_type": "stream",
          "name": "stdout",
          "text": [
            "Epoch 1/20\n",
            "25/25 [==============================] - 1s 2ms/step - loss: 0.6746 - accuracy: 0.7525\n",
            "Epoch 2/20\n",
            "25/25 [==============================] - 0s 2ms/step - loss: 0.5671 - accuracy: 0.7188\n",
            "Epoch 3/20\n",
            "25/25 [==============================] - 0s 2ms/step - loss: 0.5081 - accuracy: 0.7250\n",
            "Epoch 4/20\n",
            "25/25 [==============================] - 0s 2ms/step - loss: 0.4667 - accuracy: 0.7375\n",
            "Epoch 5/20\n",
            "25/25 [==============================] - 0s 2ms/step - loss: 0.4312 - accuracy: 0.7387\n",
            "Epoch 6/20\n",
            "25/25 [==============================] - 0s 2ms/step - loss: 0.4070 - accuracy: 0.7475\n",
            "Epoch 7/20\n",
            "25/25 [==============================] - 0s 2ms/step - loss: 0.3880 - accuracy: 0.7525\n",
            "Epoch 8/20\n",
            "25/25 [==============================] - 0s 2ms/step - loss: 0.3714 - accuracy: 0.7588\n",
            "Epoch 9/20\n",
            "25/25 [==============================] - 0s 2ms/step - loss: 0.3558 - accuracy: 0.7700\n",
            "Epoch 10/20\n",
            "25/25 [==============================] - 0s 2ms/step - loss: 0.3400 - accuracy: 0.7763\n",
            "Epoch 11/20\n",
            "25/25 [==============================] - 0s 2ms/step - loss: 0.3254 - accuracy: 0.7875\n",
            "Epoch 12/20\n",
            "25/25 [==============================] - 0s 2ms/step - loss: 0.3104 - accuracy: 0.8087\n",
            "Epoch 13/20\n",
            "25/25 [==============================] - 0s 2ms/step - loss: 0.2957 - accuracy: 0.8313\n",
            "Epoch 14/20\n",
            "25/25 [==============================] - 0s 2ms/step - loss: 0.2814 - accuracy: 0.8425\n",
            "Epoch 15/20\n",
            "25/25 [==============================] - 0s 2ms/step - loss: 0.2675 - accuracy: 0.8550\n",
            "Epoch 16/20\n",
            "25/25 [==============================] - 0s 2ms/step - loss: 0.2538 - accuracy: 0.8625\n",
            "Epoch 17/20\n",
            "25/25 [==============================] - 0s 2ms/step - loss: 0.2407 - accuracy: 0.8763\n",
            "Epoch 18/20\n",
            "25/25 [==============================] - 0s 2ms/step - loss: 0.2287 - accuracy: 0.8863\n",
            "Epoch 19/20\n",
            "25/25 [==============================] - 0s 2ms/step - loss: 0.2154 - accuracy: 0.8913\n",
            "Epoch 20/20\n",
            "25/25 [==============================] - 0s 2ms/step - loss: 0.2032 - accuracy: 0.9025\n"
          ]
        },
        {
          "output_type": "execute_result",
          "data": {
            "text/plain": [
              "<keras.src.callbacks.History at 0x7aa004402140>"
            ]
          },
          "metadata": {},
          "execution_count": 65
        }
      ]
    },
    {
      "cell_type": "code",
      "source": [
        "# Evaluate the model\n",
        "model_5.evaluate(X_test, y_test)"
      ],
      "metadata": {
        "colab": {
          "base_uri": "https://localhost:8080/"
        },
        "id": "UQ6x-75nxUVb",
        "outputId": "16437afb-1ac7-4c27-e31d-b1663bbfe0b0"
      },
      "execution_count": null,
      "outputs": [
        {
          "output_type": "stream",
          "name": "stdout",
          "text": [
            "7/7 [==============================] - 0s 4ms/step - loss: 0.1735 - accuracy: 0.9200\n"
          ]
        },
        {
          "output_type": "execute_result",
          "data": {
            "text/plain": [
              "[0.17349687218666077, 0.9200000166893005]"
            ]
          },
          "metadata": {},
          "execution_count": 66
        }
      ]
    },
    {
      "cell_type": "markdown",
      "source": [
        "### **Final model (Model - 6)**"
      ],
      "metadata": {
        "id": "sAILhJPnxeIz"
      }
    },
    {
      "cell_type": "code",
      "source": [
        "# Set the random seed\n",
        "tf.random.set_seed(8)\n",
        "\n",
        "# Create the model\n",
        "model_6 = tf.keras.Sequential([\n",
        "    tf.keras.layers.Dense(10, activation='relu'),\n",
        "    tf.keras.layers.Dense(10, activation='relu'),\n",
        "    tf.keras.layers.Dense(1, activation='sigmoid')\n",
        "])\n",
        "\n",
        "# Compile the model\n",
        "model_6.compile(optimizer=tf.keras.optimizers.Adam(learning_rate=0.01),\n",
        "                loss=tf.keras.losses.BinaryCrossentropy(),\n",
        "                metrics=['accuracy'])\n",
        "\n",
        "# Fit the model\n",
        "model_6.fit(X_train, y_train, epochs=10)"
      ],
      "metadata": {
        "colab": {
          "base_uri": "https://localhost:8080/"
        },
        "id": "SzE_CF8gxlb7",
        "outputId": "ce792944-87d9-4dd8-ff0e-a19d467448ac"
      },
      "execution_count": null,
      "outputs": [
        {
          "output_type": "stream",
          "name": "stdout",
          "text": [
            "Epoch 1/10\n",
            "25/25 [==============================] - 1s 2ms/step - loss: 0.5753 - accuracy: 0.6800\n",
            "Epoch 2/10\n",
            "25/25 [==============================] - 0s 2ms/step - loss: 0.3429 - accuracy: 0.8475\n",
            "Epoch 3/10\n",
            "25/25 [==============================] - 0s 2ms/step - loss: 0.2615 - accuracy: 0.8875\n",
            "Epoch 4/10\n",
            "25/25 [==============================] - 0s 2ms/step - loss: 0.2061 - accuracy: 0.9075\n",
            "Epoch 5/10\n",
            "25/25 [==============================] - 0s 2ms/step - loss: 0.1571 - accuracy: 0.9350\n",
            "Epoch 6/10\n",
            "25/25 [==============================] - 0s 2ms/step - loss: 0.1083 - accuracy: 0.9613\n",
            "Epoch 7/10\n",
            "25/25 [==============================] - 0s 2ms/step - loss: 0.0805 - accuracy: 0.9800\n",
            "Epoch 8/10\n",
            "25/25 [==============================] - 0s 2ms/step - loss: 0.0485 - accuracy: 0.9912\n",
            "Epoch 9/10\n",
            "25/25 [==============================] - 0s 2ms/step - loss: 0.0353 - accuracy: 0.9912\n",
            "Epoch 10/10\n",
            "25/25 [==============================] - 0s 2ms/step - loss: 0.0190 - accuracy: 1.0000\n"
          ]
        },
        {
          "output_type": "execute_result",
          "data": {
            "text/plain": [
              "<keras.src.callbacks.History at 0x7a9fff155f60>"
            ]
          },
          "metadata": {},
          "execution_count": 116
        }
      ]
    },
    {
      "cell_type": "code",
      "source": [
        "# Evaluate the model\n",
        "model_6.fit(X_test, y_test)"
      ],
      "metadata": {
        "colab": {
          "base_uri": "https://localhost:8080/"
        },
        "id": "cqUUoIQ2yR1g",
        "outputId": "4705e6f6-00c4-4e74-8cd0-b3e7b65600a7"
      },
      "execution_count": null,
      "outputs": [
        {
          "output_type": "stream",
          "name": "stdout",
          "text": [
            "7/7 [==============================] - 0s 3ms/step - loss: 0.0125 - accuracy: 1.0000\n"
          ]
        },
        {
          "output_type": "execute_result",
          "data": {
            "text/plain": [
              "<keras.src.callbacks.History at 0x7a9fff01bcd0>"
            ]
          },
          "metadata": {},
          "execution_count": 117
        }
      ]
    },
    {
      "cell_type": "code",
      "source": [
        "model_6.save('half_moon_best_model.keras')"
      ],
      "metadata": {
        "id": "v-pJEHCZ450b"
      },
      "execution_count": null,
      "outputs": []
    },
    {
      "cell_type": "code",
      "source": [
        "y_probs = model_6.predict(X_test)"
      ],
      "metadata": {
        "colab": {
          "base_uri": "https://localhost:8080/"
        },
        "id": "HYiIAnXHzf5G",
        "outputId": "3bbc5ab9-c5c9-4973-c0af-83c89dd59e9e"
      },
      "execution_count": null,
      "outputs": [
        {
          "output_type": "stream",
          "name": "stdout",
          "text": [
            "7/7 [==============================] - 0s 4ms/step\n"
          ]
        }
      ]
    },
    {
      "cell_type": "code",
      "source": [
        "y_probs = y_probs.squeeze()"
      ],
      "metadata": {
        "id": "zsANG0305NHj"
      },
      "execution_count": null,
      "outputs": []
    },
    {
      "cell_type": "code",
      "source": [
        "y_probs[:10]"
      ],
      "metadata": {
        "colab": {
          "base_uri": "https://localhost:8080/"
        },
        "id": "SsQJ-4yb5Vfe",
        "outputId": "5a296178-d05d-4d0f-f8ca-206e04c51e2b"
      },
      "execution_count": null,
      "outputs": [
        {
          "output_type": "execute_result",
          "data": {
            "text/plain": [
              "array([9.9042428e-01, 9.7220792e-03, 9.9733931e-01, 9.9672681e-01,\n",
              "       9.9573463e-01, 9.4448817e-01, 9.9898088e-01, 3.4008987e-04,\n",
              "       2.4359317e-03, 8.4142154e-03], dtype=float32)"
            ]
          },
          "metadata": {},
          "execution_count": 126
        }
      ]
    },
    {
      "cell_type": "code",
      "source": [
        "y_preds = tf.round(y_probs)\n",
        "y_preds[:10]"
      ],
      "metadata": {
        "colab": {
          "base_uri": "https://localhost:8080/"
        },
        "id": "1tSPpWpv5fBF",
        "outputId": "c67e8e10-1598-4679-f9ef-592d84381825"
      },
      "execution_count": null,
      "outputs": [
        {
          "output_type": "execute_result",
          "data": {
            "text/plain": [
              "<tf.Tensor: shape=(10,), dtype=float32, numpy=array([1., 0., 1., 1., 1., 1., 1., 0., 0., 0.], dtype=float32)>"
            ]
          },
          "metadata": {},
          "execution_count": 127
        }
      ]
    },
    {
      "cell_type": "code",
      "source": [
        "y_preds = tf.cast(y_preds, dtype=tf.int32)\n",
        "y_preds[:10]"
      ],
      "metadata": {
        "colab": {
          "base_uri": "https://localhost:8080/"
        },
        "id": "YoY0_UoD56dE",
        "outputId": "9a4af1a1-3da5-432c-f9d8-ff415d9ed877"
      },
      "execution_count": null,
      "outputs": [
        {
          "output_type": "execute_result",
          "data": {
            "text/plain": [
              "<tf.Tensor: shape=(10,), dtype=int32, numpy=array([1, 0, 1, 1, 1, 1, 1, 0, 0, 0], dtype=int32)>"
            ]
          },
          "metadata": {},
          "execution_count": 128
        }
      ]
    },
    {
      "cell_type": "code",
      "source": [
        "X_train['X0'].head()"
      ],
      "metadata": {
        "colab": {
          "base_uri": "https://localhost:8080/"
        },
        "id": "7b9G_5Qc0g1q",
        "outputId": "2c928066-1f6d-4aa1-8121-6cca45e0310f"
      },
      "execution_count": null,
      "outputs": [
        {
          "output_type": "execute_result",
          "data": {
            "text/plain": [
              "578    1.871333\n",
              "66     0.542964\n",
              "39    -0.604803\n",
              "302   -0.955895\n",
              "974    0.034975\n",
              "Name: X0, dtype: float64"
            ]
          },
          "metadata": {},
          "execution_count": 91
        }
      ]
    },
    {
      "cell_type": "code",
      "source": [
        "colors = sns.color_palette(n_colors=6)\n",
        "\n",
        "def plot(X_train=X_train, y_train=y_train, X_test=X_test, y_test=y_test, prediction=None):\n",
        "  plt.figure(figsize=(8, 6))\n",
        "  sns.scatterplot(x=X_train['X0'], y=X_train['X1'], hue=y_train, palette=colors[:2])\n",
        "  sns.scatterplot(x=X_test['X0'], y=X_test['X1'], hue=y_test, palette=colors[2:4])\n",
        "  sns.scatterplot(x=X_test['X0'], y=X_test['X1'], hue=y_preds, palette=colors[4:]);"
      ],
      "metadata": {
        "id": "BuRWy9Nszs3L"
      },
      "execution_count": null,
      "outputs": []
    },
    {
      "cell_type": "code",
      "source": [
        "plot(prediction=y_preds)"
      ],
      "metadata": {
        "colab": {
          "base_uri": "https://localhost:8080/",
          "height": 542
        },
        "id": "_CqEkhGv3s5s",
        "outputId": "16199b36-e078-44fb-8d46-47c1285a948e"
      },
      "execution_count": null,
      "outputs": [
        {
          "output_type": "display_data",
          "data": {
            "text/plain": [
              "<Figure size 800x600 with 1 Axes>"
            ],
            "image/png": "[encoded data removed]"
          },
          "metadata": {}
        }
      ]
    },
    {
      "cell_type": "markdown",
      "source": [
        "### **Finding Ideal Learning Rate (Model - 7)**"
      ],
      "metadata": {
        "id": "wSdh0jjx34tV"
      }
    },
    {
      "cell_type": "code",
      "source": [
        "# Set the random seed\n",
        "tf.random.set_seed(8)\n",
        "\n",
        "# Create the model\n",
        "model_7 = tf.keras.Sequential([\n",
        "    tf.keras.layers.Dense(10, activation='relu'),\n",
        "    tf.keras.layers.Dense(10, activation='relu'),\n",
        "    tf.keras.layers.Dense(1, activation='sigmoid')\n",
        "])\n",
        "\n",
        "# Compile the model\n",
        "model_7.compile(optimizer=tf.keras.optimizers.Adam(),\n",
        "                loss=tf.keras.losses.BinaryCrossentropy(),\n",
        "                metrics=['accuracy'])\n",
        "\n",
        "# Set the Learning Rate\n",
        "learning_rate_scheduler = tf.keras.callbacks.LearningRateScheduler(lambda epochs: 1e-3 * 10 ** (epochs / 20))\n",
        "\n",
        "# Fit on the model\n",
        "lrs_history = model_7.fit(X_train,\n",
        "                          y_train,\n",
        "                          epochs=30,\n",
        "                          callbacks=[learning_rate_scheduler],\n",
        "                          validation_data=(X_test, y_test))"
      ],
      "metadata": {
        "colab": {
          "base_uri": "https://localhost:8080/"
        },
        "id": "32QNd-f06jmF",
        "outputId": "ac6c8f68-417c-4e5a-8f6f-eb8de16c34d6"
      },
      "execution_count": null,
      "outputs": [
        {
          "output_type": "stream",
          "name": "stdout",
          "text": [
            "Epoch 1/30\n",
            "25/25 [==============================] - 1s 12ms/step - loss: 0.6994 - accuracy: 0.5138 - val_loss: 0.6803 - val_accuracy: 0.5150 - lr: 0.0010\n",
            "Epoch 2/30\n",
            "25/25 [==============================] - 0s 3ms/step - loss: 0.6499 - accuracy: 0.6388 - val_loss: 0.6285 - val_accuracy: 0.7900 - lr: 0.0011\n",
            "Epoch 3/30\n",
            "25/25 [==============================] - 0s 4ms/step - loss: 0.6007 - accuracy: 0.7862 - val_loss: 0.5769 - val_accuracy: 0.8100 - lr: 0.0013\n",
            "Epoch 4/30\n",
            "25/25 [==============================] - 0s 4ms/step - loss: 0.5491 - accuracy: 0.8025 - val_loss: 0.5139 - val_accuracy: 0.8550 - lr: 0.0014\n",
            "Epoch 5/30\n",
            "25/25 [==============================] - 0s 3ms/step - loss: 0.4891 - accuracy: 0.8263 - val_loss: 0.4481 - val_accuracy: 0.8750 - lr: 0.0016\n",
            "Epoch 6/30\n",
            "25/25 [==============================] - 0s 3ms/step - loss: 0.4276 - accuracy: 0.8425 - val_loss: 0.3774 - val_accuracy: 0.8750 - lr: 0.0018\n",
            "Epoch 7/30\n",
            "25/25 [==============================] - 0s 3ms/step - loss: 0.3674 - accuracy: 0.8537 - val_loss: 0.3141 - val_accuracy: 0.8900 - lr: 0.0020\n",
            "Epoch 8/30\n",
            "25/25 [==============================] - 0s 3ms/step - loss: 0.3204 - accuracy: 0.8625 - val_loss: 0.2671 - val_accuracy: 0.9050 - lr: 0.0022\n",
            "Epoch 9/30\n",
            "25/25 [==============================] - 0s 3ms/step - loss: 0.2876 - accuracy: 0.8712 - val_loss: 0.2354 - val_accuracy: 0.9050 - lr: 0.0025\n",
            "Epoch 10/30\n",
            "25/25 [==============================] - 0s 3ms/step - loss: 0.2601 - accuracy: 0.8825 - val_loss: 0.2116 - val_accuracy: 0.9100 - lr: 0.0028\n",
            "Epoch 11/30\n",
            "25/25 [==============================] - 0s 4ms/step - loss: 0.2400 - accuracy: 0.8888 - val_loss: 0.1918 - val_accuracy: 0.9000 - lr: 0.0032\n",
            "Epoch 12/30\n",
            "25/25 [==============================] - 0s 4ms/step - loss: 0.2185 - accuracy: 0.8963 - val_loss: 0.1759 - val_accuracy: 0.9150 - lr: 0.0035\n",
            "Epoch 13/30\n",
            "25/25 [==============================] - 0s 4ms/step - loss: 0.2008 - accuracy: 0.9062 - val_loss: 0.1652 - val_accuracy: 0.9200 - lr: 0.0040\n",
            "Epoch 14/30\n",
            "25/25 [==============================] - 0s 4ms/step - loss: 0.1874 - accuracy: 0.9112 - val_loss: 0.1491 - val_accuracy: 0.9200 - lr: 0.0045\n",
            "Epoch 15/30\n",
            "25/25 [==============================] - 0s 4ms/step - loss: 0.1705 - accuracy: 0.9212 - val_loss: 0.1344 - val_accuracy: 0.9250 - lr: 0.0050\n",
            "Epoch 16/30\n",
            "25/25 [==============================] - 0s 4ms/step - loss: 0.1498 - accuracy: 0.9375 - val_loss: 0.1126 - val_accuracy: 0.9400 - lr: 0.0056\n",
            "Epoch 17/30\n",
            "25/25 [==============================] - 0s 4ms/step - loss: 0.1273 - accuracy: 0.9438 - val_loss: 0.0943 - val_accuracy: 0.9600 - lr: 0.0063\n",
            "Epoch 18/30\n",
            "25/25 [==============================] - 0s 3ms/step - loss: 0.0997 - accuracy: 0.9600 - val_loss: 0.0673 - val_accuracy: 0.9850 - lr: 0.0071\n",
            "Epoch 19/30\n",
            "25/25 [==============================] - 0s 4ms/step - loss: 0.0681 - accuracy: 0.9800 - val_loss: 0.0480 - val_accuracy: 1.0000 - lr: 0.0079\n",
            "Epoch 20/30\n",
            "25/25 [==============================] - 0s 4ms/step - loss: 0.0453 - accuracy: 0.9912 - val_loss: 0.0293 - val_accuracy: 1.0000 - lr: 0.0089\n",
            "Epoch 21/30\n",
            "25/25 [==============================] - 0s 4ms/step - loss: 0.0293 - accuracy: 0.9987 - val_loss: 0.0192 - val_accuracy: 1.0000 - lr: 0.0100\n",
            "Epoch 22/30\n",
            "25/25 [==============================] - 0s 4ms/step - loss: 0.0198 - accuracy: 1.0000 - val_loss: 0.0121 - val_accuracy: 1.0000 - lr: 0.0112\n",
            "Epoch 23/30\n",
            "25/25 [==============================] - 0s 3ms/step - loss: 0.0121 - accuracy: 1.0000 - val_loss: 0.0085 - val_accuracy: 1.0000 - lr: 0.0126\n",
            "Epoch 24/30\n",
            "25/25 [==============================] - 0s 4ms/step - loss: 0.0081 - accuracy: 1.0000 - val_loss: 0.0055 - val_accuracy: 1.0000 - lr: 0.0141\n",
            "Epoch 25/30\n",
            "25/25 [==============================] - 0s 4ms/step - loss: 0.0057 - accuracy: 1.0000 - val_loss: 0.0048 - val_accuracy: 1.0000 - lr: 0.0158\n",
            "Epoch 26/30\n",
            "25/25 [==============================] - 0s 4ms/step - loss: 0.0043 - accuracy: 1.0000 - val_loss: 0.0031 - val_accuracy: 1.0000 - lr: 0.0178\n",
            "Epoch 27/30\n",
            "25/25 [==============================] - 0s 4ms/step - loss: 0.0032 - accuracy: 1.0000 - val_loss: 0.0025 - val_accuracy: 1.0000 - lr: 0.0200\n",
            "Epoch 28/30\n",
            "25/25 [==============================] - 0s 3ms/step - loss: 0.0026 - accuracy: 1.0000 - val_loss: 0.0024 - val_accuracy: 1.0000 - lr: 0.0224\n",
            "Epoch 29/30\n",
            "25/25 [==============================] - 0s 4ms/step - loss: 0.0019 - accuracy: 1.0000 - val_loss: 0.0015 - val_accuracy: 1.0000 - lr: 0.0251\n",
            "Epoch 30/30\n",
            "25/25 [==============================] - 0s 3ms/step - loss: 0.0016 - accuracy: 1.0000 - val_loss: 0.0012 - val_accuracy: 1.0000 - lr: 0.0282\n"
          ]
        }
      ]
    },
    {
      "cell_type": "markdown",
      "source": [
        "### **Plot the Learning Rate Vs Loss**"
      ],
      "metadata": {
        "id": "nNKkHEq381eh"
      }
    },
    {
      "cell_type": "code",
      "source": [
        "lrs = 1e-3 * 10 ** (tf.range(30) / 20)\n",
        "lrs"
      ],
      "metadata": {
        "colab": {
          "base_uri": "https://localhost:8080/"
        },
        "id": "8mn3n4z4_zrC",
        "outputId": "6ab7c4e3-c2be-4eca-d5e0-5e97f87884bc"
      },
      "execution_count": null,
      "outputs": [
        {
          "output_type": "execute_result",
          "data": {
            "text/plain": [
              "<tf.Tensor: shape=(30,), dtype=float64, numpy=\n",
              "array([0.001     , 0.00112202, 0.00125893, 0.00141254, 0.00158489,\n",
              "       0.00177828, 0.00199526, 0.00223872, 0.00251189, 0.00281838,\n",
              "       0.00316228, 0.00354813, 0.00398107, 0.00446684, 0.00501187,\n",
              "       0.00562341, 0.00630957, 0.00707946, 0.00794328, 0.00891251,\n",
              "       0.01      , 0.01122018, 0.01258925, 0.01412538, 0.01584893,\n",
              "       0.01778279, 0.01995262, 0.02238721, 0.02511886, 0.02818383])>"
            ]
          },
          "metadata": {},
          "execution_count": 144
        }
      ]
    },
    {
      "cell_type": "code",
      "source": [
        "plt.figure(figsize=(8, 6))\n",
        "plt.semilogx(lrs, lrs_history.history['loss'])\n",
        "plt.xlabel('Learning Rate')\n",
        "plt.ylabel('Loss');"
      ],
      "metadata": {
        "colab": {
          "base_uri": "https://localhost:8080/",
          "height": 546
        },
        "id": "z944E0Z18xkV",
        "outputId": "df0d8de0-0227-4d59-f0e1-ed16975842b7"
      },
      "execution_count": null,
      "outputs": [
        {
          "output_type": "display_data",
          "data": {
            "text/plain": [
              "<Figure size 800x600 with 1 Axes>"
            ],
            "image/png": "[encoded data removed]"
          },
          "metadata": {}
        }
      ]
    },
    {
      "cell_type": "markdown",
      "source": [
        "> It's Found that **'0.01'** is the best learning rate.👀😎😅"
      ],
      "metadata": {
        "id": "bU0yXhgV8r4i"
      }
    },
    {
      "cell_type": "markdown",
      "source": [
        "---"
      ],
      "metadata": {
        "id": "M0QWN-mAeWW_"
      }
    },
    {
      "cell_type": "markdown",
      "source": [
        "---"
      ],
      "metadata": {
        "id": "pImtpwA4eYhe"
      }
    },
    {
      "cell_type": "markdown",
      "source": [
        "## **4. Train a model to get 88%+ accuracy on the fashion MNIST test set. Plot a confusion matrix to see the results after.**"
      ],
      "metadata": {
        "id": "-Gg55WUwdabg"
      }
    },
    {
      "cell_type": "markdown",
      "source": [
        "### **Getting the data ready and Data Preprocessing**"
      ],
      "metadata": {
        "id": "mun64gPke0pZ"
      }
    },
    {
      "cell_type": "code",
      "source": [
        "(X_train, y_train), (X_test, y_test)  = tf.keras.datasets.fashion_mnist.load_data()"
      ],
      "metadata": {
        "id": "OyNlWHCcn87F",
        "colab": {
          "base_uri": "https://localhost:8080/"
        },
        "outputId": "5e28e795-3a63-4cab-d6e3-3878a57f7b18"
      },
      "execution_count": null,
      "outputs": [
        {
          "output_type": "stream",
          "name": "stdout",
          "text": [
            "Downloading data from https://storage.googleapis.com/tensorflow/tf-keras-datasets/train-labels-idx1-ubyte.gz\n",
            "29515/29515 [==============================] - 0s 0us/step\n",
            "Downloading data from https://storage.googleapis.com/tensorflow/tf-keras-datasets/train-images-idx3-ubyte.gz\n",
            "26421880/26421880 [==============================] - 0s 0us/step\n",
            "Downloading data from https://storage.googleapis.com/tensorflow/tf-keras-datasets/t10k-labels-idx1-ubyte.gz\n",
            "5148/5148 [==============================] - 0s 0us/step\n",
            "Downloading data from https://storage.googleapis.com/tensorflow/tf-keras-datasets/t10k-images-idx3-ubyte.gz\n",
            "4422102/4422102 [==============================] - 0s 0us/step\n"
          ]
        }
      ]
    },
    {
      "cell_type": "code",
      "source": [
        "X_train.shape, y_train.shape, X_test.shape, y_test.shape"
      ],
      "metadata": {
        "colab": {
          "base_uri": "https://localhost:8080/"
        },
        "id": "5po02BmHtq_-",
        "outputId": "6bd333dd-e571-4c22-ee95-18fd1da5b493"
      },
      "execution_count": null,
      "outputs": [
        {
          "output_type": "execute_result",
          "data": {
            "text/plain": [
              "((60000, 28, 28), (60000,), (10000, 28, 28), (10000,))"
            ]
          },
          "metadata": {},
          "execution_count": 6
        }
      ]
    },
    {
      "cell_type": "code",
      "source": [
        "X_train[0].shape"
      ],
      "metadata": {
        "colab": {
          "base_uri": "https://localhost:8080/"
        },
        "id": "XvfiHQsstxaX",
        "outputId": "6a85dbc6-ea36-4bd1-fabd-10593629a732"
      },
      "execution_count": null,
      "outputs": [
        {
          "output_type": "execute_result",
          "data": {
            "text/plain": [
              "(28, 28)"
            ]
          },
          "metadata": {},
          "execution_count": 45
        }
      ]
    },
    {
      "cell_type": "code",
      "source": [
        "y_train[0].shape"
      ],
      "metadata": {
        "colab": {
          "base_uri": "https://localhost:8080/"
        },
        "id": "OHRE6hkRuqGQ",
        "outputId": "6bf7d6c3-8541-4407-f991-0f714f86e2fa"
      },
      "execution_count": null,
      "outputs": [
        {
          "output_type": "execute_result",
          "data": {
            "text/plain": [
              "()"
            ]
          },
          "metadata": {},
          "execution_count": 46
        }
      ]
    },
    {
      "cell_type": "code",
      "source": [
        "doc = tf.keras.datasets.fashion_mnist.load_data.__doc__\n",
        "doc"
      ],
      "metadata": {
        "colab": {
          "base_uri": "https://localhost:8080/",
          "height": 171
        },
        "id": "6FECzDPHuv28",
        "outputId": "ed3a481a-31fe-45f0-f92d-3c102af8faae"
      },
      "execution_count": null,
      "outputs": [
        {
          "output_type": "execute_result",
          "data": {
            "text/plain": [
              "'Loads the Fashion-MNIST dataset.\\n\\n    This is a dataset of 60,000 28x28 grayscale images of 10 fashion categories,\\n    along with a test set of 10,000 images. This dataset can be used as\\n    a drop-in replacement for MNIST.\\n\\n    The classes are:\\n\\n    | Label | Description |\\n    |:-----:|-------------|\\n    |   0   | T-shirt/top |\\n    |   1   | Trouser     |\\n    |   2   | Pullover    |\\n    |   3   | Dress       |\\n    |   4   | Coat        |\\n    |   5   | Sandal      |\\n    |   6   | Shirt       |\\n    |   7   | Sneaker     |\\n    |   8   | Bag         |\\n    |   9   | Ankle boot  |\\n\\n    Returns:\\n      Tuple of NumPy arrays: `(x_train, y_train), (x_test, y_test)`.\\n\\n    **x_train**: uint8 NumPy array of grayscale image data with shapes\\n      `(60000, 28, 28)`, containing the training data.\\n\\n    **y_train**: uint8 NumPy array of labels (integers in range 0-9)\\n      with shape `(60000,)` for the training data.\\n\\n    **x_test**: uint8 NumPy array of grayscale image data with shapes\\n      (10000, 28, 28), containing the test data.\\n\\n    **y_test**: uint8 NumPy array of labels (integers in range 0-9)\\n      with shape `(10000,)` for the test data.\\n\\n    Example:\\n\\n    ```python\\n    (x_train, y_train), (x_test, y_test) = fashion_mnist.load_data()\\n    assert x_train.shape == (60000, 28, 28)\\n    assert x_test.shape == (10000, 28, 28)\\n    assert y_train.shape == (60000,)\\n    assert y_test.shape == (10000,)\\n    ```\\n\\n    License:\\n      The copyright for Fashion-MNIST is held by Zalando SE.\\n      Fashion-MNIST is licensed under the [MIT license](\\n      https://github.com/zalandoresearch/fashion-mnist/blob/master/LICENSE).\\n\\n    '"
            ],
            "application/vnd.google.colaboratory.intrinsic+json": {
              "type": "string"
            }
          },
          "metadata": {},
          "execution_count": 17
        }
      ]
    },
    {
      "cell_type": "code",
      "source": [
        "categories = {\n",
        "    0: 'T-shirt/top',\n",
        "    1: 'Trouser',\n",
        "    2: 'Pullover',\n",
        "    3: 'Dress',\n",
        "    4: 'Coat',\n",
        "    5: 'Sandal',\n",
        "    6: 'Shirt',\n",
        "    7: 'Sneaker',\n",
        "    8: 'Bag',\n",
        "    9: 'Ankle boot'\n",
        "}"
      ],
      "metadata": {
        "id": "GsN0AZTyvBnx"
      },
      "execution_count": null,
      "outputs": []
    },
    {
      "cell_type": "code",
      "source": [
        "import random"
      ],
      "metadata": {
        "id": "GXu3a5Ovu77N"
      },
      "execution_count": null,
      "outputs": []
    },
    {
      "cell_type": "code",
      "source": [
        "def fashion_view(number):\n",
        "  image = X_train[number]\n",
        "  label = y_train[number]\n",
        "  plt.imshow(image, cmap=plt.cm.binary)\n",
        "  plt.title(categories[label])\n",
        "  plt.axis(False)"
      ],
      "metadata": {
        "id": "jo7GWObGu5ht"
      },
      "execution_count": null,
      "outputs": []
    },
    {
      "cell_type": "code",
      "source": [
        "fashion_view(random.randint(0, len(X_train) - 1))"
      ],
      "metadata": {
        "colab": {
          "base_uri": "https://localhost:8080/",
          "height": 428
        },
        "id": "-Wflf5uDyFdj",
        "outputId": "5a93b194-60ea-4374-b0cf-ecaa2e3e0184"
      },
      "execution_count": null,
      "outputs": [
        {
          "output_type": "display_data",
          "data": {
            "text/plain": [
              "<Figure size 640x480 with 1 Axes>"
            ],
            "image/png": "[encoded data removed]"
          },
          "metadata": {}
        }
      ]
    },
    {
      "cell_type": "markdown",
      "source": [
        "---"
      ],
      "metadata": {
        "id": "Pvr9WOjOeebq"
      }
    },
    {
      "cell_type": "markdown",
      "source": [
        "---"
      ],
      "metadata": {
        "id": "HwMC6stQefPL"
      }
    },
    {
      "cell_type": "markdown",
      "source": [
        "## **5. Recreate [TensorFlow's](https://www.tensorflow.org/api_docs/python/tf/keras/activations/softmax) [softmax activation function](https://en.wikipedia.org/wiki/Softmax_function) in your own code. Make sure it can accept a tensor and return that tensor after having the softmax function applied to it.**"
      ],
      "metadata": {
        "id": "_-lW2e_addQL"
      }
    },
    {
      "cell_type": "markdown",
      "source": [
        "### **Preparing Model - 8**"
      ],
      "metadata": {
        "id": "rq7kBLBF0SiK"
      }
    },
    {
      "cell_type": "code",
      "source": [
        "# Set the random seed\n",
        "tf.random.set_seed(8)\n",
        "\n",
        "# Create the model\n",
        "model_8 = tf.keras.Sequential([\n",
        "    tf.keras.layers.Dense(4, activation='relu'),\n",
        "    tf.keras.layers.Dense(4, activation='relu'),\n",
        "    tf.keras.layers.Dense(10, activation='softmax')\n",
        "])\n",
        "\n",
        "# Compile the model\n",
        "model_8.compile(optimizer=tf.keras.optimizers.Adam(),\n",
        "                loss=tf.keras.losses.CategoricalCrossentropy(),\n",
        "                metrics=['accuracy'])\n",
        "\n",
        "# Fit the model\n",
        "model_8.fit(X_train,\n",
        "            y_train,\n",
        "            epochs=20,\n",
        "            validation_data=(X_test, y_test))"
      ],
      "metadata": {
        "colab": {
          "base_uri": "https://localhost:8080/",
          "height": 810
        },
        "id": "1E4BOrSS0a1x",
        "outputId": "c93402ea-5ced-4e2c-f8df-32020d023a81"
      },
      "execution_count": null,
      "outputs": [
        {
          "output_type": "stream",
          "name": "stdout",
          "text": [
            "Epoch 1/20\n"
          ]
        },
        {
          "output_type": "error",
          "ename": "ValueError",
          "evalue": "in user code:\n\n    File \"/usr/local/lib/python3.10/dist-packages/keras/src/engine/training.py\", line 1401, in train_function  *\n        return step_function(self, iterator)\n    File \"/usr/local/lib/python3.10/dist-packages/keras/src/engine/training.py\", line 1384, in step_function  **\n        outputs = model.distribute_strategy.run(run_step, args=(data,))\n    File \"/usr/local/lib/python3.10/dist-packages/keras/src/engine/training.py\", line 1373, in run_step  **\n        outputs = model.train_step(data)\n    File \"/usr/local/lib/python3.10/dist-packages/keras/src/engine/training.py\", line 1151, in train_step\n        loss = self.compute_loss(x, y, y_pred, sample_weight)\n    File \"/usr/local/lib/python3.10/dist-packages/keras/src/engine/training.py\", line 1209, in compute_loss\n        return self.compiled_loss(\n    File \"/usr/local/lib/python3.10/dist-packages/keras/src/engine/compile_utils.py\", line 277, in __call__\n        loss_value = loss_obj(y_t, y_p, sample_weight=sw)\n    File \"/usr/local/lib/python3.10/dist-packages/keras/src/losses.py\", line 143, in __call__\n        losses = call_fn(y_true, y_pred)\n    File \"/usr/local/lib/python3.10/dist-packages/keras/src/losses.py\", line 270, in call  **\n        return ag_fn(y_true, y_pred, **self._fn_kwargs)\n    File \"/usr/local/lib/python3.10/dist-packages/keras/src/losses.py\", line 2221, in categorical_crossentropy\n        return backend.categorical_crossentropy(\n    File \"/usr/local/lib/python3.10/dist-packages/keras/src/backend.py\", line 5573, in categorical_crossentropy\n        target.shape.assert_is_compatible_with(output.shape)\n\n    ValueError: Shapes (32,) and (32, 28, 10) are incompatible\n",
          "traceback": [
            "\u001b[0;31m---------------------------------------------------------------------------\u001b[0m",
            "\u001b[0;31mValueError\u001b[0m                                Traceback (most recent call last)",
            "\u001b[0;32m<ipython-input-49-cafd4e2349b9>\u001b[0m in \u001b[0;36m<cell line: 17>\u001b[0;34m()\u001b[0m\n\u001b[1;32m     15\u001b[0m \u001b[0;34m\u001b[0m\u001b[0m\n\u001b[1;32m     16\u001b[0m \u001b[0;31m# Fit the model\u001b[0m\u001b[0;34m\u001b[0m\u001b[0;34m\u001b[0m\u001b[0m\n\u001b[0;32m---> 17\u001b[0;31m model_8.fit(X_train,\n\u001b[0m\u001b[1;32m     18\u001b[0m             \u001b[0my_train\u001b[0m\u001b[0;34m,\u001b[0m\u001b[0;34m\u001b[0m\u001b[0;34m\u001b[0m\u001b[0m\n\u001b[1;32m     19\u001b[0m             \u001b[0mepochs\u001b[0m\u001b[0;34m=\u001b[0m\u001b[0;36m20\u001b[0m\u001b[0;34m,\u001b[0m\u001b[0;34m\u001b[0m\u001b[0;34m\u001b[0m\u001b[0m\n",
            "\u001b[0;32m/usr/local/lib/python3.10/dist-packages/keras/src/utils/traceback_utils.py\u001b[0m in \u001b[0;36merror_handler\u001b[0;34m(*args, **kwargs)\u001b[0m\n\u001b[1;32m     68\u001b[0m             \u001b[0;31m# To get the full stack trace, call:\u001b[0m\u001b[0;34m\u001b[0m\u001b[0;34m\u001b[0m\u001b[0m\n\u001b[1;32m     69\u001b[0m             \u001b[0;31m# `tf.debugging.disable_traceback_filtering()`\u001b[0m\u001b[0;34m\u001b[0m\u001b[0;34m\u001b[0m\u001b[0m\n\u001b[0;32m---> 70\u001b[0;31m             \u001b[0;32mraise\u001b[0m \u001b[0me\u001b[0m\u001b[0;34m.\u001b[0m\u001b[0mwith_traceback\u001b[0m\u001b[0;34m(\u001b[0m\u001b[0mfiltered_tb\u001b[0m\u001b[0;34m)\u001b[0m \u001b[0;32mfrom\u001b[0m \u001b[0;32mNone\u001b[0m\u001b[0;34m\u001b[0m\u001b[0;34m\u001b[0m\u001b[0m\n\u001b[0m\u001b[1;32m     71\u001b[0m         \u001b[0;32mfinally\u001b[0m\u001b[0;34m:\u001b[0m\u001b[0;34m\u001b[0m\u001b[0;34m\u001b[0m\u001b[0m\n\u001b[1;32m     72\u001b[0m             \u001b[0;32mdel\u001b[0m \u001b[0mfiltered_tb\u001b[0m\u001b[0;34m\u001b[0m\u001b[0;34m\u001b[0m\u001b[0m\n",
            "\u001b[0;32m/usr/local/lib/python3.10/dist-packages/keras/src/engine/training.py\u001b[0m in \u001b[0;36mtf__train_function\u001b[0;34m(iterator)\u001b[0m\n\u001b[1;32m     13\u001b[0m                 \u001b[0;32mtry\u001b[0m\u001b[0;34m:\u001b[0m\u001b[0;34m\u001b[0m\u001b[0;34m\u001b[0m\u001b[0m\n\u001b[1;32m     14\u001b[0m                     \u001b[0mdo_return\u001b[0m \u001b[0;34m=\u001b[0m \u001b[0;32mTrue\u001b[0m\u001b[0;34m\u001b[0m\u001b[0;34m\u001b[0m\u001b[0m\n\u001b[0;32m---> 15\u001b[0;31m                     \u001b[0mretval_\u001b[0m \u001b[0;34m=\u001b[0m \u001b[0mag__\u001b[0m\u001b[0;34m.\u001b[0m\u001b[0mconverted_call\u001b[0m\u001b[0;34m(\u001b[0m\u001b[0mag__\u001b[0m\u001b[0;34m.\u001b[0m\u001b[0mld\u001b[0m\u001b[0;34m(\u001b[0m\u001b[0mstep_function\u001b[0m\u001b[0;34m)\u001b[0m\u001b[0;34m,\u001b[0m \u001b[0;34m(\u001b[0m\u001b[0mag__\u001b[0m\u001b[0;34m.\u001b[0m\u001b[0mld\u001b[0m\u001b[0;34m(\u001b[0m\u001b[0mself\u001b[0m\u001b[0;34m)\u001b[0m\u001b[0;34m,\u001b[0m \u001b[0mag__\u001b[0m\u001b[0;34m.\u001b[0m\u001b[0mld\u001b[0m\u001b[0;34m(\u001b[0m\u001b[0miterator\u001b[0m\u001b[0;34m)\u001b[0m\u001b[0;34m)\u001b[0m\u001b[0;34m,\u001b[0m \u001b[0;32mNone\u001b[0m\u001b[0;34m,\u001b[0m \u001b[0mfscope\u001b[0m\u001b[0;34m)\u001b[0m\u001b[0;34m\u001b[0m\u001b[0;34m\u001b[0m\u001b[0m\n\u001b[0m\u001b[1;32m     16\u001b[0m                 \u001b[0;32mexcept\u001b[0m\u001b[0;34m:\u001b[0m\u001b[0;34m\u001b[0m\u001b[0;34m\u001b[0m\u001b[0m\n\u001b[1;32m     17\u001b[0m                     \u001b[0mdo_return\u001b[0m \u001b[0;34m=\u001b[0m \u001b[0;32mFalse\u001b[0m\u001b[0;34m\u001b[0m\u001b[0;34m\u001b[0m\u001b[0m\n",
            "\u001b[0;31mValueError\u001b[0m: in user code:\n\n    File \"/usr/local/lib/python3.10/dist-packages/keras/src/engine/training.py\", line 1401, in train_function  *\n        return step_function(self, iterator)\n    File \"/usr/local/lib/python3.10/dist-packages/keras/src/engine/training.py\", line 1384, in step_function  **\n        outputs = model.distribute_strategy.run(run_step, args=(data,))\n    File \"/usr/local/lib/python3.10/dist-packages/keras/src/engine/training.py\", line 1373, in run_step  **\n        outputs = model.train_step(data)\n    File \"/usr/local/lib/python3.10/dist-packages/keras/src/engine/training.py\", line 1151, in train_step\n        loss = self.compute_loss(x, y, y_pred, sample_weight)\n    File \"/usr/local/lib/python3.10/dist-packages/keras/src/engine/training.py\", line 1209, in compute_loss\n        return self.compiled_loss(\n    File \"/usr/local/lib/python3.10/dist-packages/keras/src/engine/compile_utils.py\", line 277, in __call__\n        loss_value = loss_obj(y_t, y_p, sample_weight=sw)\n    File \"/usr/local/lib/python3.10/dist-packages/keras/src/losses.py\", line 143, in __call__\n        losses = call_fn(y_true, y_pred)\n    File \"/usr/local/lib/python3.10/dist-packages/keras/src/losses.py\", line 270, in call  **\n        return ag_fn(y_true, y_pred, **self._fn_kwargs)\n    File \"/usr/local/lib/python3.10/dist-packages/keras/src/losses.py\", line 2221, in categorical_crossentropy\n        return backend.categorical_crossentropy(\n    File \"/usr/local/lib/python3.10/dist-packages/keras/src/backend.py\", line 5573, in categorical_crossentropy\n        target.shape.assert_is_compatible_with(output.shape)\n\n    ValueError: Shapes (32,) and (32, 28, 10) are incompatible\n"
          ]
        }
      ]
    },
    {
      "cell_type": "markdown",
      "source": [
        "### **Preparing Model - 9 (Flattening the Data)**"
      ],
      "metadata": {
        "id": "r5L_khgK9pDt"
      }
    },
    {
      "cell_type": "code",
      "source": [
        "# Set the random seed\n",
        "tf.random.set_seed(8)\n",
        "\n",
        "# Create the model\n",
        "model_9 = tf.keras.Sequential([\n",
        "    tf.keras.layers.Flatten(input_shape=(28, 28)),\n",
        "    tf.keras.layers.Dense(4, activation='relu'),\n",
        "    tf.keras.layers.Dense(4, activation='relu'),\n",
        "    tf.keras.layers.Dense(10, activation='softmax')\n",
        "])\n",
        "\n",
        "# Compile the model\n",
        "model_9.compile(optimizer=tf.keras.optimizers.Adam(),\n",
        "                loss=tf.keras.losses.CategoricalCrossentropy(),\n",
        "                metrics=['accuracy'])\n",
        "\n",
        "# Fit the model\n",
        "model_9.fit(X_train,\n",
        "            y_train,\n",
        "            epochs=20,\n",
        "            validation_data=(X_test, y_test))"
      ],
      "metadata": {
        "colab": {
          "base_uri": "https://localhost:8080/",
          "height": 810
        },
        "id": "hGMbUqOe9a00",
        "outputId": "85f11970-ae13-4306-9ac8-699a8fc3b9d0"
      },
      "execution_count": null,
      "outputs": [
        {
          "output_type": "stream",
          "name": "stdout",
          "text": [
            "Epoch 1/20\n"
          ]
        },
        {
          "output_type": "error",
          "ename": "ValueError",
          "evalue": "in user code:\n\n    File \"/usr/local/lib/python3.10/dist-packages/keras/src/engine/training.py\", line 1401, in train_function  *\n        return step_function(self, iterator)\n    File \"/usr/local/lib/python3.10/dist-packages/keras/src/engine/training.py\", line 1384, in step_function  **\n        outputs = model.distribute_strategy.run(run_step, args=(data,))\n    File \"/usr/local/lib/python3.10/dist-packages/keras/src/engine/training.py\", line 1373, in run_step  **\n        outputs = model.train_step(data)\n    File \"/usr/local/lib/python3.10/dist-packages/keras/src/engine/training.py\", line 1151, in train_step\n        loss = self.compute_loss(x, y, y_pred, sample_weight)\n    File \"/usr/local/lib/python3.10/dist-packages/keras/src/engine/training.py\", line 1209, in compute_loss\n        return self.compiled_loss(\n    File \"/usr/local/lib/python3.10/dist-packages/keras/src/engine/compile_utils.py\", line 277, in __call__\n        loss_value = loss_obj(y_t, y_p, sample_weight=sw)\n    File \"/usr/local/lib/python3.10/dist-packages/keras/src/losses.py\", line 143, in __call__\n        losses = call_fn(y_true, y_pred)\n    File \"/usr/local/lib/python3.10/dist-packages/keras/src/losses.py\", line 270, in call  **\n        return ag_fn(y_true, y_pred, **self._fn_kwargs)\n    File \"/usr/local/lib/python3.10/dist-packages/keras/src/losses.py\", line 2221, in categorical_crossentropy\n        return backend.categorical_crossentropy(\n    File \"/usr/local/lib/python3.10/dist-packages/keras/src/backend.py\", line 5573, in categorical_crossentropy\n        target.shape.assert_is_compatible_with(output.shape)\n\n    ValueError: Shapes (32, 1) and (32, 10) are incompatible\n",
          "traceback": [
            "\u001b[0;31m---------------------------------------------------------------------------\u001b[0m",
            "\u001b[0;31mValueError\u001b[0m                                Traceback (most recent call last)",
            "\u001b[0;32m<ipython-input-51-3d77a83b9fa0>\u001b[0m in \u001b[0;36m<cell line: 18>\u001b[0;34m()\u001b[0m\n\u001b[1;32m     16\u001b[0m \u001b[0;34m\u001b[0m\u001b[0m\n\u001b[1;32m     17\u001b[0m \u001b[0;31m# Fit the model\u001b[0m\u001b[0;34m\u001b[0m\u001b[0;34m\u001b[0m\u001b[0m\n\u001b[0;32m---> 18\u001b[0;31m model_9.fit(X_train,\n\u001b[0m\u001b[1;32m     19\u001b[0m             \u001b[0my_train\u001b[0m\u001b[0;34m,\u001b[0m\u001b[0;34m\u001b[0m\u001b[0;34m\u001b[0m\u001b[0m\n\u001b[1;32m     20\u001b[0m             \u001b[0mepochs\u001b[0m\u001b[0;34m=\u001b[0m\u001b[0;36m20\u001b[0m\u001b[0;34m,\u001b[0m\u001b[0;34m\u001b[0m\u001b[0;34m\u001b[0m\u001b[0m\n",
            "\u001b[0;32m/usr/local/lib/python3.10/dist-packages/keras/src/utils/traceback_utils.py\u001b[0m in \u001b[0;36merror_handler\u001b[0;34m(*args, **kwargs)\u001b[0m\n\u001b[1;32m     68\u001b[0m             \u001b[0;31m# To get the full stack trace, call:\u001b[0m\u001b[0;34m\u001b[0m\u001b[0;34m\u001b[0m\u001b[0m\n\u001b[1;32m     69\u001b[0m             \u001b[0;31m# `tf.debugging.disable_traceback_filtering()`\u001b[0m\u001b[0;34m\u001b[0m\u001b[0;34m\u001b[0m\u001b[0m\n\u001b[0;32m---> 70\u001b[0;31m             \u001b[0;32mraise\u001b[0m \u001b[0me\u001b[0m\u001b[0;34m.\u001b[0m\u001b[0mwith_traceback\u001b[0m\u001b[0;34m(\u001b[0m\u001b[0mfiltered_tb\u001b[0m\u001b[0;34m)\u001b[0m \u001b[0;32mfrom\u001b[0m \u001b[0;32mNone\u001b[0m\u001b[0;34m\u001b[0m\u001b[0;34m\u001b[0m\u001b[0m\n\u001b[0m\u001b[1;32m     71\u001b[0m         \u001b[0;32mfinally\u001b[0m\u001b[0;34m:\u001b[0m\u001b[0;34m\u001b[0m\u001b[0;34m\u001b[0m\u001b[0m\n\u001b[1;32m     72\u001b[0m             \u001b[0;32mdel\u001b[0m \u001b[0mfiltered_tb\u001b[0m\u001b[0;34m\u001b[0m\u001b[0;34m\u001b[0m\u001b[0m\n",
            "\u001b[0;32m/usr/local/lib/python3.10/dist-packages/keras/src/engine/training.py\u001b[0m in \u001b[0;36mtf__train_function\u001b[0;34m(iterator)\u001b[0m\n\u001b[1;32m     13\u001b[0m                 \u001b[0;32mtry\u001b[0m\u001b[0;34m:\u001b[0m\u001b[0;34m\u001b[0m\u001b[0;34m\u001b[0m\u001b[0m\n\u001b[1;32m     14\u001b[0m                     \u001b[0mdo_return\u001b[0m \u001b[0;34m=\u001b[0m \u001b[0;32mTrue\u001b[0m\u001b[0;34m\u001b[0m\u001b[0;34m\u001b[0m\u001b[0m\n\u001b[0;32m---> 15\u001b[0;31m                     \u001b[0mretval_\u001b[0m \u001b[0;34m=\u001b[0m \u001b[0mag__\u001b[0m\u001b[0;34m.\u001b[0m\u001b[0mconverted_call\u001b[0m\u001b[0;34m(\u001b[0m\u001b[0mag__\u001b[0m\u001b[0;34m.\u001b[0m\u001b[0mld\u001b[0m\u001b[0;34m(\u001b[0m\u001b[0mstep_function\u001b[0m\u001b[0;34m)\u001b[0m\u001b[0;34m,\u001b[0m \u001b[0;34m(\u001b[0m\u001b[0mag__\u001b[0m\u001b[0;34m.\u001b[0m\u001b[0mld\u001b[0m\u001b[0;34m(\u001b[0m\u001b[0mself\u001b[0m\u001b[0;34m)\u001b[0m\u001b[0;34m,\u001b[0m \u001b[0mag__\u001b[0m\u001b[0;34m.\u001b[0m\u001b[0mld\u001b[0m\u001b[0;34m(\u001b[0m\u001b[0miterator\u001b[0m\u001b[0;34m)\u001b[0m\u001b[0;34m)\u001b[0m\u001b[0;34m,\u001b[0m \u001b[0;32mNone\u001b[0m\u001b[0;34m,\u001b[0m \u001b[0mfscope\u001b[0m\u001b[0;34m)\u001b[0m\u001b[0;34m\u001b[0m\u001b[0;34m\u001b[0m\u001b[0m\n\u001b[0m\u001b[1;32m     16\u001b[0m                 \u001b[0;32mexcept\u001b[0m\u001b[0;34m:\u001b[0m\u001b[0;34m\u001b[0m\u001b[0;34m\u001b[0m\u001b[0m\n\u001b[1;32m     17\u001b[0m                     \u001b[0mdo_return\u001b[0m \u001b[0;34m=\u001b[0m \u001b[0;32mFalse\u001b[0m\u001b[0;34m\u001b[0m\u001b[0;34m\u001b[0m\u001b[0m\n",
            "\u001b[0;31mValueError\u001b[0m: in user code:\n\n    File \"/usr/local/lib/python3.10/dist-packages/keras/src/engine/training.py\", line 1401, in train_function  *\n        return step_function(self, iterator)\n    File \"/usr/local/lib/python3.10/dist-packages/keras/src/engine/training.py\", line 1384, in step_function  **\n        outputs = model.distribute_strategy.run(run_step, args=(data,))\n    File \"/usr/local/lib/python3.10/dist-packages/keras/src/engine/training.py\", line 1373, in run_step  **\n        outputs = model.train_step(data)\n    File \"/usr/local/lib/python3.10/dist-packages/keras/src/engine/training.py\", line 1151, in train_step\n        loss = self.compute_loss(x, y, y_pred, sample_weight)\n    File \"/usr/local/lib/python3.10/dist-packages/keras/src/engine/training.py\", line 1209, in compute_loss\n        return self.compiled_loss(\n    File \"/usr/local/lib/python3.10/dist-packages/keras/src/engine/compile_utils.py\", line 277, in __call__\n        loss_value = loss_obj(y_t, y_p, sample_weight=sw)\n    File \"/usr/local/lib/python3.10/dist-packages/keras/src/losses.py\", line 143, in __call__\n        losses = call_fn(y_true, y_pred)\n    File \"/usr/local/lib/python3.10/dist-packages/keras/src/losses.py\", line 270, in call  **\n        return ag_fn(y_true, y_pred, **self._fn_kwargs)\n    File \"/usr/local/lib/python3.10/dist-packages/keras/src/losses.py\", line 2221, in categorical_crossentropy\n        return backend.categorical_crossentropy(\n    File \"/usr/local/lib/python3.10/dist-packages/keras/src/backend.py\", line 5573, in categorical_crossentropy\n        target.shape.assert_is_compatible_with(output.shape)\n\n    ValueError: Shapes (32, 1) and (32, 10) are incompatible\n"
          ]
        }
      ]
    },
    {
      "cell_type": "markdown",
      "source": [
        "### **Preparing Model - 10 (Changing loss function from CategoricalCrossentropy to SparseCategoricalCrossentropy because the labels aren't 'OneHotEncoded', labels are in type of Integers)**"
      ],
      "metadata": {
        "id": "wZOK6dE4_t3e"
      }
    },
    {
      "cell_type": "code",
      "source": [
        "# Set the random seed\n",
        "tf.random.set_seed(8)\n",
        "\n",
        "# Create the model\n",
        "model_10 = tf.keras.Sequential([\n",
        "    tf.keras.layers.Flatten(input_shape=(28, 28)),\n",
        "    tf.keras.layers.Dense(4, activation='relu'),\n",
        "    tf.keras.layers.Dense(4, activation='relu'),\n",
        "    tf.keras.layers.Dense(10, activation='softmax')\n",
        "])\n",
        "\n",
        "# Compile the model\n",
        "model_10.compile(optimizer=tf.keras.optimizers.Adam(),\n",
        "                 loss=tf.keras.losses.SparseCategoricalCrossentropy(),\n",
        "                 # 'SparseCategoricalCrossentropy' use because labels are integers,\n",
        "                 # use 'CategoricalCrossentropy' if labels are in OneHotEncoded.\n",
        "                 metrics=['accuracy'])\n",
        "\n",
        "# Fit the model\n",
        "model_10.fit(X_train,\n",
        "             y_train,\n",
        "             epochs=20,\n",
        "             validation_data=(X_test, y_test))"
      ],
      "metadata": {
        "id": "Pz4nhGQBe1Iu",
        "colab": {
          "base_uri": "https://localhost:8080/"
        },
        "outputId": "d5562829-67d6-45ad-b94a-687ccfaf185b"
      },
      "execution_count": null,
      "outputs": [
        {
          "output_type": "stream",
          "name": "stdout",
          "text": [
            "Epoch 1/20\n",
            "1875/1875 [==============================] - 5s 2ms/step - loss: 2.4567 - accuracy: 0.0981 - val_loss: 2.3027 - val_accuracy: 0.1000\n",
            "Epoch 2/20\n",
            "1875/1875 [==============================] - 5s 3ms/step - loss: 2.3031 - accuracy: 0.0990 - val_loss: 2.3026 - val_accuracy: 0.1000\n",
            "Epoch 3/20\n",
            "1875/1875 [==============================] - 5s 3ms/step - loss: 2.3026 - accuracy: 0.0982 - val_loss: 2.3027 - val_accuracy: 0.1000\n",
            "Epoch 4/20\n",
            "1875/1875 [==============================] - 5s 3ms/step - loss: 2.3023 - accuracy: 0.0997 - val_loss: 2.2918 - val_accuracy: 0.1047\n",
            "Epoch 5/20\n",
            "1875/1875 [==============================] - 7s 4ms/step - loss: 2.2875 - accuracy: 0.1064 - val_loss: 2.2928 - val_accuracy: 0.1044\n",
            "Epoch 6/20\n",
            "1875/1875 [==============================] - 5s 3ms/step - loss: 2.2796 - accuracy: 0.1105 - val_loss: 2.2631 - val_accuracy: 0.1203\n",
            "Epoch 7/20\n",
            "1875/1875 [==============================] - 4s 2ms/step - loss: 2.2379 - accuracy: 0.1291 - val_loss: 2.0572 - val_accuracy: 0.1909\n",
            "Epoch 8/20\n",
            "1875/1875 [==============================] - 6s 3ms/step - loss: 1.8167 - accuracy: 0.2244 - val_loss: 1.7155 - val_accuracy: 0.2336\n",
            "Epoch 9/20\n",
            "1875/1875 [==============================] - 5s 2ms/step - loss: 1.6611 - accuracy: 0.2545 - val_loss: 1.6077 - val_accuracy: 0.2680\n",
            "Epoch 10/20\n",
            "1875/1875 [==============================] - 6s 3ms/step - loss: 1.6001 - accuracy: 0.2729 - val_loss: 1.5729 - val_accuracy: 0.3051\n",
            "Epoch 11/20\n",
            "1875/1875 [==============================] - 5s 3ms/step - loss: 1.5374 - accuracy: 0.3103 - val_loss: 1.5327 - val_accuracy: 0.3034\n",
            "Epoch 12/20\n",
            "1875/1875 [==============================] - 5s 2ms/step - loss: 1.5003 - accuracy: 0.3200 - val_loss: 1.5020 - val_accuracy: 0.3074\n",
            "Epoch 13/20\n",
            "1875/1875 [==============================] - 6s 3ms/step - loss: 1.4963 - accuracy: 0.3210 - val_loss: 1.4899 - val_accuracy: 0.3194\n",
            "Epoch 14/20\n",
            "1875/1875 [==============================] - 5s 3ms/step - loss: 1.4754 - accuracy: 0.3292 - val_loss: 1.5082 - val_accuracy: 0.3043\n",
            "Epoch 15/20\n",
            "1875/1875 [==============================] - 5s 2ms/step - loss: 1.4713 - accuracy: 0.3300 - val_loss: 1.4851 - val_accuracy: 0.3258\n",
            "Epoch 16/20\n",
            "1875/1875 [==============================] - 6s 3ms/step - loss: 1.4775 - accuracy: 0.3276 - val_loss: 1.4706 - val_accuracy: 0.3387\n",
            "Epoch 17/20\n",
            "1875/1875 [==============================] - 4s 2ms/step - loss: 1.4738 - accuracy: 0.3262 - val_loss: 1.4663 - val_accuracy: 0.3436\n",
            "Epoch 18/20\n",
            "1875/1875 [==============================] - 8s 4ms/step - loss: 1.4593 - accuracy: 0.3344 - val_loss: 1.4875 - val_accuracy: 0.3178\n",
            "Epoch 19/20\n",
            "1875/1875 [==============================] - 4s 2ms/step - loss: 1.4632 - accuracy: 0.3319 - val_loss: 1.4659 - val_accuracy: 0.3408\n",
            "Epoch 20/20\n",
            "1875/1875 [==============================] - 5s 2ms/step - loss: 1.4630 - accuracy: 0.3336 - val_loss: 1.4688 - val_accuracy: 0.3424\n"
          ]
        },
        {
          "output_type": "execute_result",
          "data": {
            "text/plain": [
              "<keras.src.callbacks.History at 0x7a5ed6272ef0>"
            ]
          },
          "metadata": {},
          "execution_count": 52
        }
      ]
    },
    {
      "cell_type": "markdown",
      "source": [
        "### **Normalizing the data**\n",
        "\n",
        "> Previous model (model - 10) provided the accuracy of `33.36%`"
      ],
      "metadata": {
        "id": "b4O8_vHS9ZaF"
      }
    },
    {
      "cell_type": "code",
      "source": [
        "X_train_max = X_train.max()\n",
        "X_train_min = X_train.min()\n",
        "X_test_max = X_test.max()\n",
        "X_test_min = X_test.min()\n",
        "\n",
        "print(f'Training data maximum: {X_train_max}')\n",
        "print(f'Training data minimum: {X_train_min}')\n",
        "print(f'Test data maximum: {X_test_max}')\n",
        "print(f'Test data minimum: {X_test_min}')"
      ],
      "metadata": {
        "colab": {
          "base_uri": "https://localhost:8080/"
        },
        "id": "2wvmiaAWRbx0",
        "outputId": "b62def91-b4d2-4acd-a794-21308ff6e00d"
      },
      "execution_count": null,
      "outputs": [
        {
          "output_type": "stream",
          "name": "stdout",
          "text": [
            "Training data maximum: 255\n",
            "Training data minimum: 0\n",
            "Test data maximum: 255\n",
            "Test data minimum: 0\n"
          ]
        }
      ]
    },
    {
      "cell_type": "code",
      "source": [
        "X_train_norm = X_train / 255.0\n",
        "X_test_norm = X_test / 255.0"
      ],
      "metadata": {
        "id": "HYh6SPpPSRDv"
      },
      "execution_count": null,
      "outputs": []
    },
    {
      "cell_type": "code",
      "source": [
        "X_train_norm_max = X_train_norm.max()\n",
        "X_train_norm_min = X_train_norm.min()\n",
        "X_test_norm_max = X_test_norm.max()\n",
        "X_test_norm_min = X_test_norm.min()\n",
        "\n",
        "print(f'Normalized training data maximum: {X_train_norm_max}')\n",
        "print(f'Normalized training data minimum: {X_train_norm_min}')\n",
        "print(f'Normalized test data maximum: {X_test_norm_max}')\n",
        "print(f'Normalized test data minimum: {X_test_norm_min}')"
      ],
      "metadata": {
        "colab": {
          "base_uri": "https://localhost:8080/"
        },
        "id": "gV8LQSkESee9",
        "outputId": "83c08f45-5855-487e-c117-4e433af07c69"
      },
      "execution_count": null,
      "outputs": [
        {
          "output_type": "stream",
          "name": "stdout",
          "text": [
            "Normalized training data maximum: 1.0\n",
            "Normalized training data minimum: 0.0\n",
            "Normalized test data maximum: 1.0\n",
            "Normalized test data minimum: 0.0\n"
          ]
        }
      ]
    },
    {
      "cell_type": "markdown",
      "source": [
        "### **Preparing Model - 11**"
      ],
      "metadata": {
        "id": "ypwAq83GSyoF"
      }
    },
    {
      "cell_type": "code",
      "source": [
        "# Set the random seed\n",
        "tf.random.set_seed(8)\n",
        "\n",
        "# Create the model\n",
        "model_11 = tf.keras.Sequential([\n",
        "    tf.keras.layers.Flatten(input_shape=(28, 28)),\n",
        "    tf.keras.layers.Dense(4, activation='relu'),\n",
        "    tf.keras.layers.Dense(4, activation='relu'),\n",
        "    tf.keras.layers.Dense(10, activation='softmax')\n",
        "])\n",
        "\n",
        "# Compile the model\n",
        "model_11.compile(optimizer=tf.keras.optimizers.Adam(),\n",
        "                 loss=tf.keras.losses.SparseCategoricalCrossentropy(),\n",
        "                 metrics=['accuracy'])\n",
        "\n",
        "# Fit the model\n",
        "model_11.fit(X_train,\n",
        "             y_train,\n",
        "             epochs=20,\n",
        "             validation_data=(X_test, y_test))"
      ],
      "metadata": {
        "colab": {
          "base_uri": "https://localhost:8080/"
        },
        "id": "WctnqC7ATNbF",
        "outputId": "448723bc-b681-4956-e379-0112eb1f80ba"
      },
      "execution_count": null,
      "outputs": [
        {
          "output_type": "stream",
          "name": "stdout",
          "text": [
            "Epoch 1/20\n",
            "1875/1875 [==============================] - 5s 2ms/step - loss: 1.8719 - accuracy: 0.2293 - val_loss: 1.7157 - val_accuracy: 0.2532\n",
            "Epoch 2/20\n",
            "1875/1875 [==============================] - 4s 2ms/step - loss: 1.6649 - accuracy: 0.2811 - val_loss: 1.6454 - val_accuracy: 0.2863\n",
            "Epoch 3/20\n",
            "1875/1875 [==============================] - 6s 3ms/step - loss: 1.5853 - accuracy: 0.2998 - val_loss: 1.5518 - val_accuracy: 0.2984\n",
            "Epoch 4/20\n",
            "1875/1875 [==============================] - 4s 2ms/step - loss: 1.5237 - accuracy: 0.3299 - val_loss: 1.4881 - val_accuracy: 0.3713\n",
            "Epoch 5/20\n",
            "1875/1875 [==============================] - 5s 2ms/step - loss: 1.4778 - accuracy: 0.3680 - val_loss: 1.4751 - val_accuracy: 0.3744\n",
            "Epoch 6/20\n",
            "1875/1875 [==============================] - 6s 3ms/step - loss: 1.4231 - accuracy: 0.4048 - val_loss: 1.4201 - val_accuracy: 0.4045\n",
            "Epoch 7/20\n",
            "1875/1875 [==============================] - 5s 2ms/step - loss: 1.2680 - accuracy: 0.4931 - val_loss: 1.1515 - val_accuracy: 0.5408\n",
            "Epoch 8/20\n",
            "1875/1875 [==============================] - 6s 3ms/step - loss: 1.1024 - accuracy: 0.5371 - val_loss: 1.0839 - val_accuracy: 0.5405\n",
            "Epoch 9/20\n",
            "1875/1875 [==============================] - 5s 3ms/step - loss: 1.0328 - accuracy: 0.5489 - val_loss: 1.0170 - val_accuracy: 0.5545\n",
            "Epoch 10/20\n",
            "1875/1875 [==============================] - 4s 2ms/step - loss: 0.9997 - accuracy: 0.5560 - val_loss: 1.0118 - val_accuracy: 0.5524\n",
            "Epoch 11/20\n",
            "1875/1875 [==============================] - 5s 3ms/step - loss: 0.9866 - accuracy: 0.5587 - val_loss: 1.0004 - val_accuracy: 0.5597\n",
            "Epoch 12/20\n",
            "1875/1875 [==============================] - 5s 2ms/step - loss: 0.9789 - accuracy: 0.5616 - val_loss: 1.0044 - val_accuracy: 0.5599\n",
            "Epoch 13/20\n",
            "1875/1875 [==============================] - 5s 2ms/step - loss: 0.9629 - accuracy: 0.5684 - val_loss: 0.9770 - val_accuracy: 0.5716\n",
            "Epoch 14/20\n",
            "1875/1875 [==============================] - 6s 3ms/step - loss: 0.9509 - accuracy: 0.5907 - val_loss: 0.9581 - val_accuracy: 0.6136\n",
            "Epoch 15/20\n",
            "1875/1875 [==============================] - 4s 2ms/step - loss: 0.9091 - accuracy: 0.6210 - val_loss: 0.9172 - val_accuracy: 0.6384\n",
            "Epoch 16/20\n",
            "1875/1875 [==============================] - 4s 2ms/step - loss: 0.8840 - accuracy: 0.6375 - val_loss: 0.8918 - val_accuracy: 0.6462\n",
            "Epoch 17/20\n",
            "1875/1875 [==============================] - 6s 3ms/step - loss: 0.8671 - accuracy: 0.6453 - val_loss: 0.9150 - val_accuracy: 0.6275\n",
            "Epoch 18/20\n",
            "1875/1875 [==============================] - 4s 2ms/step - loss: 0.8593 - accuracy: 0.6460 - val_loss: 0.8919 - val_accuracy: 0.6547\n",
            "Epoch 19/20\n",
            "1875/1875 [==============================] - 6s 3ms/step - loss: 0.8503 - accuracy: 0.6546 - val_loss: 0.8740 - val_accuracy: 0.6324\n",
            "Epoch 20/20\n",
            "1875/1875 [==============================] - 5s 3ms/step - loss: 0.8440 - accuracy: 0.6592 - val_loss: 0.8993 - val_accuracy: 0.6322\n"
          ]
        },
        {
          "output_type": "execute_result",
          "data": {
            "text/plain": [
              "<keras.src.callbacks.History at 0x7a5ee87992d0>"
            ]
          },
          "metadata": {},
          "execution_count": 58
        }
      ]
    },
    {
      "cell_type": "markdown",
      "source": [
        "#### After `normalization` the results have been increased `2x` i.e., for `65.92%`"
      ],
      "metadata": {
        "id": "CjRnz7CdTNc_"
      }
    },
    {
      "cell_type": "markdown",
      "source": [
        "### Finding the `Ideal Learning Rate` (Model - 12)"
      ],
      "metadata": {
        "id": "UmzxKQPHWgG2"
      }
    },
    {
      "cell_type": "code",
      "source": [
        "# Set the random seed\n",
        "tf.random.set_seed(8)\n",
        "\n",
        "# Create the model\n",
        "model_12 = tf.keras.Sequential([\n",
        "    tf.keras.layers.Flatten(input_shape=(28, 28)),\n",
        "    tf.keras.layers.Dense(4, activation='relu'),\n",
        "    tf.keras.layers.Dense(4, activation='relu'),\n",
        "    tf.keras.layers.Dense(10, activation='softmax')\n",
        "])\n",
        "\n",
        "# Compile the model\n",
        "model_12.compile(optimizer=tf.keras.optimizers.Adam(),\n",
        "                 loss=tf.keras.losses.SparseCategoricalCrossentropy(),\n",
        "                 metrics=['accuracy'])\n",
        "\n",
        "# Callbacks for the model\n",
        "learning_rate_scheduler = tf.keras.callbacks.LearningRateScheduler(lambda epochs: 1e-3 * 10 ** (epochs/20))\n",
        "\n",
        "# Fit the model\n",
        "lrs_norm_history = model_12.fit(X_train_norm,\n",
        "                                y_train,\n",
        "                                epochs=50,\n",
        "                                validation_data=(X_test_norm, y_test),\n",
        "                                callbacks=[learning_rate_scheduler])"
      ],
      "metadata": {
        "colab": {
          "base_uri": "https://localhost:8080/"
        },
        "id": "4CS-or_xY3N3",
        "outputId": "fa0651b5-4158-4e57-cdc4-a330941e4d31"
      },
      "execution_count": null,
      "outputs": [
        {
          "output_type": "stream",
          "name": "stdout",
          "text": [
            "Epoch 1/50\n",
            "1875/1875 [==============================] - 15s 6ms/step - loss: 1.1025 - accuracy: 0.6162 - val_loss: 0.7392 - val_accuracy: 0.7414 - lr: 0.0010\n",
            "Epoch 2/50\n",
            "1875/1875 [==============================] - 8s 4ms/step - loss: 0.6627 - accuracy: 0.7735 - val_loss: 0.6345 - val_accuracy: 0.7793 - lr: 0.0011\n",
            "Epoch 3/50\n",
            "1875/1875 [==============================] - 4s 2ms/step - loss: 0.5891 - accuracy: 0.7980 - val_loss: 0.5971 - val_accuracy: 0.7905 - lr: 0.0013\n",
            "Epoch 4/50\n",
            "1875/1875 [==============================] - 5s 3ms/step - loss: 0.5559 - accuracy: 0.8071 - val_loss: 0.5707 - val_accuracy: 0.7984 - lr: 0.0014\n",
            "Epoch 5/50\n",
            "1875/1875 [==============================] - 4s 2ms/step - loss: 0.5386 - accuracy: 0.8131 - val_loss: 0.5574 - val_accuracy: 0.8072 - lr: 0.0016\n",
            "Epoch 6/50\n",
            "1875/1875 [==============================] - 4s 2ms/step - loss: 0.5309 - accuracy: 0.8153 - val_loss: 0.5675 - val_accuracy: 0.7982 - lr: 0.0018\n",
            "Epoch 7/50\n",
            "1875/1875 [==============================] - 6s 3ms/step - loss: 0.5233 - accuracy: 0.8172 - val_loss: 0.5473 - val_accuracy: 0.8067 - lr: 0.0020\n",
            "Epoch 8/50\n",
            "1875/1875 [==============================] - 4s 2ms/step - loss: 0.5207 - accuracy: 0.8183 - val_loss: 0.5423 - val_accuracy: 0.8127 - lr: 0.0022\n",
            "Epoch 9/50\n",
            "1875/1875 [==============================] - 4s 2ms/step - loss: 0.5145 - accuracy: 0.8194 - val_loss: 0.5423 - val_accuracy: 0.8143 - lr: 0.0025\n",
            "Epoch 10/50\n",
            "1875/1875 [==============================] - 6s 3ms/step - loss: 0.5113 - accuracy: 0.8210 - val_loss: 0.5463 - val_accuracy: 0.8121 - lr: 0.0028\n",
            "Epoch 11/50\n",
            "1875/1875 [==============================] - 4s 2ms/step - loss: 0.5097 - accuracy: 0.8210 - val_loss: 0.5467 - val_accuracy: 0.8096 - lr: 0.0032\n",
            "Epoch 12/50\n",
            "1875/1875 [==============================] - 5s 3ms/step - loss: 0.5076 - accuracy: 0.8223 - val_loss: 0.5448 - val_accuracy: 0.8114 - lr: 0.0035\n",
            "Epoch 13/50\n",
            "1875/1875 [==============================] - 5s 3ms/step - loss: 0.5110 - accuracy: 0.8215 - val_loss: 0.5488 - val_accuracy: 0.8114 - lr: 0.0040\n",
            "Epoch 14/50\n",
            "1875/1875 [==============================] - 5s 3ms/step - loss: 0.5102 - accuracy: 0.8209 - val_loss: 0.5458 - val_accuracy: 0.8079 - lr: 0.0045\n",
            "Epoch 15/50\n",
            "1875/1875 [==============================] - 6s 3ms/step - loss: 0.5092 - accuracy: 0.8211 - val_loss: 0.5550 - val_accuracy: 0.8071 - lr: 0.0050\n",
            "Epoch 16/50\n",
            "1875/1875 [==============================] - 5s 3ms/step - loss: 0.5117 - accuracy: 0.8215 - val_loss: 0.5522 - val_accuracy: 0.8103 - lr: 0.0056\n",
            "Epoch 17/50\n",
            "1875/1875 [==============================] - 4s 2ms/step - loss: 0.5148 - accuracy: 0.8189 - val_loss: 0.5582 - val_accuracy: 0.8050 - lr: 0.0063\n",
            "Epoch 18/50\n",
            "1875/1875 [==============================] - 5s 3ms/step - loss: 0.5143 - accuracy: 0.8208 - val_loss: 0.5505 - val_accuracy: 0.8020 - lr: 0.0071\n",
            "Epoch 19/50\n",
            "1875/1875 [==============================] - 4s 2ms/step - loss: 0.5195 - accuracy: 0.8145 - val_loss: 0.5419 - val_accuracy: 0.8098 - lr: 0.0079\n",
            "Epoch 20/50\n",
            "1875/1875 [==============================] - 6s 3ms/step - loss: 0.5261 - accuracy: 0.8156 - val_loss: 0.5631 - val_accuracy: 0.8049 - lr: 0.0089\n",
            "Epoch 21/50\n",
            "1875/1875 [==============================] - 4s 2ms/step - loss: 0.5311 - accuracy: 0.8138 - val_loss: 0.5674 - val_accuracy: 0.8026 - lr: 0.0100\n",
            "Epoch 22/50\n",
            "1875/1875 [==============================] - 4s 2ms/step - loss: 0.5356 - accuracy: 0.8132 - val_loss: 0.5607 - val_accuracy: 0.8031 - lr: 0.0112\n",
            "Epoch 23/50\n",
            "1875/1875 [==============================] - 6s 3ms/step - loss: 0.5445 - accuracy: 0.8100 - val_loss: 0.5743 - val_accuracy: 0.8044 - lr: 0.0126\n",
            "Epoch 24/50\n",
            "1875/1875 [==============================] - 4s 2ms/step - loss: 0.5488 - accuracy: 0.8094 - val_loss: 0.5689 - val_accuracy: 0.8091 - lr: 0.0141\n",
            "Epoch 25/50\n",
            "1875/1875 [==============================] - 4s 2ms/step - loss: 0.5561 - accuracy: 0.8069 - val_loss: 0.6279 - val_accuracy: 0.7935 - lr: 0.0158\n",
            "Epoch 26/50\n",
            "1875/1875 [==============================] - 5s 3ms/step - loss: 0.5724 - accuracy: 0.8023 - val_loss: 0.5781 - val_accuracy: 0.8001 - lr: 0.0178\n",
            "Epoch 27/50\n",
            "1875/1875 [==============================] - 4s 2ms/step - loss: 0.5805 - accuracy: 0.7994 - val_loss: 0.6350 - val_accuracy: 0.7793 - lr: 0.0200\n",
            "Epoch 28/50\n",
            "1875/1875 [==============================] - 4s 2ms/step - loss: 0.5959 - accuracy: 0.7945 - val_loss: 0.6342 - val_accuracy: 0.7909 - lr: 0.0224\n",
            "Epoch 29/50\n",
            "1875/1875 [==============================] - 7s 4ms/step - loss: 0.6173 - accuracy: 0.7883 - val_loss: 0.6615 - val_accuracy: 0.7808 - lr: 0.0251\n",
            "Epoch 30/50\n",
            "1875/1875 [==============================] - 4s 2ms/step - loss: 0.6304 - accuracy: 0.7856 - val_loss: 0.7046 - val_accuracy: 0.7717 - lr: 0.0282\n",
            "Epoch 31/50\n",
            "1875/1875 [==============================] - 5s 3ms/step - loss: 0.6632 - accuracy: 0.7806 - val_loss: 0.6648 - val_accuracy: 0.7751 - lr: 0.0316\n",
            "Epoch 32/50\n",
            "1875/1875 [==============================] - 5s 3ms/step - loss: 0.6856 - accuracy: 0.7753 - val_loss: 0.7127 - val_accuracy: 0.7540 - lr: 0.0355\n",
            "Epoch 33/50\n",
            "1875/1875 [==============================] - 4s 2ms/step - loss: 0.7100 - accuracy: 0.7658 - val_loss: 0.8213 - val_accuracy: 0.7433 - lr: 0.0398\n",
            "Epoch 34/50\n",
            "1875/1875 [==============================] - 5s 3ms/step - loss: 0.7530 - accuracy: 0.7504 - val_loss: 0.7759 - val_accuracy: 0.7369 - lr: 0.0447\n",
            "Epoch 35/50\n",
            "1875/1875 [==============================] - 5s 3ms/step - loss: 0.7867 - accuracy: 0.7364 - val_loss: 0.7303 - val_accuracy: 0.7611 - lr: 0.0501\n",
            "Epoch 36/50\n",
            "1875/1875 [==============================] - 4s 2ms/step - loss: 0.8689 - accuracy: 0.6813 - val_loss: 0.9685 - val_accuracy: 0.6510 - lr: 0.0562\n",
            "Epoch 37/50\n",
            "1875/1875 [==============================] - 5s 3ms/step - loss: 1.0278 - accuracy: 0.5768 - val_loss: 1.0277 - val_accuracy: 0.5587 - lr: 0.0631\n",
            "Epoch 38/50\n",
            "1875/1875 [==============================] - 4s 2ms/step - loss: 1.4142 - accuracy: 0.3946 - val_loss: 1.3223 - val_accuracy: 0.4329 - lr: 0.0708\n",
            "Epoch 39/50\n",
            "1875/1875 [==============================] - 4s 2ms/step - loss: 1.4435 - accuracy: 0.3835 - val_loss: 1.3211 - val_accuracy: 0.4297 - lr: 0.0794\n",
            "Epoch 40/50\n",
            "1875/1875 [==============================] - 5s 3ms/step - loss: 1.4262 - accuracy: 0.3866 - val_loss: 1.4562 - val_accuracy: 0.3848 - lr: 0.0891\n",
            "Epoch 41/50\n",
            "1875/1875 [==============================] - 4s 2ms/step - loss: 1.7518 - accuracy: 0.2517 - val_loss: 1.8077 - val_accuracy: 0.1999 - lr: 0.1000\n",
            "Epoch 42/50\n",
            "1875/1875 [==============================] - 5s 3ms/step - loss: 1.7843 - accuracy: 0.1981 - val_loss: 1.7561 - val_accuracy: 0.1993 - lr: 0.1122\n",
            "Epoch 43/50\n",
            "1875/1875 [==============================] - 6s 3ms/step - loss: 1.8135 - accuracy: 0.1931 - val_loss: 1.7532 - val_accuracy: 0.1986 - lr: 0.1259\n",
            "Epoch 44/50\n",
            "1875/1875 [==============================] - 5s 2ms/step - loss: 1.8075 - accuracy: 0.1961 - val_loss: 1.9064 - val_accuracy: 0.1990 - lr: 0.1413\n",
            "Epoch 45/50\n",
            "1875/1875 [==============================] - 5s 2ms/step - loss: 1.8321 - accuracy: 0.1952 - val_loss: 1.8382 - val_accuracy: 0.1998 - lr: 0.1585\n",
            "Epoch 46/50\n",
            "1875/1875 [==============================] - 5s 3ms/step - loss: 1.8666 - accuracy: 0.1875 - val_loss: 1.8279 - val_accuracy: 0.1999 - lr: 0.1778\n",
            "Epoch 47/50\n",
            "1875/1875 [==============================] - 4s 2ms/step - loss: 1.8788 - accuracy: 0.1924 - val_loss: 1.9636 - val_accuracy: 0.1973 - lr: 0.1995\n",
            "Epoch 48/50\n",
            "1875/1875 [==============================] - 7s 4ms/step - loss: 2.3086 - accuracy: 0.1053 - val_loss: 2.3297 - val_accuracy: 0.1000 - lr: 0.2239\n",
            "Epoch 49/50\n",
            "1875/1875 [==============================] - 5s 3ms/step - loss: 2.3328 - accuracy: 0.1007 - val_loss: 2.3316 - val_accuracy: 0.1000 - lr: 0.2512\n",
            "Epoch 50/50\n",
            "1875/1875 [==============================] - 4s 2ms/step - loss: 2.3358 - accuracy: 0.1002 - val_loss: 2.3485 - val_accuracy: 0.1000 - lr: 0.2818\n"
          ]
        }
      ]
    },
    {
      "cell_type": "markdown",
      "source": [
        "### **Plotting the `Learning curve` Vs `Loss`**"
      ],
      "metadata": {
        "id": "hJGkTK-VegMo"
      }
    },
    {
      "cell_type": "code",
      "source": [
        "lrs = 1e-3 * 10 ** (tf.range(50) / 20)\n",
        "lrs"
      ],
      "metadata": {
        "colab": {
          "base_uri": "https://localhost:8080/"
        },
        "id": "5o47W-NagGyC",
        "outputId": "fef09a42-8bda-414b-f209-ade6876caa6e"
      },
      "execution_count": null,
      "outputs": [
        {
          "output_type": "execute_result",
          "data": {
            "text/plain": [
              "<tf.Tensor: shape=(50,), dtype=float64, numpy=\n",
              "array([0.001     , 0.00112202, 0.00125893, 0.00141254, 0.00158489,\n",
              "       0.00177828, 0.00199526, 0.00223872, 0.00251189, 0.00281838,\n",
              "       0.00316228, 0.00354813, 0.00398107, 0.00446684, 0.00501187,\n",
              "       0.00562341, 0.00630957, 0.00707946, 0.00794328, 0.00891251,\n",
              "       0.01      , 0.01122018, 0.01258925, 0.01412538, 0.01584893,\n",
              "       0.01778279, 0.01995262, 0.02238721, 0.02511886, 0.02818383,\n",
              "       0.03162278, 0.03548134, 0.03981072, 0.04466836, 0.05011872,\n",
              "       0.05623413, 0.06309573, 0.07079458, 0.07943282, 0.08912509,\n",
              "       0.1       , 0.11220185, 0.12589254, 0.14125375, 0.15848932,\n",
              "       0.17782794, 0.19952623, 0.22387211, 0.25118864, 0.28183829])>"
            ]
          },
          "metadata": {},
          "execution_count": 76
        }
      ]
    },
    {
      "cell_type": "code",
      "source": [
        "plt.semilogx(lrs, lrs_norm_history.history['loss'])\n",
        "plt.xlabel('Learning Rate')\n",
        "plt.ylabel('Loss');"
      ],
      "metadata": {
        "colab": {
          "base_uri": "https://localhost:8080/",
          "height": 454
        },
        "id": "3zZtuOcxgaA8",
        "outputId": "7ddf0cde-53c1-4518-fe33-940cdaaf3a7a"
      },
      "execution_count": null,
      "outputs": [
        {
          "output_type": "display_data",
          "data": {
            "text/plain": [
              "<Figure size 640x480 with 1 Axes>"
            ],
            "image/png": "[encoded data removed]"
          },
          "metadata": {}
        }
      ]
    },
    {
      "cell_type": "code",
      "source": [
        "1e-3, 1e-2"
      ],
      "metadata": {
        "colab": {
          "base_uri": "https://localhost:8080/"
        },
        "id": "qb_WDWY-g4sx",
        "outputId": "dd8d7d9e-af7f-4e9b-d596-8236f2de6b2e"
      },
      "execution_count": null,
      "outputs": [
        {
          "output_type": "execute_result",
          "data": {
            "text/plain": [
              "(0.001, 0.01)"
            ]
          },
          "metadata": {},
          "execution_count": 68
        }
      ]
    },
    {
      "cell_type": "markdown",
      "source": [
        "### **Applying best Learning Rate (i.e., default - 0.001 found to be the best learning rate) on the model and finilizing the model (Model - 13)**"
      ],
      "metadata": {
        "id": "vBJ_bScchVTv"
      }
    },
    {
      "cell_type": "code",
      "source": [
        "# Set the random seed\n",
        "tf.random.set_seed(8)\n",
        "\n",
        "# Create the model\n",
        "model_13 = tf.keras.Sequential([\n",
        "    tf.keras.layers.Flatten(input_shape=(28, 28)),\n",
        "    tf.keras.layers.Dense(25, activation='relu'),\n",
        "    tf.keras.layers.Dense(25, activation='relu'),\n",
        "    tf.keras.layers.Dense(25, activation='relu'),\n",
        "    tf.keras.layers.Dense(10, activation='softmax')\n",
        "])\n",
        "\n",
        "# Compile the model\n",
        "model_13.compile(optimizer=tf.keras.optimizers.Adam(learning_rate=0.001),\n",
        "                 loss=tf.keras.losses.SparseCategoricalCrossentropy(),\n",
        "                 metrics=['accuracy'])\n",
        "\n",
        "# Fit the model\n",
        "model_13.fit(X_train_norm,\n",
        "             y_train,\n",
        "             epochs=30,\n",
        "             validation_data=(X_test_norm, y_test))"
      ],
      "metadata": {
        "colab": {
          "base_uri": "https://localhost:8080/"
        },
        "id": "uYmt2GxgiDHv",
        "outputId": "f10f7eef-8b86-4ce7-ffe4-fd6442389b8d"
      },
      "execution_count": null,
      "outputs": [
        {
          "output_type": "stream",
          "name": "stdout",
          "text": [
            "Epoch 1/30\n",
            "1875/1875 [==============================] - 7s 3ms/step - loss: 0.5740 - accuracy: 0.7983 - val_loss: 0.4546 - val_accuracy: 0.8391\n",
            "Epoch 2/30\n",
            "1875/1875 [==============================] - 5s 3ms/step - loss: 0.4148 - accuracy: 0.8508 - val_loss: 0.4374 - val_accuracy: 0.8457\n",
            "Epoch 3/30\n",
            "1875/1875 [==============================] - 6s 3ms/step - loss: 0.3796 - accuracy: 0.8608 - val_loss: 0.3937 - val_accuracy: 0.8555\n",
            "Epoch 4/30\n",
            "1875/1875 [==============================] - 5s 3ms/step - loss: 0.3567 - accuracy: 0.8698 - val_loss: 0.4005 - val_accuracy: 0.8561\n",
            "Epoch 5/30\n",
            "1875/1875 [==============================] - 5s 3ms/step - loss: 0.3431 - accuracy: 0.8746 - val_loss: 0.3816 - val_accuracy: 0.8648\n",
            "Epoch 6/30\n",
            "1875/1875 [==============================] - 6s 3ms/step - loss: 0.3333 - accuracy: 0.8777 - val_loss: 0.4231 - val_accuracy: 0.8432\n",
            "Epoch 7/30\n",
            "1875/1875 [==============================] - 6s 3ms/step - loss: 0.3235 - accuracy: 0.8809 - val_loss: 0.4049 - val_accuracy: 0.8567\n",
            "Epoch 8/30\n",
            "1875/1875 [==============================] - 6s 3ms/step - loss: 0.3142 - accuracy: 0.8842 - val_loss: 0.3692 - val_accuracy: 0.8687\n",
            "Epoch 9/30\n",
            "1875/1875 [==============================] - 5s 3ms/step - loss: 0.3082 - accuracy: 0.8853 - val_loss: 0.3715 - val_accuracy: 0.8691\n",
            "Epoch 10/30\n",
            "1875/1875 [==============================] - 5s 3ms/step - loss: 0.3018 - accuracy: 0.8897 - val_loss: 0.3764 - val_accuracy: 0.8661\n",
            "Epoch 11/30\n",
            "1875/1875 [==============================] - 6s 3ms/step - loss: 0.2953 - accuracy: 0.8901 - val_loss: 0.3709 - val_accuracy: 0.8707\n",
            "Epoch 12/30\n",
            "1875/1875 [==============================] - 5s 3ms/step - loss: 0.2899 - accuracy: 0.8929 - val_loss: 0.3877 - val_accuracy: 0.8594\n",
            "Epoch 13/30\n",
            "1875/1875 [==============================] - 6s 3ms/step - loss: 0.2883 - accuracy: 0.8927 - val_loss: 0.3609 - val_accuracy: 0.8738\n",
            "Epoch 14/30\n",
            "1875/1875 [==============================] - 5s 3ms/step - loss: 0.2825 - accuracy: 0.8944 - val_loss: 0.3661 - val_accuracy: 0.8684\n",
            "Epoch 15/30\n",
            "1875/1875 [==============================] - 6s 3ms/step - loss: 0.2764 - accuracy: 0.8965 - val_loss: 0.3875 - val_accuracy: 0.8654\n",
            "Epoch 16/30\n",
            "1875/1875 [==============================] - 5s 3ms/step - loss: 0.2737 - accuracy: 0.8983 - val_loss: 0.3717 - val_accuracy: 0.8718\n",
            "Epoch 17/30\n",
            "1875/1875 [==============================] - 5s 3ms/step - loss: 0.2693 - accuracy: 0.9005 - val_loss: 0.3731 - val_accuracy: 0.8703\n",
            "Epoch 18/30\n",
            "1875/1875 [==============================] - 6s 3ms/step - loss: 0.2678 - accuracy: 0.9013 - val_loss: 0.3842 - val_accuracy: 0.8698\n",
            "Epoch 19/30\n",
            "1875/1875 [==============================] - 5s 3ms/step - loss: 0.2627 - accuracy: 0.9017 - val_loss: 0.3876 - val_accuracy: 0.8719\n",
            "Epoch 20/30\n",
            "1875/1875 [==============================] - 6s 3ms/step - loss: 0.2599 - accuracy: 0.9029 - val_loss: 0.3762 - val_accuracy: 0.8708\n",
            "Epoch 21/30\n",
            "1875/1875 [==============================] - 5s 3ms/step - loss: 0.2593 - accuracy: 0.9030 - val_loss: 0.3784 - val_accuracy: 0.8668\n",
            "Epoch 22/30\n",
            "1875/1875 [==============================] - 5s 3ms/step - loss: 0.2574 - accuracy: 0.9039 - val_loss: 0.3717 - val_accuracy: 0.8757\n",
            "Epoch 23/30\n",
            "1875/1875 [==============================] - 6s 3ms/step - loss: 0.2533 - accuracy: 0.9056 - val_loss: 0.3822 - val_accuracy: 0.8728\n",
            "Epoch 24/30\n",
            "1875/1875 [==============================] - 5s 3ms/step - loss: 0.2524 - accuracy: 0.9057 - val_loss: 0.3736 - val_accuracy: 0.8733\n",
            "Epoch 25/30\n",
            "1875/1875 [==============================] - 6s 3ms/step - loss: 0.2484 - accuracy: 0.9073 - val_loss: 0.3853 - val_accuracy: 0.8789\n",
            "Epoch 26/30\n",
            "1875/1875 [==============================] - 5s 3ms/step - loss: 0.2486 - accuracy: 0.9069 - val_loss: 0.3897 - val_accuracy: 0.8668\n",
            "Epoch 27/30\n",
            "1875/1875 [==============================] - 6s 3ms/step - loss: 0.2410 - accuracy: 0.9090 - val_loss: 0.3764 - val_accuracy: 0.8760\n",
            "Epoch 28/30\n",
            "1875/1875 [==============================] - 7s 4ms/step - loss: 0.2415 - accuracy: 0.9096 - val_loss: 0.3902 - val_accuracy: 0.8746\n",
            "Epoch 29/30\n",
            "1875/1875 [==============================] - 5s 3ms/step - loss: 0.2394 - accuracy: 0.9106 - val_loss: 0.4031 - val_accuracy: 0.8700\n",
            "Epoch 30/30\n",
            "1875/1875 [==============================] - 6s 3ms/step - loss: 0.2377 - accuracy: 0.9104 - val_loss: 0.4144 - val_accuracy: 0.8739\n"
          ]
        },
        {
          "output_type": "execute_result",
          "data": {
            "text/plain": [
              "<keras.src.callbacks.History at 0x7a5ed36fc1f0>"
            ]
          },
          "metadata": {},
          "execution_count": 86
        }
      ]
    },
    {
      "cell_type": "markdown",
      "source": [
        "### **Saving the best model**"
      ],
      "metadata": {
        "id": "WXSCTFxc-iQJ"
      }
    },
    {
      "cell_type": "code",
      "source": [
        "model_13.save('fashion_model_91.keras')"
      ],
      "metadata": {
        "id": "0WabUc2Wkzxo"
      },
      "execution_count": null,
      "outputs": []
    },
    {
      "cell_type": "markdown",
      "source": [
        "### **Loading the saved model**"
      ],
      "metadata": {
        "id": "TDYnbGtg-qvq"
      }
    },
    {
      "cell_type": "code",
      "source": [
        "fashion_model = tf.keras.models.load_model('/content/drive/MyDrive/Colab Notebooks/DeepLearning/BestModel/fashion_model_91.keras')"
      ],
      "metadata": {
        "id": "kXLfOloT43MT"
      },
      "execution_count": null,
      "outputs": []
    },
    {
      "cell_type": "markdown",
      "source": [
        "### **Predicting the saved model**"
      ],
      "metadata": {
        "id": "ySgVMVNT-xFh"
      }
    },
    {
      "cell_type": "code",
      "source": [
        "fashion_probs = fashion_model.predict(X_test_norm)\n",
        "fashion_probs[0]"
      ],
      "metadata": {
        "colab": {
          "base_uri": "https://localhost:8080/"
        },
        "id": "EC-pSYAhvRwC",
        "outputId": "081d96d7-94c1-4bc9-b7e3-52366926cde5"
      },
      "execution_count": null,
      "outputs": [
        {
          "output_type": "stream",
          "name": "stdout",
          "text": [
            "313/313 [==============================] - 1s 3ms/step\n"
          ]
        },
        {
          "output_type": "execute_result",
          "data": {
            "text/plain": [
              "array([1.4951708e-07, 6.4073603e-05, 1.2350820e-07, 1.5461902e-08,\n",
              "       4.4776560e-10, 9.5837102e-05, 3.6582357e-08, 2.2517093e-02,\n",
              "       4.1177858e-10, 9.7732264e-01], dtype=float32)"
            ]
          },
          "metadata": {},
          "execution_count": 9
        }
      ]
    },
    {
      "cell_type": "code",
      "source": [
        "fashion_probs[0].argmax()"
      ],
      "metadata": {
        "colab": {
          "base_uri": "https://localhost:8080/"
        },
        "id": "42reNiJZwvYD",
        "outputId": "2b62360a-1486-4694-ae25-67bc77e3b1ce"
      },
      "execution_count": null,
      "outputs": [
        {
          "output_type": "execute_result",
          "data": {
            "text/plain": [
              "9"
            ]
          },
          "metadata": {},
          "execution_count": 10
        }
      ]
    },
    {
      "cell_type": "code",
      "source": [
        "fashion_probs.shape"
      ],
      "metadata": {
        "colab": {
          "base_uri": "https://localhost:8080/"
        },
        "id": "kWXQo2HJxE-D",
        "outputId": "63df379f-f0aa-4c63-c733-ecad8357bd5f"
      },
      "execution_count": null,
      "outputs": [
        {
          "output_type": "execute_result",
          "data": {
            "text/plain": [
              "(10000, 10)"
            ]
          },
          "metadata": {},
          "execution_count": 110
        }
      ]
    },
    {
      "cell_type": "code",
      "source": [
        "fashion_preds = fashion_probs.argmax(axis=1)\n",
        "fashion_preds[:10]"
      ],
      "metadata": {
        "colab": {
          "base_uri": "https://localhost:8080/"
        },
        "id": "xu5Uu7nzxQjB",
        "outputId": "98ff6621-9519-40ac-a46c-04d4416b7ecb"
      },
      "execution_count": null,
      "outputs": [
        {
          "output_type": "execute_result",
          "data": {
            "text/plain": [
              "array([9, 2, 1, 1, 6, 1, 4, 6, 5, 7])"
            ]
          },
          "metadata": {},
          "execution_count": 11
        }
      ]
    },
    {
      "cell_type": "markdown",
      "source": [
        "### **Plotting the `Confusion Matrix`**"
      ],
      "metadata": {
        "id": "pigEQ_Oe-4Yp"
      }
    },
    {
      "cell_type": "code",
      "source": [
        "from sklearn.metrics import confusion_matrix, ConfusionMatrixDisplay\n",
        "from sklearn.metrics import classification_report"
      ],
      "metadata": {
        "id": "nLY0MN7gxoZE"
      },
      "execution_count": null,
      "outputs": []
    },
    {
      "cell_type": "code",
      "source": [
        "cm = confusion_matrix(y_true=y_test, y_pred=fashion_preds)\n",
        "cm"
      ],
      "metadata": {
        "colab": {
          "base_uri": "https://localhost:8080/"
        },
        "id": "aWxzEh9nyVsI",
        "outputId": "3cc14de5-76cb-4aac-f536-1b41ab714355"
      },
      "execution_count": null,
      "outputs": [
        {
          "output_type": "execute_result",
          "data": {
            "text/plain": [
              "array([[839,   0,  10,  51,   3,   2,  83,   0,  12,   0],\n",
              "       [  8, 953,   3,  27,   4,   0,   3,   0,   2,   0],\n",
              "       [ 20,   0, 825,  18,  75,   0,  55,   0,   7,   0],\n",
              "       [ 21,   2,  15, 922,  15,   0,  19,   0,   6,   0],\n",
              "       [  0,   0, 136,  58, 756,   0,  45,   0,   5,   0],\n",
              "       [  0,   0,   0,   1,   0, 961,   0,  18,   5,  15],\n",
              "       [131,   1, 101,  40,  71,   0, 642,   0,  14,   0],\n",
              "       [  0,   0,   0,   1,   0,  18,   0, 963,   6,  12],\n",
              "       [  6,   0,   7,   6,   4,   4,   5,   3, 965,   0],\n",
              "       [  0,   1,   0,   0,   0,  12,   1,  72,   1, 913]])"
            ]
          },
          "metadata": {},
          "execution_count": 113
        }
      ]
    },
    {
      "cell_type": "code",
      "source": [
        "category_array = np.array(list(categories.values()))\n",
        "category_array"
      ],
      "metadata": {
        "colab": {
          "base_uri": "https://localhost:8080/"
        },
        "id": "Ee5TiENDzk64",
        "outputId": "5bbe6af5-e8d9-488a-fe29-fe479dd9c19c"
      },
      "execution_count": null,
      "outputs": [
        {
          "output_type": "execute_result",
          "data": {
            "text/plain": [
              "array(['T-shirt/top', 'Trouser', 'Pullover', 'Dress', 'Coat', 'Sandal',\n",
              "       'Shirt', 'Sneaker', 'Bag', 'Ankle boot'], dtype='<U11')"
            ]
          },
          "metadata": {},
          "execution_count": 114
        }
      ]
    },
    {
      "cell_type": "code",
      "source": [
        "disp = ConfusionMatrixDisplay(cm, display_labels=category_array)\n",
        "fig, ax = plt.subplots(figsize=(14, 10))\n",
        "disp.plot(xticks_rotation='vertical', cmap=plt.cm.Blues, ax=ax);"
      ],
      "metadata": {
        "colab": {
          "base_uri": "https://localhost:8080/",
          "height": 910
        },
        "id": "RAH6tnT2yfeJ",
        "outputId": "39faf447-9c8c-424a-d497-077fce68b972"
      },
      "execution_count": null,
      "outputs": [
        {
          "output_type": "display_data",
          "data": {
            "text/plain": [
              "<Figure size 1400x1000 with 2 Axes>"
            ],
            "image/png": "[encoded data removed]"
          },
          "metadata": {}
        }
      ]
    },
    {
      "cell_type": "markdown",
      "source": [
        "### **Classification Report of the saved model**"
      ],
      "metadata": {
        "id": "RCazszjnzAdM"
      }
    },
    {
      "cell_type": "code",
      "source": [
        "class_report = classification_report(y_true=y_test, y_pred=fashion_preds)\n",
        "print(class_report)"
      ],
      "metadata": {
        "colab": {
          "base_uri": "https://localhost:8080/"
        },
        "id": "TS8YCHUU_HwP",
        "outputId": "924c692c-f59d-4d55-f372-a9a5bbabb702"
      },
      "execution_count": null,
      "outputs": [
        {
          "output_type": "stream",
          "name": "stdout",
          "text": [
            "              precision    recall  f1-score   support\n",
            "\n",
            "           0       0.82      0.84      0.83      1000\n",
            "           1       1.00      0.95      0.97      1000\n",
            "           2       0.75      0.82      0.79      1000\n",
            "           3       0.82      0.92      0.87      1000\n",
            "           4       0.81      0.76      0.78      1000\n",
            "           5       0.96      0.96      0.96      1000\n",
            "           6       0.75      0.64      0.69      1000\n",
            "           7       0.91      0.96      0.94      1000\n",
            "           8       0.94      0.96      0.95      1000\n",
            "           9       0.97      0.91      0.94      1000\n",
            "\n",
            "    accuracy                           0.87     10000\n",
            "   macro avg       0.87      0.87      0.87     10000\n",
            "weighted avg       0.87      0.87      0.87     10000\n",
            "\n"
          ]
        }
      ]
    },
    {
      "cell_type": "markdown",
      "source": [
        "---"
      ],
      "metadata": {
        "id": "gvaPkL7hekDq"
      }
    },
    {
      "cell_type": "markdown",
      "source": [
        "---"
      ],
      "metadata": {
        "id": "eZXaxI-relZm"
      }
    },
    {
      "cell_type": "markdown",
      "source": [
        "## **6. Create a function (or write code) to visualize multiple image predictions for the fashion MNIST at the same time. Plot at least three different images and their prediction labels at the same time. Hint: see the [classification tutorial in the TensorFlow documentation](https://www.tensorflow.org/tutorials/keras/classification) for ideas.**"
      ],
      "metadata": {
        "id": "cHPUu83Rdfh9"
      }
    },
    {
      "cell_type": "code",
      "source": [
        "import random"
      ],
      "metadata": {
        "id": "0e-iO0I8e1l7"
      },
      "execution_count": null,
      "outputs": []
    },
    {
      "cell_type": "code",
      "source": [
        "def predict_plot(no_preds, nrows, ncols,\n",
        "                   model=fashion_model, categories=categories, X_test=X_test_norm, y_test=y_test):\n",
        "  if nrows * ncols != no_preds:\n",
        "    print(\"Number of rows and columns didn't match with number of predictions\")\n",
        "  else:\n",
        "    rands = [random.randint(0, len(X_test) - 1) for i in range(no_preds)]\n",
        "    probs = [model.predict(X_test_norm[rand].reshape(1, 28, 28)) for rand in rands]\n",
        "    preds = [prob.argmax() for prob in probs]\n",
        "    fig, ax = plt.subplots(nrows, ncols, figsize=(8, 9))\n",
        "\n",
        "    k = 0\n",
        "    for i in range(nrows):\n",
        "      for j in range(ncols):\n",
        "        ax[i][j].imshow(X_test_norm[rands[k]], cmap=plt.cm.binary)\n",
        "\n",
        "        predicted = categories[preds[k]]\n",
        "        actual = categories[y_test[rands[k]]]\n",
        "\n",
        "        if predicted == actual:\n",
        "          color = 'Green'\n",
        "        else:\n",
        "          color = 'Red'\n",
        "\n",
        "        ax[i][j].set_title(f'Image - {k + 1}')\n",
        "        ax[i][j].set_xlabel(f'Predicted value: {predicted}\\nActual value: {actual}', color=color)\n",
        "        ax[i][j].set_xticks([])\n",
        "        ax[i][j].set_yticks([])\n",
        "\n",
        "        k = k + 1"
      ],
      "metadata": {
        "id": "SFR2vgcOnFx_"
      },
      "execution_count": null,
      "outputs": []
    },
    {
      "cell_type": "code",
      "source": [
        "predict_plot(4, 2, 2)"
      ],
      "metadata": {
        "colab": {
          "base_uri": "https://localhost:8080/",
          "height": 818
        },
        "id": "KNarzIv_0wEX",
        "outputId": "21435ddc-c09c-4a6d-ed77-7a6b7b2d3e14"
      },
      "execution_count": null,
      "outputs": [
        {
          "output_type": "stream",
          "name": "stdout",
          "text": [
            "1/1 [==============================] - 0s 26ms/step\n",
            "1/1 [==============================] - 0s 26ms/step\n",
            "1/1 [==============================] - 0s 27ms/step\n",
            "1/1 [==============================] - 0s 29ms/step\n"
          ]
        },
        {
          "output_type": "display_data",
          "data": {
            "text/plain": [
              "<Figure size 800x900 with 4 Axes>"
            ],
            "image/png": "[encoded data removed]"
          },
          "metadata": {}
        }
      ]
    },
    {
      "cell_type": "markdown",
      "source": [
        "---"
      ],
      "metadata": {
        "id": "LOV2G9x3esG-"
      }
    },
    {
      "cell_type": "markdown",
      "source": [
        "---"
      ],
      "metadata": {
        "id": "Dxfab0JSes5Z"
      }
    },
    {
      "cell_type": "markdown",
      "source": [
        "## **7. Make a function to show an image of a certain class of the fashion MNIST dataset and make a prediction on it. For example, plot 3 images of the `T-shirt` class with their predictions.**"
      ],
      "metadata": {
        "id": "cJCL1fn0dhmU"
      }
    },
    {
      "cell_type": "code",
      "source": [
        "import random"
      ],
      "metadata": {
        "id": "6ytD9rrmdDnb"
      },
      "execution_count": null,
      "outputs": []
    },
    {
      "cell_type": "code",
      "source": [
        "def predict_class_plot(no_preds, nrows, ncols,\n",
        "                       model=fashion_model, categories=categories, X_test=X_test_norm, y_test=y_test):\n",
        "  if(no_preds != nrows * ncols):\n",
        "    print(\"Number of rows and columns didn't match with number of predictions\")\n",
        "  else:\n",
        "    rand_class = random.randint(0, 9)\n",
        "\n",
        "    index = []\n",
        "    while len(index) != no_preds:\n",
        "      ind = random.randint(0, len(X_test) - 1)\n",
        "      if y_test[ind] == rand_class:\n",
        "        index.append(ind)\n",
        "\n",
        "    actuals = [y_test[i] for i in index]\n",
        "    probs = [model.predict(X_test_norm[i].reshape(1, 28, 28)) for i in index]\n",
        "    preds = [prob.argmax() for prob in probs]\n",
        "\n",
        "    fig, ax = plt.subplots(nrows, ncols, figsize=(15, 8))\n",
        "\n",
        "    k = 0\n",
        "    for i in range(nrows):\n",
        "      for j in range(ncols):\n",
        "        if actuals[k] == preds[k]:\n",
        "          color = 'Green'\n",
        "        else:\n",
        "          color = 'Red'\n",
        "\n",
        "        ax[i][j].imshow(X_test_norm[index[k]], cmap=plt.cm.binary)\n",
        "        ax[i][j].set_title(f'Image - {k + 1}')\n",
        "        ax[i][j].set_xlabel(f'Predicted: {categories[preds[k]]} {probs[k].max() * 100:.2f}%\\nActual: {categories[actuals[k]]}', color=color)\n",
        "        ax[i][j].set_xticks([])\n",
        "        ax[i][j].set_yticks([])\n",
        "\n",
        "        k = k + 1"
      ],
      "metadata": {
        "id": "v3JcaXv7dDtz"
      },
      "execution_count": 46,
      "outputs": []
    },
    {
      "cell_type": "code",
      "source": [
        "predict_class_plot(8, 2, 4)"
      ],
      "metadata": {
        "id": "OfgOIa1PdDzR",
        "colab": {
          "base_uri": "https://localhost:8080/",
          "height": 814
        },
        "outputId": "9d673900-63c9-4a12-f2c6-828e797ae620"
      },
      "execution_count": 60,
      "outputs": [
        {
          "output_type": "stream",
          "name": "stdout",
          "text": [
            "1/1 [==============================] - 0s 25ms/step\n",
            "1/1 [==============================] - 0s 38ms/step\n",
            "1/1 [==============================] - 0s 24ms/step\n",
            "1/1 [==============================] - 0s 24ms/step\n",
            "1/1 [==============================] - 0s 23ms/step\n",
            "1/1 [==============================] - 0s 24ms/step\n",
            "1/1 [==============================] - 0s 23ms/step\n",
            "1/1 [==============================] - 0s 24ms/step\n"
          ]
        },
        {
          "output_type": "display_data",
          "data": {
            "text/plain": [
              "<Figure size 1500x800 with 8 Axes>"
            ],
            "image/png": "[encoded data removed]"
          },
          "metadata": {}
        }
      ]
    },
    {
      "cell_type": "markdown",
      "source": [
        "\n",
        "# **📖 02. Neural network classification with TensorFlow Extra-curriculum**\n",
        "\n",
        "* Watch 3Blue1Brown's neural networks video 2: [*Gradient descent, how neural networks learn*](https://www.youtube.com/watch?v=IHZwWFHWa-w). After you're done, write 100 words about what you've learned.\n",
        "  * If you haven't already, watch video 1: [*But what is a Neural Network?*](https://www.youtube.com/watch?v=aircAruvnKk). Note the activation function they talk about at the end.\n",
        "* Watch [MIT's introduction to deep learning lecture 1](https://youtu.be/njKP3FqW3Sk) (if you haven't already) to get an idea of the concepts behind using linear and non-linear functions.\n",
        "* Spend 1-hour reading [Michael Nielsen's Neural Networks and Deep Learning book](http://neuralnetworksanddeeplearning.com/index.html).\n",
        "* Read the [ML-Glossary documentation on activation functions](https://ml-cheatsheet.readthedocs.io/en/latest/activation_functions.html). Which one is your favourite?\n",
        "  * After you've read the ML-Glossary, see which activation functions are available in TensorFlow by searching \"tensorflow activation functions\".\n"
      ],
      "metadata": {
        "id": "c9KkQAyVcTlD"
      }
    }
  ]
}