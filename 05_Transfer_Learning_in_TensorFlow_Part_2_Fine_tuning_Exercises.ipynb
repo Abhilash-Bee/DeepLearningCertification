{
  "nbformat": 4,
  "nbformat_minor": 0,
  "metadata": {
    "colab": {
      "provenance": [],
      "gpuType": "T4",
      "mount_file_id": "1ofse7M0pGLE6qDkhWV3p1dTbUj4hhDPi",
      "authorship_tag": "ABX9TyOUQV4tBhmTr7NmwtiKrpRK",
      "include_colab_link": true
    },
    "kernelspec": {
      "name": "python3",
      "display_name": "Python 3"
    },
    "language_info": {
      "name": "python"
    },
    "accelerator": "GPU"
  },
  "cells": [
    {
      "cell_type": "markdown",
      "metadata": {
        "id": "view-in-github",
        "colab_type": "text"
      },
      "source": [
        "<a href=\"https://colab.research.google.com/github/Abhilash-Bee/DeepLearningCertification/blob/main/05_Transfer_Learning_in_TensorFlow_Part_2_Fine_tuning_Exercises.ipynb\" target=\"_parent\"><img src=\"https://colab.research.google.com/assets/colab-badge.svg\" alt=\"Open In Colab\"/></a>"
      ]
    },
    {
      "cell_type": "markdown",
      "source": [
        "# 🛠 **05. Transfer Learning in TensorFlow Part 2: Fine-tuning Exercises**\n",
        "\n",
        "1. Use feature-extraction to train a transfer learning model on 10% of the Food Vision data for 10 epochs using [`tf.keras.applications.EfficientNetB0`](https://www.tensorflow.org/api_docs/python/tf/keras/applications/EfficientNetB0) as the base model. Use the [`ModelCheckpoint`](https://www.tensorflow.org/api_docs/python/tf/keras/callbacks/ModelCheckpoint) callback to save the weights to file.\n",
        "2. Fine-tune the last 20 layers of the base model you trained in 2 for another 10 epochs. How did it go?\n",
        "3. Fine-tune the last 30 layers of the base model you trained in 2 for another 10 epochs. How did it go?\n",
        "4. Write a function to visualize an image from any dataset (train or test file) and any class (e.g. \"steak\", \"pizza\"... etc), visualize it and make a prediction on it using a trained model.\n"
      ],
      "metadata": {
        "id": "S4RXXI24UjZW"
      }
    },
    {
      "cell_type": "markdown",
      "source": [
        "---"
      ],
      "metadata": {
        "id": "hX4X9d_7VJon"
      }
    },
    {
      "cell_type": "markdown",
      "source": [
        "---"
      ],
      "metadata": {
        "id": "ZWeLoatsVKmr"
      }
    },
    {
      "cell_type": "markdown",
      "source": [
        "## **0. Importing Dependencies and getting the helper function**"
      ],
      "metadata": {
        "id": "UHIBNZjrikZy"
      }
    },
    {
      "cell_type": "markdown",
      "source": [
        "### Importing important Packages"
      ],
      "metadata": {
        "id": "KnzUVeSDOCf2"
      }
    },
    {
      "cell_type": "code",
      "source": [
        "import numpy as np\n",
        "import pandas as pd\n",
        "\n",
        "import tensorflow as tf"
      ],
      "metadata": {
        "id": "JvJ2YzbIOFsy"
      },
      "execution_count": 1,
      "outputs": []
    },
    {
      "cell_type": "markdown",
      "source": [
        "### Download helper function and loading it"
      ],
      "metadata": {
        "id": "Q175-dZ8Ofh_"
      }
    },
    {
      "cell_type": "code",
      "source": [
        "!wget https://raw.githubusercontent.com/Abhilash-Bee/DeepLearningCertification/main/extras/helper_function.py\n",
        "\n",
        "from helper_function import *"
      ],
      "metadata": {
        "colab": {
          "base_uri": "https://localhost:8080/"
        },
        "id": "CV0zm_KkOlhL",
        "outputId": "d4518397-142b-4a02-fd46-66c331b958ee"
      },
      "execution_count": 2,
      "outputs": [
        {
          "output_type": "stream",
          "name": "stdout",
          "text": [
            "--2024-02-01 07:32:43--  https://raw.githubusercontent.com/Abhilash-Bee/DeepLearningCertification/main/extras/helper_function.py\n",
            "Resolving raw.githubusercontent.com (raw.githubusercontent.com)... 185.199.108.133, 185.199.109.133, 185.199.110.133, ...\n",
            "Connecting to raw.githubusercontent.com (raw.githubusercontent.com)|185.199.108.133|:443... connected.\n",
            "HTTP request sent, awaiting response... 200 OK\n",
            "Length: 8898 (8.7K) [text/plain]\n",
            "Saving to: ‘helper_function.py’\n",
            "\n",
            "helper_function.py  100%[===================>]   8.69K  --.-KB/s    in 0s      \n",
            "\n",
            "2024-02-01 07:32:44 (74.0 MB/s) - ‘helper_function.py’ saved [8898/8898]\n",
            "\n"
          ]
        }
      ]
    },
    {
      "cell_type": "markdown",
      "source": [
        "### Getting dataset and extract it."
      ],
      "metadata": {
        "id": "DQ9bWte_O7t8"
      }
    },
    {
      "cell_type": "code",
      "source": [
        "path = tf.keras.utils.get_file(origin='https://storage.googleapis.com/ztm_tf_course/food_vision/10_food_classes_10_percent.zip', extract=True)[:-4]\n",
        "path"
      ],
      "metadata": {
        "colab": {
          "base_uri": "https://localhost:8080/",
          "height": 89
        },
        "id": "mE-wWEHhPLb2",
        "outputId": "7e33cffb-37b0-497a-f182-afbea7e6b95e"
      },
      "execution_count": 3,
      "outputs": [
        {
          "output_type": "stream",
          "name": "stdout",
          "text": [
            "Downloading data from https://storage.googleapis.com/ztm_tf_course/food_vision/10_food_classes_10_percent.zip\n",
            "168546183/168546183 [==============================] - 8s 0us/step\n"
          ]
        },
        {
          "output_type": "execute_result",
          "data": {
            "text/plain": [
              "'/root/.keras/datasets/10_food_classes_10_percent'"
            ],
            "application/vnd.google.colaboratory.intrinsic+json": {
              "type": "string"
            }
          },
          "metadata": {},
          "execution_count": 3
        }
      ]
    },
    {
      "cell_type": "markdown",
      "source": [
        "### Walk through the folder path"
      ],
      "metadata": {
        "id": "DW2q1uzSxo2O"
      }
    },
    {
      "cell_type": "code",
      "source": [
        "walk_through_directory(path)"
      ],
      "metadata": {
        "colab": {
          "base_uri": "https://localhost:8080/"
        },
        "id": "mnwiIg4bxvX8",
        "outputId": "96b3e0e4-27c4-49fc-de8b-5570f763225a"
      },
      "execution_count": 58,
      "outputs": [
        {
          "output_type": "stream",
          "name": "stdout",
          "text": [
            "There are 2 folders and 0 in this '/root/.keras/datasets/10_food_classes_10_percent' directory path.\n",
            "There are 10 folders and 0 in this '/root/.keras/datasets/10_food_classes_10_percent/train' directory path.\n",
            "There are 0 folders and 75 in this '/root/.keras/datasets/10_food_classes_10_percent/train/hamburger' directory path.\n",
            "There are 0 folders and 75 in this '/root/.keras/datasets/10_food_classes_10_percent/train/fried_rice' directory path.\n",
            "There are 0 folders and 75 in this '/root/.keras/datasets/10_food_classes_10_percent/train/steak' directory path.\n",
            "There are 0 folders and 75 in this '/root/.keras/datasets/10_food_classes_10_percent/train/grilled_salmon' directory path.\n",
            "There are 0 folders and 75 in this '/root/.keras/datasets/10_food_classes_10_percent/train/ramen' directory path.\n",
            "There are 0 folders and 75 in this '/root/.keras/datasets/10_food_classes_10_percent/train/pizza' directory path.\n",
            "There are 0 folders and 75 in this '/root/.keras/datasets/10_food_classes_10_percent/train/chicken_curry' directory path.\n",
            "There are 0 folders and 75 in this '/root/.keras/datasets/10_food_classes_10_percent/train/ice_cream' directory path.\n",
            "There are 0 folders and 75 in this '/root/.keras/datasets/10_food_classes_10_percent/train/chicken_wings' directory path.\n",
            "There are 0 folders and 75 in this '/root/.keras/datasets/10_food_classes_10_percent/train/sushi' directory path.\n",
            "There are 10 folders and 0 in this '/root/.keras/datasets/10_food_classes_10_percent/test' directory path.\n",
            "There are 0 folders and 250 in this '/root/.keras/datasets/10_food_classes_10_percent/test/hamburger' directory path.\n",
            "There are 0 folders and 250 in this '/root/.keras/datasets/10_food_classes_10_percent/test/fried_rice' directory path.\n",
            "There are 0 folders and 250 in this '/root/.keras/datasets/10_food_classes_10_percent/test/steak' directory path.\n",
            "There are 0 folders and 250 in this '/root/.keras/datasets/10_food_classes_10_percent/test/grilled_salmon' directory path.\n",
            "There are 0 folders and 250 in this '/root/.keras/datasets/10_food_classes_10_percent/test/ramen' directory path.\n",
            "There are 0 folders and 250 in this '/root/.keras/datasets/10_food_classes_10_percent/test/pizza' directory path.\n",
            "There are 0 folders and 250 in this '/root/.keras/datasets/10_food_classes_10_percent/test/chicken_curry' directory path.\n",
            "There are 0 folders and 250 in this '/root/.keras/datasets/10_food_classes_10_percent/test/ice_cream' directory path.\n",
            "There are 0 folders and 250 in this '/root/.keras/datasets/10_food_classes_10_percent/test/chicken_wings' directory path.\n",
            "There are 0 folders and 250 in this '/root/.keras/datasets/10_food_classes_10_percent/test/sushi' directory path.\n"
          ]
        }
      ]
    },
    {
      "cell_type": "markdown",
      "source": [
        "### Setting the paths of train and test dataset"
      ],
      "metadata": {
        "id": "9-6ARXSDREvq"
      }
    },
    {
      "cell_type": "code",
      "source": [
        "train_dir = path + '/train/'\n",
        "test_dir = path + '/test/'"
      ],
      "metadata": {
        "id": "T9LerMYuRItE"
      },
      "execution_count": 4,
      "outputs": []
    },
    {
      "cell_type": "markdown",
      "source": [
        "### Data Preprocssing"
      ],
      "metadata": {
        "id": "vNLsd__bQNl9"
      }
    },
    {
      "cell_type": "code",
      "source": [
        "IMG_SIZE = (224, 224)\n",
        "\n",
        "train_data = tf.keras.utils.image_dataset_from_directory(train_dir,\n",
        "                                                         image_size=IMG_SIZE,\n",
        "                                                         label_mode='categorical')\n",
        "\n",
        "test_data = tf.keras.utils.image_dataset_from_directory(test_dir,\n",
        "                                                        image_size=IMG_SIZE,\n",
        "                                                        label_mode='categorical')"
      ],
      "metadata": {
        "colab": {
          "base_uri": "https://localhost:8080/"
        },
        "id": "ZsUUKeIwPze-",
        "outputId": "209483b9-ff8c-43e7-ae0c-dff234a9984a"
      },
      "execution_count": 5,
      "outputs": [
        {
          "output_type": "stream",
          "name": "stdout",
          "text": [
            "Found 750 files belonging to 10 classes.\n",
            "Found 2500 files belonging to 10 classes.\n"
          ]
        }
      ]
    },
    {
      "cell_type": "code",
      "source": [
        "len(train_data), len(test_data)"
      ],
      "metadata": {
        "colab": {
          "base_uri": "https://localhost:8080/"
        },
        "id": "Fr5AKsgjSW4p",
        "outputId": "d7f63a73-6d56-4fa7-d766-81ac820e9f11"
      },
      "execution_count": 6,
      "outputs": [
        {
          "output_type": "execute_result",
          "data": {
            "text/plain": [
              "(24, 79)"
            ]
          },
          "metadata": {},
          "execution_count": 6
        }
      ]
    },
    {
      "cell_type": "code",
      "source": [
        "for image, label in train_data.take(1):\n",
        "  print(image.shape, label.shape)"
      ],
      "metadata": {
        "colab": {
          "base_uri": "https://localhost:8080/"
        },
        "id": "eFKSty5qTEBu",
        "outputId": "827f4949-069c-4aba-87ab-df9a79d1f18e"
      },
      "execution_count": 7,
      "outputs": [
        {
          "output_type": "stream",
          "name": "stdout",
          "text": [
            "(32, 224, 224, 3) (32, 10)\n"
          ]
        }
      ]
    },
    {
      "cell_type": "markdown",
      "source": [
        "---"
      ],
      "metadata": {
        "id": "OSi_74B8FSqu"
      }
    },
    {
      "cell_type": "markdown",
      "source": [
        "---"
      ],
      "metadata": {
        "id": "P1W4PPw1FTyi"
      }
    },
    {
      "cell_type": "markdown",
      "source": [
        "## **1. Use feature-extraction to train a transfer learning model on 10% of the Food Vision data for 10 epochs using [`tf.keras.applications.EfficientNetB0`](https://www.tensorflow.org/api_docs/python/tf/keras/applications/EfficientNetB0) as the base model. Use the [`ModelCheckpoint`](https://www.tensorflow.org/api_docs/python/tf/keras/callbacks/ModelCheckpoint) callback to save the weights to file.**"
      ],
      "metadata": {
        "id": "esiV9Yx5VLzv"
      }
    },
    {
      "cell_type": "markdown",
      "source": [
        "### Since there is no scaling layer in Mobilenet_v2, we have to scale manually"
      ],
      "metadata": {
        "id": "9TrEuzQSgj7g"
      }
    },
    {
      "cell_type": "code",
      "source": [
        "data_rescaling = tf.keras.models.Sequential([\n",
        "    tf.keras.layers.Rescaling(1/255.)\n",
        "])"
      ],
      "metadata": {
        "id": "bgaUyVnrgt11"
      },
      "execution_count": 8,
      "outputs": []
    },
    {
      "cell_type": "markdown",
      "source": [
        "### Creating Base Model"
      ],
      "metadata": {
        "id": "4fsyDZskhA9l"
      }
    },
    {
      "cell_type": "code",
      "source": [
        "IMG_SHAPE = IMG_SIZE + (3,)\n",
        "\n",
        "base_model = tf.keras.applications.mobilenet_v2.MobileNetV2(include_top=False,\n",
        "                                                            input_shape=IMG_SHAPE)\n",
        "\n",
        "base_model.trainable = False"
      ],
      "metadata": {
        "colab": {
          "base_uri": "https://localhost:8080/"
        },
        "id": "LkHzcbgIhHqy",
        "outputId": "383d854b-cb93-40c5-d40f-3dcd9b2233e4"
      },
      "execution_count": 9,
      "outputs": [
        {
          "output_type": "stream",
          "name": "stdout",
          "text": [
            "Downloading data from https://storage.googleapis.com/tensorflow/keras-applications/mobilenet_v2/mobilenet_v2_weights_tf_dim_ordering_tf_kernels_1.0_224_no_top.h5\n",
            "9406464/9406464 [==============================] - 2s 0us/step\n"
          ]
        }
      ]
    },
    {
      "cell_type": "markdown",
      "source": [
        "### Creating the model"
      ],
      "metadata": {
        "id": "uVNJEoiJhlIy"
      }
    },
    {
      "cell_type": "code",
      "source": [
        "inputs = tf.keras.Input(shape=IMG_SHAPE, name='Input_layer')\n",
        "\n",
        "x = data_rescaling(inputs)\n",
        "\n",
        "x = base_model(x)\n",
        "\n",
        "x = tf.keras.layers.GlobalAveragePooling2D()(x)\n",
        "\n",
        "outputs = tf.keras.layers.Dense(10, activation='softmax', name='Output_layer')(x)\n",
        "\n",
        "model_0 = tf.keras.Model(inputs, outputs)"
      ],
      "metadata": {
        "id": "Y6hLuv7ehrJI"
      },
      "execution_count": 10,
      "outputs": []
    },
    {
      "cell_type": "code",
      "source": [
        "model_0.summary()"
      ],
      "metadata": {
        "colab": {
          "base_uri": "https://localhost:8080/"
        },
        "id": "9GvsSqkziWJN",
        "outputId": "cb72a440-a80a-461a-f29d-8ee03b65ac37"
      },
      "execution_count": 11,
      "outputs": [
        {
          "output_type": "stream",
          "name": "stdout",
          "text": [
            "Model: \"model\"\n",
            "_________________________________________________________________\n",
            " Layer (type)                Output Shape              Param #   \n",
            "=================================================================\n",
            " Input_layer (InputLayer)    [(None, 224, 224, 3)]     0         \n",
            "                                                                 \n",
            " sequential (Sequential)     (None, 224, 224, 3)       0         \n",
            "                                                                 \n",
            " mobilenetv2_1.00_224 (Func  (None, 7, 7, 1280)        2257984   \n",
            " tional)                                                         \n",
            "                                                                 \n",
            " global_average_pooling2d (  (None, 1280)              0         \n",
            " GlobalAveragePooling2D)                                         \n",
            "                                                                 \n",
            " Output_layer (Dense)        (None, 10)                12810     \n",
            "                                                                 \n",
            "=================================================================\n",
            "Total params: 2270794 (8.66 MB)\n",
            "Trainable params: 12810 (50.04 KB)\n",
            "Non-trainable params: 2257984 (8.61 MB)\n",
            "_________________________________________________________________\n"
          ]
        }
      ]
    },
    {
      "cell_type": "code",
      "source": [
        "for i, layer in enumerate(model_0.layers):\n",
        "  print(i, layer.name, layer.trainable)"
      ],
      "metadata": {
        "colab": {
          "base_uri": "https://localhost:8080/"
        },
        "id": "tpPB_BzUmo3M",
        "outputId": "f2e90c5c-eea4-4a3a-c86b-e1b311ec4269"
      },
      "execution_count": 21,
      "outputs": [
        {
          "output_type": "stream",
          "name": "stdout",
          "text": [
            "0 Input_layer True\n",
            "1 sequential True\n",
            "2 mobilenetv2_1.00_224 False\n",
            "3 global_average_pooling2d True\n",
            "4 Output_layer True\n"
          ]
        }
      ]
    },
    {
      "cell_type": "code",
      "source": [
        "for i, layer in enumerate(base_model.layers):\n",
        "  print(i, layer.name, layer.trainable)"
      ],
      "metadata": {
        "colab": {
          "base_uri": "https://localhost:8080/"
        },
        "id": "P0T4r91Hmtyl",
        "outputId": "d2f8aa22-0c03-4c35-a2d4-945995723c42"
      },
      "execution_count": 22,
      "outputs": [
        {
          "output_type": "stream",
          "name": "stdout",
          "text": [
            "0 input_1 False\n",
            "1 Conv1 False\n",
            "2 bn_Conv1 False\n",
            "3 Conv1_relu False\n",
            "4 expanded_conv_depthwise False\n",
            "5 expanded_conv_depthwise_BN False\n",
            "6 expanded_conv_depthwise_relu False\n",
            "7 expanded_conv_project False\n",
            "8 expanded_conv_project_BN False\n",
            "9 block_1_expand False\n",
            "10 block_1_expand_BN False\n",
            "11 block_1_expand_relu False\n",
            "12 block_1_pad False\n",
            "13 block_1_depthwise False\n",
            "14 block_1_depthwise_BN False\n",
            "15 block_1_depthwise_relu False\n",
            "16 block_1_project False\n",
            "17 block_1_project_BN False\n",
            "18 block_2_expand False\n",
            "19 block_2_expand_BN False\n",
            "20 block_2_expand_relu False\n",
            "21 block_2_depthwise False\n",
            "22 block_2_depthwise_BN False\n",
            "23 block_2_depthwise_relu False\n",
            "24 block_2_project False\n",
            "25 block_2_project_BN False\n",
            "26 block_2_add False\n",
            "27 block_3_expand False\n",
            "28 block_3_expand_BN False\n",
            "29 block_3_expand_relu False\n",
            "30 block_3_pad False\n",
            "31 block_3_depthwise False\n",
            "32 block_3_depthwise_BN False\n",
            "33 block_3_depthwise_relu False\n",
            "34 block_3_project False\n",
            "35 block_3_project_BN False\n",
            "36 block_4_expand False\n",
            "37 block_4_expand_BN False\n",
            "38 block_4_expand_relu False\n",
            "39 block_4_depthwise False\n",
            "40 block_4_depthwise_BN False\n",
            "41 block_4_depthwise_relu False\n",
            "42 block_4_project False\n",
            "43 block_4_project_BN False\n",
            "44 block_4_add False\n",
            "45 block_5_expand False\n",
            "46 block_5_expand_BN False\n",
            "47 block_5_expand_relu False\n",
            "48 block_5_depthwise False\n",
            "49 block_5_depthwise_BN False\n",
            "50 block_5_depthwise_relu False\n",
            "51 block_5_project False\n",
            "52 block_5_project_BN False\n",
            "53 block_5_add False\n",
            "54 block_6_expand False\n",
            "55 block_6_expand_BN False\n",
            "56 block_6_expand_relu False\n",
            "57 block_6_pad False\n",
            "58 block_6_depthwise False\n",
            "59 block_6_depthwise_BN False\n",
            "60 block_6_depthwise_relu False\n",
            "61 block_6_project False\n",
            "62 block_6_project_BN False\n",
            "63 block_7_expand False\n",
            "64 block_7_expand_BN False\n",
            "65 block_7_expand_relu False\n",
            "66 block_7_depthwise False\n",
            "67 block_7_depthwise_BN False\n",
            "68 block_7_depthwise_relu False\n",
            "69 block_7_project False\n",
            "70 block_7_project_BN False\n",
            "71 block_7_add False\n",
            "72 block_8_expand False\n",
            "73 block_8_expand_BN False\n",
            "74 block_8_expand_relu False\n",
            "75 block_8_depthwise False\n",
            "76 block_8_depthwise_BN False\n",
            "77 block_8_depthwise_relu False\n",
            "78 block_8_project False\n",
            "79 block_8_project_BN False\n",
            "80 block_8_add False\n",
            "81 block_9_expand False\n",
            "82 block_9_expand_BN False\n",
            "83 block_9_expand_relu False\n",
            "84 block_9_depthwise False\n",
            "85 block_9_depthwise_BN False\n",
            "86 block_9_depthwise_relu False\n",
            "87 block_9_project False\n",
            "88 block_9_project_BN False\n",
            "89 block_9_add False\n",
            "90 block_10_expand False\n",
            "91 block_10_expand_BN False\n",
            "92 block_10_expand_relu False\n",
            "93 block_10_depthwise False\n",
            "94 block_10_depthwise_BN False\n",
            "95 block_10_depthwise_relu False\n",
            "96 block_10_project False\n",
            "97 block_10_project_BN False\n",
            "98 block_11_expand False\n",
            "99 block_11_expand_BN False\n",
            "100 block_11_expand_relu False\n",
            "101 block_11_depthwise False\n",
            "102 block_11_depthwise_BN False\n",
            "103 block_11_depthwise_relu False\n",
            "104 block_11_project False\n",
            "105 block_11_project_BN False\n",
            "106 block_11_add False\n",
            "107 block_12_expand False\n",
            "108 block_12_expand_BN False\n",
            "109 block_12_expand_relu False\n",
            "110 block_12_depthwise False\n",
            "111 block_12_depthwise_BN False\n",
            "112 block_12_depthwise_relu False\n",
            "113 block_12_project False\n",
            "114 block_12_project_BN False\n",
            "115 block_12_add False\n",
            "116 block_13_expand False\n",
            "117 block_13_expand_BN False\n",
            "118 block_13_expand_relu False\n",
            "119 block_13_pad False\n",
            "120 block_13_depthwise False\n",
            "121 block_13_depthwise_BN False\n",
            "122 block_13_depthwise_relu False\n",
            "123 block_13_project False\n",
            "124 block_13_project_BN False\n",
            "125 block_14_expand False\n",
            "126 block_14_expand_BN False\n",
            "127 block_14_expand_relu False\n",
            "128 block_14_depthwise False\n",
            "129 block_14_depthwise_BN False\n",
            "130 block_14_depthwise_relu False\n",
            "131 block_14_project False\n",
            "132 block_14_project_BN False\n",
            "133 block_14_add False\n",
            "134 block_15_expand False\n",
            "135 block_15_expand_BN False\n",
            "136 block_15_expand_relu False\n",
            "137 block_15_depthwise False\n",
            "138 block_15_depthwise_BN False\n",
            "139 block_15_depthwise_relu False\n",
            "140 block_15_project False\n",
            "141 block_15_project_BN False\n",
            "142 block_15_add False\n",
            "143 block_16_expand False\n",
            "144 block_16_expand_BN False\n",
            "145 block_16_expand_relu False\n",
            "146 block_16_depthwise False\n",
            "147 block_16_depthwise_BN False\n",
            "148 block_16_depthwise_relu False\n",
            "149 block_16_project False\n",
            "150 block_16_project_BN False\n",
            "151 Conv_1 False\n",
            "152 Conv_1_bn False\n",
            "153 out_relu False\n"
          ]
        }
      ]
    },
    {
      "cell_type": "code",
      "source": [
        "tf.keras.utils.plot_model(model_0, show_layer_activations=True, show_trainable=True)"
      ],
      "metadata": {
        "colab": {
          "base_uri": "https://localhost:8080/",
          "height": 500
        },
        "id": "eh2FcfAPiYC4",
        "outputId": "81e45e2f-5e2c-4c4f-f916-2755ac24c34a"
      },
      "execution_count": 12,
      "outputs": [
        {
          "output_type": "execute_result",
          "data": {
            "image/png": "[encoded data removed]",
            "text/plain": [
              "<IPython.core.display.Image object>"
            ]
          },
          "metadata": {},
          "execution_count": 12
        }
      ]
    },
    {
      "cell_type": "markdown",
      "source": [
        "### Compiling the model"
      ],
      "metadata": {
        "id": "xf6o9vqrjEq5"
      }
    },
    {
      "cell_type": "code",
      "source": [
        "model_0.compile(optimizer=tf.keras.optimizers.Adam(),\n",
        "                loss=tf.keras.losses.CategoricalCrossentropy(),\n",
        "                metrics=['accuracy'])"
      ],
      "metadata": {
        "id": "XLfmVJoGjk1m"
      },
      "execution_count": 13,
      "outputs": []
    },
    {
      "cell_type": "markdown",
      "source": [
        "### Fit the model"
      ],
      "metadata": {
        "id": "pL899IVqjvVm"
      }
    },
    {
      "cell_type": "code",
      "source": [
        "history_0 = model_0.fit(train_data,\n",
        "                        epochs=10,\n",
        "                        steps_per_epoch=len(train_data),\n",
        "                        validation_data=test_data,\n",
        "                        validation_steps=0.25 * len(test_data),\n",
        "                        callbacks=[tensorboard_callbacks(directory='Tensorboard',\n",
        "                                                         experiment_name='10_epoch_10_per_data'),\n",
        "                                   tensorflow_modelcheckpoint(directory='ModelCheckpoint',\n",
        "                                                              experiment_name='10_epoch_10_per_data')])"
      ],
      "metadata": {
        "colab": {
          "base_uri": "https://localhost:8080/"
        },
        "id": "ZBAPdEGGj30X",
        "outputId": "2330d77f-9b9f-4e6c-91c1-7c267374c142"
      },
      "execution_count": 14,
      "outputs": [
        {
          "output_type": "stream",
          "name": "stdout",
          "text": [
            "Saving the tensorboard callbacks in Tensorboard/10_epoch_10_per_data/20240201-073349\n",
            "Path of the checkpoint: ModelCheckpoint/10_epoch_10_per_data/20240201-073349\n",
            "Epoch 1/10\n",
            "24/24 [==============================] - ETA: 0s - loss: 2.0215 - accuracy: 0.3173\n",
            "Epoch 1: saving model to ModelCheckpoint/10_epoch_10_per_data/20240201-073349\n",
            "24/24 [==============================] - 12s 258ms/step - loss: 2.0215 - accuracy: 0.3173 - val_loss: 1.4362 - val_accuracy: 0.5422\n",
            "Epoch 2/10\n",
            "23/24 [===========================>..] - ETA: 0s - loss: 1.1387 - accuracy: 0.6399\n",
            "Epoch 2: saving model to ModelCheckpoint/10_epoch_10_per_data/20240201-073349\n",
            "24/24 [==============================] - 4s 137ms/step - loss: 1.1383 - accuracy: 0.6400 - val_loss: 0.9702 - val_accuracy: 0.6844\n",
            "Epoch 3/10\n",
            "23/24 [===========================>..] - ETA: 0s - loss: 0.7983 - accuracy: 0.7772\n",
            "Epoch 3: saving model to ModelCheckpoint/10_epoch_10_per_data/20240201-073349\n",
            "24/24 [==============================] - 5s 184ms/step - loss: 0.7959 - accuracy: 0.7800 - val_loss: 0.8625 - val_accuracy: 0.7094\n",
            "Epoch 4/10\n",
            "23/24 [===========================>..] - ETA: 0s - loss: 0.6395 - accuracy: 0.8288\n",
            "Epoch 4: saving model to ModelCheckpoint/10_epoch_10_per_data/20240201-073349\n",
            "24/24 [==============================] - 4s 141ms/step - loss: 0.6424 - accuracy: 0.8267 - val_loss: 0.7778 - val_accuracy: 0.7406\n",
            "Epoch 5/10\n",
            "23/24 [===========================>..] - ETA: 0s - loss: 0.5374 - accuracy: 0.8668\n",
            "Epoch 5: saving model to ModelCheckpoint/10_epoch_10_per_data/20240201-073349\n",
            "24/24 [==============================] - 5s 177ms/step - loss: 0.5355 - accuracy: 0.8680 - val_loss: 0.7418 - val_accuracy: 0.7500\n",
            "Epoch 6/10\n",
            "23/24 [===========================>..] - ETA: 0s - loss: 0.4559 - accuracy: 0.8940\n",
            "Epoch 6: saving model to ModelCheckpoint/10_epoch_10_per_data/20240201-073349\n",
            "24/24 [==============================] - 5s 193ms/step - loss: 0.4539 - accuracy: 0.8960 - val_loss: 0.6981 - val_accuracy: 0.7594\n",
            "Epoch 7/10\n",
            "23/24 [===========================>..] - ETA: 0s - loss: 0.3882 - accuracy: 0.9198\n",
            "Epoch 7: saving model to ModelCheckpoint/10_epoch_10_per_data/20240201-073349\n",
            "24/24 [==============================] - 5s 179ms/step - loss: 0.3943 - accuracy: 0.9187 - val_loss: 0.6858 - val_accuracy: 0.7625\n",
            "Epoch 8/10\n",
            "23/24 [===========================>..] - ETA: 0s - loss: 0.3438 - accuracy: 0.9348\n",
            "Epoch 8: saving model to ModelCheckpoint/10_epoch_10_per_data/20240201-073349\n",
            "24/24 [==============================] - 4s 137ms/step - loss: 0.3410 - accuracy: 0.9360 - val_loss: 0.6728 - val_accuracy: 0.7531\n",
            "Epoch 9/10\n",
            "24/24 [==============================] - ETA: 0s - loss: 0.2989 - accuracy: 0.9547\n",
            "Epoch 9: saving model to ModelCheckpoint/10_epoch_10_per_data/20240201-073349\n",
            "24/24 [==============================] - 6s 213ms/step - loss: 0.2989 - accuracy: 0.9547 - val_loss: 0.6398 - val_accuracy: 0.7766\n",
            "Epoch 10/10\n",
            "23/24 [===========================>..] - ETA: 0s - loss: 0.2605 - accuracy: 0.9660\n",
            "Epoch 10: saving model to ModelCheckpoint/10_epoch_10_per_data/20240201-073349\n",
            "24/24 [==============================] - 5s 181ms/step - loss: 0.2602 - accuracy: 0.9653 - val_loss: 0.6342 - val_accuracy: 0.7703\n"
          ]
        }
      ]
    },
    {
      "cell_type": "code",
      "source": [
        "tensorboard_path = 'Tensorboard/10_epoch_10_per_data/20240201-073349'\n",
        "modelcheckpoint_path = 'ModelCheckpoint/10_epoch_10_per_data/20240201-073349'"
      ],
      "metadata": {
        "id": "uRUxOftelpJB"
      },
      "execution_count": 15,
      "outputs": []
    },
    {
      "cell_type": "markdown",
      "source": [
        "### Evaluate the model"
      ],
      "metadata": {
        "id": "f8bGN-pnmEtt"
      }
    },
    {
      "cell_type": "code",
      "source": [
        "model_0.evaluate(test_data)"
      ],
      "metadata": {
        "colab": {
          "base_uri": "https://localhost:8080/"
        },
        "id": "LYkRr94qmITo",
        "outputId": "e3ae20ad-8021-4e61-c7c1-a1bd7be9caad"
      },
      "execution_count": 16,
      "outputs": [
        {
          "output_type": "stream",
          "name": "stdout",
          "text": [
            "79/79 [==============================] - 7s 88ms/step - loss: 0.6550 - accuracy: 0.7768\n"
          ]
        },
        {
          "output_type": "execute_result",
          "data": {
            "text/plain": [
              "[0.6549739837646484, 0.7767999768257141]"
            ]
          },
          "metadata": {},
          "execution_count": 16
        }
      ]
    },
    {
      "cell_type": "markdown",
      "source": [
        "### Plot loss and accuracy curve"
      ],
      "metadata": {
        "id": "Y3tyjVx0mK2A"
      }
    },
    {
      "cell_type": "code",
      "source": [
        "plot_loss_accuracy_curve(history_0)"
      ],
      "metadata": {
        "colab": {
          "base_uri": "https://localhost:8080/",
          "height": 893
        },
        "id": "Fuyof5hMmSZT",
        "outputId": "f37108ef-58e1-4299-ab79-9309f7b79db4"
      },
      "execution_count": 17,
      "outputs": [
        {
          "output_type": "display_data",
          "data": {
            "text/plain": [
              "<Figure size 700x1000 with 2 Axes>"
            ],
            "image/png": "[encoded data removed]"
          },
          "metadata": {}
        }
      ]
    },
    {
      "cell_type": "markdown",
      "source": [
        "---"
      ],
      "metadata": {
        "id": "gDsL7H_VVuUo"
      }
    },
    {
      "cell_type": "markdown",
      "source": [
        "---"
      ],
      "metadata": {
        "id": "eSXAG3fiVvnQ"
      }
    },
    {
      "cell_type": "markdown",
      "source": [
        "## **2. Fine-tune the last 20 layers of the base model you trained in 2 for another 10 epochs. How did it go?**"
      ],
      "metadata": {
        "id": "uVSnwDXQVS2I"
      }
    },
    {
      "cell_type": "markdown",
      "source": [
        "### Change the base model layers trainable to `True`"
      ],
      "metadata": {
        "id": "yO1ZCiY0lAFR"
      }
    },
    {
      "cell_type": "code",
      "source": [
        "base_model.trainable = True"
      ],
      "metadata": {
        "id": "uXt1qgfplI1q"
      },
      "execution_count": 26,
      "outputs": []
    },
    {
      "cell_type": "code",
      "source": [
        "for i, layer in enumerate(base_model.layers):\n",
        "  print(i, layer.name, layer.trainable)"
      ],
      "metadata": {
        "colab": {
          "base_uri": "https://localhost:8080/"
        },
        "id": "gB5SnOsKnReM",
        "outputId": "2ece354a-ebcf-43cb-8391-aad3f4e9bb13"
      },
      "execution_count": 27,
      "outputs": [
        {
          "output_type": "stream",
          "name": "stdout",
          "text": [
            "0 input_1 True\n",
            "1 Conv1 True\n",
            "2 bn_Conv1 True\n",
            "3 Conv1_relu True\n",
            "4 expanded_conv_depthwise True\n",
            "5 expanded_conv_depthwise_BN True\n",
            "6 expanded_conv_depthwise_relu True\n",
            "7 expanded_conv_project True\n",
            "8 expanded_conv_project_BN True\n",
            "9 block_1_expand True\n",
            "10 block_1_expand_BN True\n",
            "11 block_1_expand_relu True\n",
            "12 block_1_pad True\n",
            "13 block_1_depthwise True\n",
            "14 block_1_depthwise_BN True\n",
            "15 block_1_depthwise_relu True\n",
            "16 block_1_project True\n",
            "17 block_1_project_BN True\n",
            "18 block_2_expand True\n",
            "19 block_2_expand_BN True\n",
            "20 block_2_expand_relu True\n",
            "21 block_2_depthwise True\n",
            "22 block_2_depthwise_BN True\n",
            "23 block_2_depthwise_relu True\n",
            "24 block_2_project True\n",
            "25 block_2_project_BN True\n",
            "26 block_2_add True\n",
            "27 block_3_expand True\n",
            "28 block_3_expand_BN True\n",
            "29 block_3_expand_relu True\n",
            "30 block_3_pad True\n",
            "31 block_3_depthwise True\n",
            "32 block_3_depthwise_BN True\n",
            "33 block_3_depthwise_relu True\n",
            "34 block_3_project True\n",
            "35 block_3_project_BN True\n",
            "36 block_4_expand True\n",
            "37 block_4_expand_BN True\n",
            "38 block_4_expand_relu True\n",
            "39 block_4_depthwise True\n",
            "40 block_4_depthwise_BN True\n",
            "41 block_4_depthwise_relu True\n",
            "42 block_4_project True\n",
            "43 block_4_project_BN True\n",
            "44 block_4_add True\n",
            "45 block_5_expand True\n",
            "46 block_5_expand_BN True\n",
            "47 block_5_expand_relu True\n",
            "48 block_5_depthwise True\n",
            "49 block_5_depthwise_BN True\n",
            "50 block_5_depthwise_relu True\n",
            "51 block_5_project True\n",
            "52 block_5_project_BN True\n",
            "53 block_5_add True\n",
            "54 block_6_expand True\n",
            "55 block_6_expand_BN True\n",
            "56 block_6_expand_relu True\n",
            "57 block_6_pad True\n",
            "58 block_6_depthwise True\n",
            "59 block_6_depthwise_BN True\n",
            "60 block_6_depthwise_relu True\n",
            "61 block_6_project True\n",
            "62 block_6_project_BN True\n",
            "63 block_7_expand True\n",
            "64 block_7_expand_BN True\n",
            "65 block_7_expand_relu True\n",
            "66 block_7_depthwise True\n",
            "67 block_7_depthwise_BN True\n",
            "68 block_7_depthwise_relu True\n",
            "69 block_7_project True\n",
            "70 block_7_project_BN True\n",
            "71 block_7_add True\n",
            "72 block_8_expand True\n",
            "73 block_8_expand_BN True\n",
            "74 block_8_expand_relu True\n",
            "75 block_8_depthwise True\n",
            "76 block_8_depthwise_BN True\n",
            "77 block_8_depthwise_relu True\n",
            "78 block_8_project True\n",
            "79 block_8_project_BN True\n",
            "80 block_8_add True\n",
            "81 block_9_expand True\n",
            "82 block_9_expand_BN True\n",
            "83 block_9_expand_relu True\n",
            "84 block_9_depthwise True\n",
            "85 block_9_depthwise_BN True\n",
            "86 block_9_depthwise_relu True\n",
            "87 block_9_project True\n",
            "88 block_9_project_BN True\n",
            "89 block_9_add True\n",
            "90 block_10_expand True\n",
            "91 block_10_expand_BN True\n",
            "92 block_10_expand_relu True\n",
            "93 block_10_depthwise True\n",
            "94 block_10_depthwise_BN True\n",
            "95 block_10_depthwise_relu True\n",
            "96 block_10_project True\n",
            "97 block_10_project_BN True\n",
            "98 block_11_expand True\n",
            "99 block_11_expand_BN True\n",
            "100 block_11_expand_relu True\n",
            "101 block_11_depthwise True\n",
            "102 block_11_depthwise_BN True\n",
            "103 block_11_depthwise_relu True\n",
            "104 block_11_project True\n",
            "105 block_11_project_BN True\n",
            "106 block_11_add True\n",
            "107 block_12_expand True\n",
            "108 block_12_expand_BN True\n",
            "109 block_12_expand_relu True\n",
            "110 block_12_depthwise True\n",
            "111 block_12_depthwise_BN True\n",
            "112 block_12_depthwise_relu True\n",
            "113 block_12_project True\n",
            "114 block_12_project_BN True\n",
            "115 block_12_add True\n",
            "116 block_13_expand True\n",
            "117 block_13_expand_BN True\n",
            "118 block_13_expand_relu True\n",
            "119 block_13_pad True\n",
            "120 block_13_depthwise True\n",
            "121 block_13_depthwise_BN True\n",
            "122 block_13_depthwise_relu True\n",
            "123 block_13_project True\n",
            "124 block_13_project_BN True\n",
            "125 block_14_expand True\n",
            "126 block_14_expand_BN True\n",
            "127 block_14_expand_relu True\n",
            "128 block_14_depthwise True\n",
            "129 block_14_depthwise_BN True\n",
            "130 block_14_depthwise_relu True\n",
            "131 block_14_project True\n",
            "132 block_14_project_BN True\n",
            "133 block_14_add True\n",
            "134 block_15_expand True\n",
            "135 block_15_expand_BN True\n",
            "136 block_15_expand_relu True\n",
            "137 block_15_depthwise True\n",
            "138 block_15_depthwise_BN True\n",
            "139 block_15_depthwise_relu True\n",
            "140 block_15_project True\n",
            "141 block_15_project_BN True\n",
            "142 block_15_add True\n",
            "143 block_16_expand True\n",
            "144 block_16_expand_BN True\n",
            "145 block_16_expand_relu True\n",
            "146 block_16_depthwise True\n",
            "147 block_16_depthwise_BN True\n",
            "148 block_16_depthwise_relu True\n",
            "149 block_16_project True\n",
            "150 block_16_project_BN True\n",
            "151 Conv_1 True\n",
            "152 Conv_1_bn True\n",
            "153 out_relu True\n"
          ]
        }
      ]
    },
    {
      "cell_type": "code",
      "source": [
        "print(len(base_model.layers))"
      ],
      "metadata": {
        "colab": {
          "base_uri": "https://localhost:8080/"
        },
        "id": "aXzAvI3Wnd8-",
        "outputId": "f03bf67a-d325-4886-8931-85767516f5c3"
      },
      "execution_count": 28,
      "outputs": [
        {
          "output_type": "stream",
          "name": "stdout",
          "text": [
            "154\n"
          ]
        }
      ]
    },
    {
      "cell_type": "markdown",
      "source": [
        "### Change all base_model all layers trainable to False except last 20 layers"
      ],
      "metadata": {
        "id": "X-dCyxVTnykP"
      }
    },
    {
      "cell_type": "code",
      "source": [
        "for layer in base_model.layers[:-20]:\n",
        "  layer.trainable = False"
      ],
      "metadata": {
        "id": "gIPbvBGun8r4"
      },
      "execution_count": 29,
      "outputs": []
    },
    {
      "cell_type": "code",
      "source": [
        "for i, layer in enumerate(base_model.layers):\n",
        "  print(i, layer.name, layer.trainable)"
      ],
      "metadata": {
        "colab": {
          "base_uri": "https://localhost:8080/"
        },
        "id": "3D6C_RJjoSfh",
        "outputId": "c32db173-a29d-45c5-9291-31335ce0f1b3"
      },
      "execution_count": 31,
      "outputs": [
        {
          "output_type": "stream",
          "name": "stdout",
          "text": [
            "0 input_1 False\n",
            "1 Conv1 False\n",
            "2 bn_Conv1 False\n",
            "3 Conv1_relu False\n",
            "4 expanded_conv_depthwise False\n",
            "5 expanded_conv_depthwise_BN False\n",
            "6 expanded_conv_depthwise_relu False\n",
            "7 expanded_conv_project False\n",
            "8 expanded_conv_project_BN False\n",
            "9 block_1_expand False\n",
            "10 block_1_expand_BN False\n",
            "11 block_1_expand_relu False\n",
            "12 block_1_pad False\n",
            "13 block_1_depthwise False\n",
            "14 block_1_depthwise_BN False\n",
            "15 block_1_depthwise_relu False\n",
            "16 block_1_project False\n",
            "17 block_1_project_BN False\n",
            "18 block_2_expand False\n",
            "19 block_2_expand_BN False\n",
            "20 block_2_expand_relu False\n",
            "21 block_2_depthwise False\n",
            "22 block_2_depthwise_BN False\n",
            "23 block_2_depthwise_relu False\n",
            "24 block_2_project False\n",
            "25 block_2_project_BN False\n",
            "26 block_2_add False\n",
            "27 block_3_expand False\n",
            "28 block_3_expand_BN False\n",
            "29 block_3_expand_relu False\n",
            "30 block_3_pad False\n",
            "31 block_3_depthwise False\n",
            "32 block_3_depthwise_BN False\n",
            "33 block_3_depthwise_relu False\n",
            "34 block_3_project False\n",
            "35 block_3_project_BN False\n",
            "36 block_4_expand False\n",
            "37 block_4_expand_BN False\n",
            "38 block_4_expand_relu False\n",
            "39 block_4_depthwise False\n",
            "40 block_4_depthwise_BN False\n",
            "41 block_4_depthwise_relu False\n",
            "42 block_4_project False\n",
            "43 block_4_project_BN False\n",
            "44 block_4_add False\n",
            "45 block_5_expand False\n",
            "46 block_5_expand_BN False\n",
            "47 block_5_expand_relu False\n",
            "48 block_5_depthwise False\n",
            "49 block_5_depthwise_BN False\n",
            "50 block_5_depthwise_relu False\n",
            "51 block_5_project False\n",
            "52 block_5_project_BN False\n",
            "53 block_5_add False\n",
            "54 block_6_expand False\n",
            "55 block_6_expand_BN False\n",
            "56 block_6_expand_relu False\n",
            "57 block_6_pad False\n",
            "58 block_6_depthwise False\n",
            "59 block_6_depthwise_BN False\n",
            "60 block_6_depthwise_relu False\n",
            "61 block_6_project False\n",
            "62 block_6_project_BN False\n",
            "63 block_7_expand False\n",
            "64 block_7_expand_BN False\n",
            "65 block_7_expand_relu False\n",
            "66 block_7_depthwise False\n",
            "67 block_7_depthwise_BN False\n",
            "68 block_7_depthwise_relu False\n",
            "69 block_7_project False\n",
            "70 block_7_project_BN False\n",
            "71 block_7_add False\n",
            "72 block_8_expand False\n",
            "73 block_8_expand_BN False\n",
            "74 block_8_expand_relu False\n",
            "75 block_8_depthwise False\n",
            "76 block_8_depthwise_BN False\n",
            "77 block_8_depthwise_relu False\n",
            "78 block_8_project False\n",
            "79 block_8_project_BN False\n",
            "80 block_8_add False\n",
            "81 block_9_expand False\n",
            "82 block_9_expand_BN False\n",
            "83 block_9_expand_relu False\n",
            "84 block_9_depthwise False\n",
            "85 block_9_depthwise_BN False\n",
            "86 block_9_depthwise_relu False\n",
            "87 block_9_project False\n",
            "88 block_9_project_BN False\n",
            "89 block_9_add False\n",
            "90 block_10_expand False\n",
            "91 block_10_expand_BN False\n",
            "92 block_10_expand_relu False\n",
            "93 block_10_depthwise False\n",
            "94 block_10_depthwise_BN False\n",
            "95 block_10_depthwise_relu False\n",
            "96 block_10_project False\n",
            "97 block_10_project_BN False\n",
            "98 block_11_expand False\n",
            "99 block_11_expand_BN False\n",
            "100 block_11_expand_relu False\n",
            "101 block_11_depthwise False\n",
            "102 block_11_depthwise_BN False\n",
            "103 block_11_depthwise_relu False\n",
            "104 block_11_project False\n",
            "105 block_11_project_BN False\n",
            "106 block_11_add False\n",
            "107 block_12_expand False\n",
            "108 block_12_expand_BN False\n",
            "109 block_12_expand_relu False\n",
            "110 block_12_depthwise False\n",
            "111 block_12_depthwise_BN False\n",
            "112 block_12_depthwise_relu False\n",
            "113 block_12_project False\n",
            "114 block_12_project_BN False\n",
            "115 block_12_add False\n",
            "116 block_13_expand False\n",
            "117 block_13_expand_BN False\n",
            "118 block_13_expand_relu False\n",
            "119 block_13_pad False\n",
            "120 block_13_depthwise False\n",
            "121 block_13_depthwise_BN False\n",
            "122 block_13_depthwise_relu False\n",
            "123 block_13_project False\n",
            "124 block_13_project_BN False\n",
            "125 block_14_expand False\n",
            "126 block_14_expand_BN False\n",
            "127 block_14_expand_relu False\n",
            "128 block_14_depthwise False\n",
            "129 block_14_depthwise_BN False\n",
            "130 block_14_depthwise_relu False\n",
            "131 block_14_project False\n",
            "132 block_14_project_BN False\n",
            "133 block_14_add False\n",
            "134 block_15_expand True\n",
            "135 block_15_expand_BN True\n",
            "136 block_15_expand_relu True\n",
            "137 block_15_depthwise True\n",
            "138 block_15_depthwise_BN True\n",
            "139 block_15_depthwise_relu True\n",
            "140 block_15_project True\n",
            "141 block_15_project_BN True\n",
            "142 block_15_add True\n",
            "143 block_16_expand True\n",
            "144 block_16_expand_BN True\n",
            "145 block_16_expand_relu True\n",
            "146 block_16_depthwise True\n",
            "147 block_16_depthwise_BN True\n",
            "148 block_16_depthwise_relu True\n",
            "149 block_16_project True\n",
            "150 block_16_project_BN True\n",
            "151 Conv_1 True\n",
            "152 Conv_1_bn True\n",
            "153 out_relu True\n"
          ]
        }
      ]
    },
    {
      "cell_type": "markdown",
      "source": [
        "### Create another model same as (Model - 0)"
      ],
      "metadata": {
        "id": "maIFdS1LoZ65"
      }
    },
    {
      "cell_type": "code",
      "source": [
        "model_1 = tf.keras.models.clone_model(model_0)"
      ],
      "metadata": {
        "id": "igGzmY8zoo0x"
      },
      "execution_count": 32,
      "outputs": []
    },
    {
      "cell_type": "markdown",
      "source": [
        "### Compile the model (Model - 1)"
      ],
      "metadata": {
        "id": "U9e2uuYRovW1"
      }
    },
    {
      "cell_type": "code",
      "source": [
        "model_1.compile(optimizer=tf.keras.optimizers.Adam(),\n",
        "                loss=tf.keras.losses.CategoricalCrossentropy(),\n",
        "                metrics=['accuracy'])"
      ],
      "metadata": {
        "id": "1tQXE3Zro21A"
      },
      "execution_count": 33,
      "outputs": []
    },
    {
      "cell_type": "code",
      "source": [
        "model_1.summary()"
      ],
      "metadata": {
        "colab": {
          "base_uri": "https://localhost:8080/"
        },
        "id": "vK66ebHFpIJo",
        "outputId": "40239e08-4671-4e21-f601-7a427dbec31f"
      },
      "execution_count": 34,
      "outputs": [
        {
          "output_type": "stream",
          "name": "stdout",
          "text": [
            "Model: \"model\"\n",
            "_________________________________________________________________\n",
            " Layer (type)                Output Shape              Param #   \n",
            "=================================================================\n",
            " Input_layer (InputLayer)    [(None, 224, 224, 3)]     0         \n",
            "                                                                 \n",
            " sequential (Sequential)     (None, 224, 224, 3)       0         \n",
            "                                                                 \n",
            " mobilenetv2_1.00_224 (Func  (None, 7, 7, 1280)        2257984   \n",
            " tional)                                                         \n",
            "                                                                 \n",
            " global_average_pooling2d (  (None, 1280)              0         \n",
            " GlobalAveragePooling2D)                                         \n",
            "                                                                 \n",
            " Output_layer (Dense)        (None, 10)                12810     \n",
            "                                                                 \n",
            "=================================================================\n",
            "Total params: 2270794 (8.66 MB)\n",
            "Trainable params: 1218890 (4.65 MB)\n",
            "Non-trainable params: 1051904 (4.01 MB)\n",
            "_________________________________________________________________\n"
          ]
        }
      ]
    },
    {
      "cell_type": "markdown",
      "source": [
        "### Load the weights of model - 0 to model - 1"
      ],
      "metadata": {
        "id": "R-OTyRZPpMwi"
      }
    },
    {
      "cell_type": "code",
      "source": [
        "model_1.load_weights(modelcheckpoint_path)"
      ],
      "metadata": {
        "colab": {
          "base_uri": "https://localhost:8080/"
        },
        "id": "2jHtptWDpfro",
        "outputId": "861bfd9a-36c2-4731-b244-22213bf21eaa"
      },
      "execution_count": 35,
      "outputs": [
        {
          "output_type": "execute_result",
          "data": {
            "text/plain": [
              "<tensorflow.python.checkpoint.checkpoint.CheckpointLoadStatus at 0x7a19f8742dd0>"
            ]
          },
          "metadata": {},
          "execution_count": 35
        }
      ]
    },
    {
      "cell_type": "markdown",
      "source": [
        "### Comparing the evaluation of Model - 0 and Model - 1"
      ],
      "metadata": {
        "id": "9EjQatOHp9dx"
      }
    },
    {
      "cell_type": "code",
      "source": [
        "model_1.evaluate(test_data)"
      ],
      "metadata": {
        "colab": {
          "base_uri": "https://localhost:8080/"
        },
        "id": "W2p1ssh5pvw0",
        "outputId": "8c9fe26a-2cf7-4d96-c155-affc50dc6194"
      },
      "execution_count": 36,
      "outputs": [
        {
          "output_type": "stream",
          "name": "stdout",
          "text": [
            "79/79 [==============================] - 7s 63ms/step - loss: 0.6550 - accuracy: 0.7768\n"
          ]
        },
        {
          "output_type": "execute_result",
          "data": {
            "text/plain": [
              "[0.6549739241600037, 0.7767999768257141]"
            ]
          },
          "metadata": {},
          "execution_count": 36
        }
      ]
    },
    {
      "cell_type": "code",
      "source": [
        "model_0.evaluate(test_data)"
      ],
      "metadata": {
        "colab": {
          "base_uri": "https://localhost:8080/"
        },
        "id": "v2vZr6xvp431",
        "outputId": "c2621403-f4ba-4317-84d3-15a41f742b2d"
      },
      "execution_count": 37,
      "outputs": [
        {
          "output_type": "stream",
          "name": "stdout",
          "text": [
            "79/79 [==============================] - 7s 80ms/step - loss: 0.6550 - accuracy: 0.7768\n"
          ]
        },
        {
          "output_type": "execute_result",
          "data": {
            "text/plain": [
              "[0.6549738645553589, 0.7767999768257141]"
            ]
          },
          "metadata": {},
          "execution_count": 37
        }
      ]
    },
    {
      "cell_type": "markdown",
      "source": [
        "> **Note:** As expected both the models produces same results"
      ],
      "metadata": {
        "id": "LqJELvfep8c9"
      }
    },
    {
      "cell_type": "markdown",
      "source": [
        "### Fit the data with new model (Model - 1)"
      ],
      "metadata": {
        "id": "AOJZuYdPqWBD"
      }
    },
    {
      "cell_type": "code",
      "source": [
        "history_1 = model_1.fit(train_data,\n",
        "                        epochs=20,\n",
        "                        steps_per_epoch=len(train_data),\n",
        "                        validation_data=test_data,\n",
        "                        validation_steps=0.25 * len(test_data),\n",
        "                        initial_epoch=history_0.epoch[-1],\n",
        "                        callbacks=[tensorboard_callbacks(directory='Tensorboard',\n",
        "                                                         experiment_name='20_epoch_10_per_data'),\n",
        "                                   tensorflow_modelcheckpoint(directory='ModelCheckpoint',\n",
        "                                                              experiment_name='20_epoch_10_per_data')])"
      ],
      "metadata": {
        "colab": {
          "base_uri": "https://localhost:8080/"
        },
        "id": "14D0Zl4XqhPx",
        "outputId": "19eeefe0-ff3c-4410-afcc-ec781e429456"
      },
      "execution_count": 40,
      "outputs": [
        {
          "output_type": "stream",
          "name": "stdout",
          "text": [
            "Saving the tensorboard callbacks in Tensorboard/20_epoch_10_per_data/20240201-080056\n",
            "Path of the checkpoint: ModelCheckpoint/20_epoch_10_per_data/20240201-080056\n",
            "Epoch 10/20\n",
            "24/24 [==============================] - ETA: 0s - loss: 1.4630 - accuracy: 0.5733\n",
            "Epoch 10: saving model to ModelCheckpoint/20_epoch_10_per_data/20240201-080056\n",
            "24/24 [==============================] - 14s 220ms/step - loss: 1.4630 - accuracy: 0.5733 - val_loss: 12.4570 - val_accuracy: 0.3422\n",
            "Epoch 11/20\n",
            "23/24 [===========================>..] - ETA: 0s - loss: 0.5559 - accuracy: 0.8370\n",
            "Epoch 11: saving model to ModelCheckpoint/20_epoch_10_per_data/20240201-080056\n",
            "24/24 [==============================] - 4s 138ms/step - loss: 0.5590 - accuracy: 0.8373 - val_loss: 16.0162 - val_accuracy: 0.3141\n",
            "Epoch 12/20\n",
            "23/24 [===========================>..] - ETA: 0s - loss: 0.3286 - accuracy: 0.8899\n",
            "Epoch 12: saving model to ModelCheckpoint/20_epoch_10_per_data/20240201-080056\n",
            "24/24 [==============================] - 7s 303ms/step - loss: 0.3285 - accuracy: 0.8893 - val_loss: 9.4215 - val_accuracy: 0.4609\n",
            "Epoch 13/20\n",
            "23/24 [===========================>..] - ETA: 0s - loss: 0.1812 - accuracy: 0.9443\n",
            "Epoch 13: saving model to ModelCheckpoint/20_epoch_10_per_data/20240201-080056\n",
            "24/24 [==============================] - 5s 184ms/step - loss: 0.1835 - accuracy: 0.9413 - val_loss: 8.3653 - val_accuracy: 0.4859\n",
            "Epoch 14/20\n",
            "24/24 [==============================] - ETA: 0s - loss: 0.0746 - accuracy: 0.9773\n",
            "Epoch 14: saving model to ModelCheckpoint/20_epoch_10_per_data/20240201-080056\n",
            "24/24 [==============================] - 5s 206ms/step - loss: 0.0746 - accuracy: 0.9773 - val_loss: 10.3780 - val_accuracy: 0.4656\n",
            "Epoch 15/20\n",
            "23/24 [===========================>..] - ETA: 0s - loss: 0.0364 - accuracy: 0.9918\n",
            "Epoch 15: saving model to ModelCheckpoint/20_epoch_10_per_data/20240201-080056\n",
            "24/24 [==============================] - 4s 137ms/step - loss: 0.0358 - accuracy: 0.9920 - val_loss: 7.4446 - val_accuracy: 0.5219\n",
            "Epoch 16/20\n",
            "23/24 [===========================>..] - ETA: 0s - loss: 0.0178 - accuracy: 0.9946\n",
            "Epoch 16: saving model to ModelCheckpoint/20_epoch_10_per_data/20240201-080056\n",
            "24/24 [==============================] - 5s 194ms/step - loss: 0.0174 - accuracy: 0.9947 - val_loss: 7.5360 - val_accuracy: 0.5219\n",
            "Epoch 17/20\n",
            "23/24 [===========================>..] - ETA: 0s - loss: 0.0337 - accuracy: 0.9905\n",
            "Epoch 17: saving model to ModelCheckpoint/20_epoch_10_per_data/20240201-080056\n",
            "24/24 [==============================] - 4s 141ms/step - loss: 0.0465 - accuracy: 0.9880 - val_loss: 8.5811 - val_accuracy: 0.5078\n",
            "Epoch 18/20\n",
            "23/24 [===========================>..] - ETA: 0s - loss: 0.0646 - accuracy: 0.9755\n",
            "Epoch 18: saving model to ModelCheckpoint/20_epoch_10_per_data/20240201-080056\n",
            "24/24 [==============================] - 4s 139ms/step - loss: 0.0721 - accuracy: 0.9720 - val_loss: 8.5904 - val_accuracy: 0.5250\n",
            "Epoch 19/20\n",
            "23/24 [===========================>..] - ETA: 0s - loss: 0.1136 - accuracy: 0.9755\n",
            "Epoch 19: saving model to ModelCheckpoint/20_epoch_10_per_data/20240201-080056\n",
            "24/24 [==============================] - 5s 203ms/step - loss: 0.1138 - accuracy: 0.9747 - val_loss: 14.4890 - val_accuracy: 0.3703\n",
            "Epoch 20/20\n",
            "23/24 [===========================>..] - ETA: 0s - loss: 0.0572 - accuracy: 0.9823\n",
            "Epoch 20: saving model to ModelCheckpoint/20_epoch_10_per_data/20240201-080056\n",
            "24/24 [==============================] - 4s 146ms/step - loss: 0.0570 - accuracy: 0.9827 - val_loss: 11.2687 - val_accuracy: 0.4203\n"
          ]
        }
      ]
    },
    {
      "cell_type": "markdown",
      "source": [
        "### Evaluate the model"
      ],
      "metadata": {
        "id": "NMFaBxf0rmG_"
      }
    },
    {
      "cell_type": "code",
      "source": [
        "model_1.evaluate(test_data)"
      ],
      "metadata": {
        "colab": {
          "base_uri": "https://localhost:8080/"
        },
        "id": "cV23w1atsO1z",
        "outputId": "a330a881-913f-4c6b-f166-4fce7461b8c4"
      },
      "execution_count": 42,
      "outputs": [
        {
          "output_type": "stream",
          "name": "stdout",
          "text": [
            "79/79 [==============================] - 6s 68ms/step - loss: 11.4368 - accuracy: 0.4088\n"
          ]
        },
        {
          "output_type": "execute_result",
          "data": {
            "text/plain": [
              "[11.43675422668457, 0.40880000591278076]"
            ]
          },
          "metadata": {},
          "execution_count": 42
        }
      ]
    },
    {
      "cell_type": "markdown",
      "source": [
        "### Compare loss and accuracy curve of model-0 and model-1"
      ],
      "metadata": {
        "id": "PyrtD60YsUXD"
      }
    },
    {
      "cell_type": "code",
      "source": [
        "compare_histories(history_0, history_1)"
      ],
      "metadata": {
        "colab": {
          "base_uri": "https://localhost:8080/",
          "height": 873
        },
        "id": "3i92Ay0Rscen",
        "outputId": "bb4e329f-0ec9-4191-faa8-ca2564bc4697"
      },
      "execution_count": 43,
      "outputs": [
        {
          "output_type": "display_data",
          "data": {
            "text/plain": [
              "<Figure size 700x1000 with 2 Axes>"
            ],
            "image/png": "[encoded data removed]"
          },
          "metadata": {}
        }
      ]
    },
    {
      "cell_type": "code",
      "source": [],
      "metadata": {
        "id": "gtJB4o4Csr7t"
      },
      "execution_count": null,
      "outputs": []
    },
    {
      "cell_type": "markdown",
      "source": [
        "---"
      ],
      "metadata": {
        "id": "kVBDr8stVns5"
      }
    },
    {
      "cell_type": "markdown",
      "source": [
        "---"
      ],
      "metadata": {
        "id": "I4Y3DmsqVoo0"
      }
    },
    {
      "cell_type": "markdown",
      "source": [
        "## **3. Fine-tune the last 30 layers of the base model you trained in 2 for another 10 epochs. How did it go?**"
      ],
      "metadata": {
        "id": "NHyvoLZqVUne"
      }
    },
    {
      "cell_type": "markdown",
      "source": [
        "### Make base_model trianable to `True` last 30 layers"
      ],
      "metadata": {
        "id": "RszMuAVuVhsg"
      }
    },
    {
      "cell_type": "code",
      "source": [
        "for i, layer in enumerate(reversed(base_model.layers)):\n",
        "  print(i, layer.name, layer.trainable)"
      ],
      "metadata": {
        "colab": {
          "base_uri": "https://localhost:8080/"
        },
        "id": "LMFV5A-TtLsK",
        "outputId": "b1a1a2e0-aedf-44f1-c0a7-8b85083dcd87"
      },
      "execution_count": 45,
      "outputs": [
        {
          "output_type": "stream",
          "name": "stdout",
          "text": [
            "0 out_relu True\n",
            "1 Conv_1_bn True\n",
            "2 Conv_1 True\n",
            "3 block_16_project_BN True\n",
            "4 block_16_project True\n",
            "5 block_16_depthwise_relu True\n",
            "6 block_16_depthwise_BN True\n",
            "7 block_16_depthwise True\n",
            "8 block_16_expand_relu True\n",
            "9 block_16_expand_BN True\n",
            "10 block_16_expand True\n",
            "11 block_15_add True\n",
            "12 block_15_project_BN True\n",
            "13 block_15_project True\n",
            "14 block_15_depthwise_relu True\n",
            "15 block_15_depthwise_BN True\n",
            "16 block_15_depthwise True\n",
            "17 block_15_expand_relu True\n",
            "18 block_15_expand_BN True\n",
            "19 block_15_expand True\n",
            "20 block_14_add False\n",
            "21 block_14_project_BN False\n",
            "22 block_14_project False\n",
            "23 block_14_depthwise_relu False\n",
            "24 block_14_depthwise_BN False\n",
            "25 block_14_depthwise False\n",
            "26 block_14_expand_relu False\n",
            "27 block_14_expand_BN False\n",
            "28 block_14_expand False\n",
            "29 block_13_project_BN False\n",
            "30 block_13_project False\n",
            "31 block_13_depthwise_relu False\n",
            "32 block_13_depthwise_BN False\n",
            "33 block_13_depthwise False\n",
            "34 block_13_pad False\n",
            "35 block_13_expand_relu False\n",
            "36 block_13_expand_BN False\n",
            "37 block_13_expand False\n",
            "38 block_12_add False\n",
            "39 block_12_project_BN False\n",
            "40 block_12_project False\n",
            "41 block_12_depthwise_relu False\n",
            "42 block_12_depthwise_BN False\n",
            "43 block_12_depthwise False\n",
            "44 block_12_expand_relu False\n",
            "45 block_12_expand_BN False\n",
            "46 block_12_expand False\n",
            "47 block_11_add False\n",
            "48 block_11_project_BN False\n",
            "49 block_11_project False\n",
            "50 block_11_depthwise_relu False\n",
            "51 block_11_depthwise_BN False\n",
            "52 block_11_depthwise False\n",
            "53 block_11_expand_relu False\n",
            "54 block_11_expand_BN False\n",
            "55 block_11_expand False\n",
            "56 block_10_project_BN False\n",
            "57 block_10_project False\n",
            "58 block_10_depthwise_relu False\n",
            "59 block_10_depthwise_BN False\n",
            "60 block_10_depthwise False\n",
            "61 block_10_expand_relu False\n",
            "62 block_10_expand_BN False\n",
            "63 block_10_expand False\n",
            "64 block_9_add False\n",
            "65 block_9_project_BN False\n",
            "66 block_9_project False\n",
            "67 block_9_depthwise_relu False\n",
            "68 block_9_depthwise_BN False\n",
            "69 block_9_depthwise False\n",
            "70 block_9_expand_relu False\n",
            "71 block_9_expand_BN False\n",
            "72 block_9_expand False\n",
            "73 block_8_add False\n",
            "74 block_8_project_BN False\n",
            "75 block_8_project False\n",
            "76 block_8_depthwise_relu False\n",
            "77 block_8_depthwise_BN False\n",
            "78 block_8_depthwise False\n",
            "79 block_8_expand_relu False\n",
            "80 block_8_expand_BN False\n",
            "81 block_8_expand False\n",
            "82 block_7_add False\n",
            "83 block_7_project_BN False\n",
            "84 block_7_project False\n",
            "85 block_7_depthwise_relu False\n",
            "86 block_7_depthwise_BN False\n",
            "87 block_7_depthwise False\n",
            "88 block_7_expand_relu False\n",
            "89 block_7_expand_BN False\n",
            "90 block_7_expand False\n",
            "91 block_6_project_BN False\n",
            "92 block_6_project False\n",
            "93 block_6_depthwise_relu False\n",
            "94 block_6_depthwise_BN False\n",
            "95 block_6_depthwise False\n",
            "96 block_6_pad False\n",
            "97 block_6_expand_relu False\n",
            "98 block_6_expand_BN False\n",
            "99 block_6_expand False\n",
            "100 block_5_add False\n",
            "101 block_5_project_BN False\n",
            "102 block_5_project False\n",
            "103 block_5_depthwise_relu False\n",
            "104 block_5_depthwise_BN False\n",
            "105 block_5_depthwise False\n",
            "106 block_5_expand_relu False\n",
            "107 block_5_expand_BN False\n",
            "108 block_5_expand False\n",
            "109 block_4_add False\n",
            "110 block_4_project_BN False\n",
            "111 block_4_project False\n",
            "112 block_4_depthwise_relu False\n",
            "113 block_4_depthwise_BN False\n",
            "114 block_4_depthwise False\n",
            "115 block_4_expand_relu False\n",
            "116 block_4_expand_BN False\n",
            "117 block_4_expand False\n",
            "118 block_3_project_BN False\n",
            "119 block_3_project False\n",
            "120 block_3_depthwise_relu False\n",
            "121 block_3_depthwise_BN False\n",
            "122 block_3_depthwise False\n",
            "123 block_3_pad False\n",
            "124 block_3_expand_relu False\n",
            "125 block_3_expand_BN False\n",
            "126 block_3_expand False\n",
            "127 block_2_add False\n",
            "128 block_2_project_BN False\n",
            "129 block_2_project False\n",
            "130 block_2_depthwise_relu False\n",
            "131 block_2_depthwise_BN False\n",
            "132 block_2_depthwise False\n",
            "133 block_2_expand_relu False\n",
            "134 block_2_expand_BN False\n",
            "135 block_2_expand False\n",
            "136 block_1_project_BN False\n",
            "137 block_1_project False\n",
            "138 block_1_depthwise_relu False\n",
            "139 block_1_depthwise_BN False\n",
            "140 block_1_depthwise False\n",
            "141 block_1_pad False\n",
            "142 block_1_expand_relu False\n",
            "143 block_1_expand_BN False\n",
            "144 block_1_expand False\n",
            "145 expanded_conv_project_BN False\n",
            "146 expanded_conv_project False\n",
            "147 expanded_conv_depthwise_relu False\n",
            "148 expanded_conv_depthwise_BN False\n",
            "149 expanded_conv_depthwise False\n",
            "150 Conv1_relu False\n",
            "151 bn_Conv1 False\n",
            "152 Conv1 False\n",
            "153 input_1 False\n"
          ]
        }
      ]
    },
    {
      "cell_type": "code",
      "source": [
        "base_model.trainable = True\n",
        "\n",
        "for layer in base_model.layers[:-30]:\n",
        "  layer.trainable = False"
      ],
      "metadata": {
        "id": "L1BBFwAetgQI"
      },
      "execution_count": 47,
      "outputs": []
    },
    {
      "cell_type": "code",
      "source": [
        "for i, layer in enumerate(base_model.layers):\n",
        "  print(i, layer.name, layer.trainable)"
      ],
      "metadata": {
        "colab": {
          "base_uri": "https://localhost:8080/"
        },
        "id": "Sp1vHgT6t48x",
        "outputId": "313ebef7-cdb5-4667-9fde-33560c01fa73"
      },
      "execution_count": 48,
      "outputs": [
        {
          "output_type": "stream",
          "name": "stdout",
          "text": [
            "0 input_1 False\n",
            "1 Conv1 False\n",
            "2 bn_Conv1 False\n",
            "3 Conv1_relu False\n",
            "4 expanded_conv_depthwise False\n",
            "5 expanded_conv_depthwise_BN False\n",
            "6 expanded_conv_depthwise_relu False\n",
            "7 expanded_conv_project False\n",
            "8 expanded_conv_project_BN False\n",
            "9 block_1_expand False\n",
            "10 block_1_expand_BN False\n",
            "11 block_1_expand_relu False\n",
            "12 block_1_pad False\n",
            "13 block_1_depthwise False\n",
            "14 block_1_depthwise_BN False\n",
            "15 block_1_depthwise_relu False\n",
            "16 block_1_project False\n",
            "17 block_1_project_BN False\n",
            "18 block_2_expand False\n",
            "19 block_2_expand_BN False\n",
            "20 block_2_expand_relu False\n",
            "21 block_2_depthwise False\n",
            "22 block_2_depthwise_BN False\n",
            "23 block_2_depthwise_relu False\n",
            "24 block_2_project False\n",
            "25 block_2_project_BN False\n",
            "26 block_2_add False\n",
            "27 block_3_expand False\n",
            "28 block_3_expand_BN False\n",
            "29 block_3_expand_relu False\n",
            "30 block_3_pad False\n",
            "31 block_3_depthwise False\n",
            "32 block_3_depthwise_BN False\n",
            "33 block_3_depthwise_relu False\n",
            "34 block_3_project False\n",
            "35 block_3_project_BN False\n",
            "36 block_4_expand False\n",
            "37 block_4_expand_BN False\n",
            "38 block_4_expand_relu False\n",
            "39 block_4_depthwise False\n",
            "40 block_4_depthwise_BN False\n",
            "41 block_4_depthwise_relu False\n",
            "42 block_4_project False\n",
            "43 block_4_project_BN False\n",
            "44 block_4_add False\n",
            "45 block_5_expand False\n",
            "46 block_5_expand_BN False\n",
            "47 block_5_expand_relu False\n",
            "48 block_5_depthwise False\n",
            "49 block_5_depthwise_BN False\n",
            "50 block_5_depthwise_relu False\n",
            "51 block_5_project False\n",
            "52 block_5_project_BN False\n",
            "53 block_5_add False\n",
            "54 block_6_expand False\n",
            "55 block_6_expand_BN False\n",
            "56 block_6_expand_relu False\n",
            "57 block_6_pad False\n",
            "58 block_6_depthwise False\n",
            "59 block_6_depthwise_BN False\n",
            "60 block_6_depthwise_relu False\n",
            "61 block_6_project False\n",
            "62 block_6_project_BN False\n",
            "63 block_7_expand False\n",
            "64 block_7_expand_BN False\n",
            "65 block_7_expand_relu False\n",
            "66 block_7_depthwise False\n",
            "67 block_7_depthwise_BN False\n",
            "68 block_7_depthwise_relu False\n",
            "69 block_7_project False\n",
            "70 block_7_project_BN False\n",
            "71 block_7_add False\n",
            "72 block_8_expand False\n",
            "73 block_8_expand_BN False\n",
            "74 block_8_expand_relu False\n",
            "75 block_8_depthwise False\n",
            "76 block_8_depthwise_BN False\n",
            "77 block_8_depthwise_relu False\n",
            "78 block_8_project False\n",
            "79 block_8_project_BN False\n",
            "80 block_8_add False\n",
            "81 block_9_expand False\n",
            "82 block_9_expand_BN False\n",
            "83 block_9_expand_relu False\n",
            "84 block_9_depthwise False\n",
            "85 block_9_depthwise_BN False\n",
            "86 block_9_depthwise_relu False\n",
            "87 block_9_project False\n",
            "88 block_9_project_BN False\n",
            "89 block_9_add False\n",
            "90 block_10_expand False\n",
            "91 block_10_expand_BN False\n",
            "92 block_10_expand_relu False\n",
            "93 block_10_depthwise False\n",
            "94 block_10_depthwise_BN False\n",
            "95 block_10_depthwise_relu False\n",
            "96 block_10_project False\n",
            "97 block_10_project_BN False\n",
            "98 block_11_expand False\n",
            "99 block_11_expand_BN False\n",
            "100 block_11_expand_relu False\n",
            "101 block_11_depthwise False\n",
            "102 block_11_depthwise_BN False\n",
            "103 block_11_depthwise_relu False\n",
            "104 block_11_project False\n",
            "105 block_11_project_BN False\n",
            "106 block_11_add False\n",
            "107 block_12_expand False\n",
            "108 block_12_expand_BN False\n",
            "109 block_12_expand_relu False\n",
            "110 block_12_depthwise False\n",
            "111 block_12_depthwise_BN False\n",
            "112 block_12_depthwise_relu False\n",
            "113 block_12_project False\n",
            "114 block_12_project_BN False\n",
            "115 block_12_add False\n",
            "116 block_13_expand False\n",
            "117 block_13_expand_BN False\n",
            "118 block_13_expand_relu False\n",
            "119 block_13_pad False\n",
            "120 block_13_depthwise False\n",
            "121 block_13_depthwise_BN False\n",
            "122 block_13_depthwise_relu False\n",
            "123 block_13_project False\n",
            "124 block_13_project_BN True\n",
            "125 block_14_expand True\n",
            "126 block_14_expand_BN True\n",
            "127 block_14_expand_relu True\n",
            "128 block_14_depthwise True\n",
            "129 block_14_depthwise_BN True\n",
            "130 block_14_depthwise_relu True\n",
            "131 block_14_project True\n",
            "132 block_14_project_BN True\n",
            "133 block_14_add True\n",
            "134 block_15_expand True\n",
            "135 block_15_expand_BN True\n",
            "136 block_15_expand_relu True\n",
            "137 block_15_depthwise True\n",
            "138 block_15_depthwise_BN True\n",
            "139 block_15_depthwise_relu True\n",
            "140 block_15_project True\n",
            "141 block_15_project_BN True\n",
            "142 block_15_add True\n",
            "143 block_16_expand True\n",
            "144 block_16_expand_BN True\n",
            "145 block_16_expand_relu True\n",
            "146 block_16_depthwise True\n",
            "147 block_16_depthwise_BN True\n",
            "148 block_16_depthwise_relu True\n",
            "149 block_16_project True\n",
            "150 block_16_project_BN True\n",
            "151 Conv_1 True\n",
            "152 Conv_1_bn True\n",
            "153 out_relu True\n"
          ]
        }
      ]
    },
    {
      "cell_type": "markdown",
      "source": [
        "### Create the model same as (model - 0)"
      ],
      "metadata": {
        "id": "SDJZa4o_ubi5"
      }
    },
    {
      "cell_type": "code",
      "source": [
        "model_2 = tf.keras.models.clone_model(model_0)"
      ],
      "metadata": {
        "id": "HuNOeLo0ut-0"
      },
      "execution_count": 49,
      "outputs": []
    },
    {
      "cell_type": "code",
      "source": [
        "model_2.summary()"
      ],
      "metadata": {
        "colab": {
          "base_uri": "https://localhost:8080/"
        },
        "id": "-pTdkUy7uyc0",
        "outputId": "341a6e08-8a79-400a-bd3a-4e70bbc88ae3"
      },
      "execution_count": 50,
      "outputs": [
        {
          "output_type": "stream",
          "name": "stdout",
          "text": [
            "Model: \"model\"\n",
            "_________________________________________________________________\n",
            " Layer (type)                Output Shape              Param #   \n",
            "=================================================================\n",
            " Input_layer (InputLayer)    [(None, 224, 224, 3)]     0         \n",
            "                                                                 \n",
            " sequential (Sequential)     (None, 224, 224, 3)       0         \n",
            "                                                                 \n",
            " mobilenetv2_1.00_224 (Func  (None, 7, 7, 1280)        2257984   \n",
            " tional)                                                         \n",
            "                                                                 \n",
            " global_average_pooling2d (  (None, 1280)              0         \n",
            " GlobalAveragePooling2D)                                         \n",
            "                                                                 \n",
            " Output_layer (Dense)        (None, 10)                12810     \n",
            "                                                                 \n",
            "=================================================================\n",
            "Total params: 2270794 (8.66 MB)\n",
            "Trainable params: 1539210 (5.87 MB)\n",
            "Non-trainable params: 731584 (2.79 MB)\n",
            "_________________________________________________________________\n"
          ]
        }
      ]
    },
    {
      "cell_type": "markdown",
      "source": [
        "### Compile the model"
      ],
      "metadata": {
        "id": "yupMCDNju1La"
      }
    },
    {
      "cell_type": "code",
      "source": [
        "model_2.compile(optimizer=tf.keras.optimizers.Adam(),\n",
        "                loss=tf.keras.losses.CategoricalCrossentropy(),\n",
        "                metrics=['accuracy'])"
      ],
      "metadata": {
        "id": "EovDEAGNu4pa"
      },
      "execution_count": 51,
      "outputs": []
    },
    {
      "cell_type": "markdown",
      "source": [
        "### Load the model - 0 weights"
      ],
      "metadata": {
        "id": "ExoHG4LVvA6_"
      }
    },
    {
      "cell_type": "code",
      "source": [
        "model_2.load_weights(modelcheckpoint_path)"
      ],
      "metadata": {
        "colab": {
          "base_uri": "https://localhost:8080/"
        },
        "id": "KOdEqdFzvIol",
        "outputId": "f5e94238-b993-426d-ddf5-199f3cfbcffe"
      },
      "execution_count": 52,
      "outputs": [
        {
          "output_type": "execute_result",
          "data": {
            "text/plain": [
              "<tensorflow.python.checkpoint.checkpoint.CheckpointLoadStatus at 0x7a1978138100>"
            ]
          },
          "metadata": {},
          "execution_count": 52
        }
      ]
    },
    {
      "cell_type": "markdown",
      "source": [
        "### Comparing the evalution on model-2 and model-0"
      ],
      "metadata": {
        "id": "PbaQX7MAvWX0"
      }
    },
    {
      "cell_type": "code",
      "source": [
        "model_2.evaluate(test_data)"
      ],
      "metadata": {
        "colab": {
          "base_uri": "https://localhost:8080/"
        },
        "id": "H9OwZUo6vP6M",
        "outputId": "9c327c2d-a0fe-4ca8-bf10-b3f43799330d"
      },
      "execution_count": 53,
      "outputs": [
        {
          "output_type": "stream",
          "name": "stdout",
          "text": [
            "79/79 [==============================] - 7s 61ms/step - loss: 0.6550 - accuracy: 0.7768\n"
          ]
        },
        {
          "output_type": "execute_result",
          "data": {
            "text/plain": [
              "[0.6549738049507141, 0.7767999768257141]"
            ]
          },
          "metadata": {},
          "execution_count": 53
        }
      ]
    },
    {
      "cell_type": "code",
      "source": [
        "model_0.evaluate(test_data)"
      ],
      "metadata": {
        "colab": {
          "base_uri": "https://localhost:8080/"
        },
        "id": "OP3aL4GCvSdk",
        "outputId": "430725fb-91c1-4b03-ad71-40ae8f2e400a"
      },
      "execution_count": 54,
      "outputs": [
        {
          "output_type": "stream",
          "name": "stdout",
          "text": [
            "79/79 [==============================] - 5s 59ms/step - loss: 0.6550 - accuracy: 0.7768\n"
          ]
        },
        {
          "output_type": "execute_result",
          "data": {
            "text/plain": [
              "[0.6549738645553589, 0.7767999768257141]"
            ]
          },
          "metadata": {},
          "execution_count": 54
        }
      ]
    },
    {
      "cell_type": "markdown",
      "source": [
        "### Fit the model"
      ],
      "metadata": {
        "id": "AoXpazl1vU_j"
      }
    },
    {
      "cell_type": "code",
      "source": [
        "history_2 = model_2.fit(train_data,\n",
        "                        epochs=20,\n",
        "                        steps_per_epoch=len(train_data),\n",
        "                        validation_data=test_data,\n",
        "                        validation_steps=0.25 * len(test_data),\n",
        "                        initial_epoch=history_0.epoch[-1],\n",
        "                        callbacks=[tensorboard_callbacks(directory='Tensorboard',\n",
        "                                                         experiment_name='30_trainable_10_per_data'),\n",
        "                                   tensorflow_modelcheckpoint(directory='ModelCheckpoint',\n",
        "                                                              experiment_name='30_trainable_10_per_data')])"
      ],
      "metadata": {
        "colab": {
          "base_uri": "https://localhost:8080/"
        },
        "id": "gcBhmHgAvfbc",
        "outputId": "21f3bc34-c103-429c-81da-7585fc0aa4a6"
      },
      "execution_count": null,
      "outputs": [
        {
          "output_type": "stream",
          "name": "stdout",
          "text": [
            "Saving the tensorboard callbacks in Tensorboard/30_trainable_10_per_data/20240201-082025\n",
            "Path of the checkpoint: ModelCheckpoint/30_trainable_10_per_data/20240201-082025\n",
            "Epoch 10/20\n",
            "23/24 [===========================>..] - ETA: 0s - loss: 1.6153 - accuracy: 0.5530\n",
            "Epoch 10: saving model to ModelCheckpoint/30_trainable_10_per_data/20240201-082025\n",
            "24/24 [==============================] - 12s 188ms/step - loss: 1.6071 - accuracy: 0.5547 - val_loss: 6.5821 - val_accuracy: 0.4141\n",
            "Epoch 11/20\n",
            "23/24 [===========================>..] - ETA: 0s - loss: 0.6001 - accuracy: 0.8193\n",
            "Epoch 11: saving model to ModelCheckpoint/30_trainable_10_per_data/20240201-082025\n",
            "24/24 [==============================] - 5s 195ms/step - loss: 0.5950 - accuracy: 0.8213 - val_loss: 5.1633 - val_accuracy: 0.4016\n",
            "Epoch 12/20\n",
            "23/24 [===========================>..] - ETA: 0s - loss: 0.3172 - accuracy: 0.8927\n",
            "Epoch 12: saving model to ModelCheckpoint/30_trainable_10_per_data/20240201-082025\n",
            "24/24 [==============================] - 4s 141ms/step - loss: 0.3152 - accuracy: 0.8920 - val_loss: 10.1786 - val_accuracy: 0.2953\n",
            "Epoch 13/20\n",
            "23/24 [===========================>..] - ETA: 0s - loss: 0.2442 - accuracy: 0.9212\n",
            "Epoch 13: saving model to ModelCheckpoint/30_trainable_10_per_data/20240201-082025\n",
            "24/24 [==============================] - 4s 143ms/step - loss: 0.2421 - accuracy: 0.9227 - val_loss: 12.9426 - val_accuracy: 0.3547\n",
            "Epoch 14/20\n",
            "23/24 [===========================>..] - ETA: 0s - loss: 0.1169 - accuracy: 0.9688\n",
            "Epoch 14: saving model to ModelCheckpoint/30_trainable_10_per_data/20240201-082025\n",
            "24/24 [==============================] - 6s 224ms/step - loss: 0.1149 - accuracy: 0.9693 - val_loss: 11.5780 - val_accuracy: 0.3078\n",
            "Epoch 15/20\n",
            "24/24 [==============================] - ETA: 0s - loss: 0.0444 - accuracy: 0.9867\n",
            "Epoch 15: saving model to ModelCheckpoint/30_trainable_10_per_data/20240201-082025\n",
            "24/24 [==============================] - 5s 185ms/step - loss: 0.0444 - accuracy: 0.9867 - val_loss: 12.1569 - val_accuracy: 0.2766\n",
            "Epoch 16/20\n",
            "23/24 [===========================>..] - ETA: 0s - loss: 0.0456 - accuracy: 0.9837\n",
            "Epoch 16: saving model to ModelCheckpoint/30_trainable_10_per_data/20240201-082025\n",
            "24/24 [==============================] - 4s 163ms/step - loss: 0.0462 - accuracy: 0.9827 - val_loss: 12.3884 - val_accuracy: 0.2969\n",
            "Epoch 17/20\n",
            "23/24 [===========================>..] - ETA: 0s - loss: 0.0395 - accuracy: 0.9851\n",
            "Epoch 17: saving model to ModelCheckpoint/30_trainable_10_per_data/20240201-082025\n",
            "24/24 [==============================] - 5s 158ms/step - loss: 0.0388 - accuracy: 0.9853 - val_loss: 12.6989 - val_accuracy: 0.3109\n",
            "Epoch 18/20\n",
            "23/24 [===========================>..] - ETA: 0s - loss: 0.0304 - accuracy: 0.9905\n",
            "Epoch 18: saving model to ModelCheckpoint/30_trainable_10_per_data/20240201-082025\n",
            "24/24 [==============================] - 5s 197ms/step - loss: 0.0299 - accuracy: 0.9907 - val_loss: 7.7633 - val_accuracy: 0.4703\n",
            "Epoch 19/20\n",
            "23/24 [===========================>..] - ETA: 0s - loss: 0.0322 - accuracy: 0.9932\n",
            "Epoch 19: saving model to ModelCheckpoint/30_trainable_10_per_data/20240201-082025\n",
            "24/24 [==============================] - 7s 298ms/step - loss: 0.0330 - accuracy: 0.9933 - val_loss: 7.2179 - val_accuracy: 0.5437\n"
          ]
        }
      ]
    },
    {
      "cell_type": "markdown",
      "source": [
        "### Evaluate the model"
      ],
      "metadata": {
        "id": "CFVh9Fh8wiKr"
      }
    },
    {
      "cell_type": "code",
      "source": [
        "model_2.evaluate(test_data)"
      ],
      "metadata": {
        "id": "bNgInfmNwTiR"
      },
      "execution_count": null,
      "outputs": []
    },
    {
      "cell_type": "markdown",
      "source": [
        "### Compare the loss and accuracy curve"
      ],
      "metadata": {
        "id": "toCIk4LEwkr7"
      }
    },
    {
      "cell_type": "code",
      "source": [
        "compare_histories(history_0, history_2)"
      ],
      "metadata": {
        "colab": {
          "base_uri": "https://localhost:8080/",
          "height": 873
        },
        "id": "CzFRN5FTwpjY",
        "outputId": "cae1c12e-3e7a-4666-b7c1-d9b54a0c6e7c"
      },
      "execution_count": 56,
      "outputs": [
        {
          "output_type": "display_data",
          "data": {
            "text/plain": [
              "<Figure size 700x1000 with 2 Axes>"
            ],
            "image/png": "[encoded data removed]"
          },
          "metadata": {}
        }
      ]
    },
    {
      "cell_type": "code",
      "source": [
        "model_0.save('/content/drive/MyDrive/Colab Notebooks/DeepLearning/BestModel/Mobilenet_v2.keras')"
      ],
      "metadata": {
        "id": "N0j6V-Tpww44"
      },
      "execution_count": 57,
      "outputs": []
    },
    {
      "cell_type": "markdown",
      "source": [
        "---"
      ],
      "metadata": {
        "id": "tcEK23PiViU6"
      }
    },
    {
      "cell_type": "markdown",
      "source": [
        "---"
      ],
      "metadata": {
        "id": "7DPVN77_VjI8"
      }
    },
    {
      "cell_type": "markdown",
      "source": [
        "## **4. Write a function to visualize an image from any dataset (train or test file) and any class (e.g. \"steak\", \"pizza\"... etc), visualize it and make a prediction on it using a trained model.**"
      ],
      "metadata": {
        "id": "UUh9pfUiVWVx"
      }
    },
    {
      "cell_type": "code",
      "source": [],
      "metadata": {
        "id": "kjArVMTIVaWK"
      },
      "execution_count": null,
      "outputs": []
    },
    {
      "cell_type": "markdown",
      "source": [
        "---"
      ],
      "metadata": {
        "id": "8ZY5eOUyVa3d"
      }
    },
    {
      "cell_type": "markdown",
      "source": [
        "---"
      ],
      "metadata": {
        "id": "r3TnOUT3VbmW"
      }
    },
    {
      "cell_type": "markdown",
      "source": [
        "\n",
        "# **📖 05. Transfer Learning in TensorFlow Part 2: Fine-tuning Extra-curriculum**\n",
        "\n",
        "* Read the [documentation on data augmentation](https://www.tensorflow.org/tutorials/images/data_augmentation) in TensorFlow.\n",
        "* Read the [ULMFit paper](https://arxiv.org/abs/1801.06146) (technical) for an introduction to the concept of freezing and unfreezing different layers.\n",
        "* Read up on learning rate scheduling (there's a [TensorFlow callback](https://www.tensorflow.org/api_docs/python/tf/keras/callbacks/LearningRateScheduler) for this), how could this influence our model training?\n",
        "  * If you're training for longer, you probably want to reduce the learning rate as you go... the closer you get to the bottom of the hill, the smaller steps you want to take. Imagine it like finding a coin at the bottom of your couch. In the beginning your arm movements are going to be large and the closer you get, the smaller your movements become.\n",
        "  "
      ],
      "metadata": {
        "id": "UZFf75xrVIM7"
      }
    },
    {
      "cell_type": "markdown",
      "source": [
        "---"
      ],
      "metadata": {
        "id": "sVc42OtXUu3V"
      }
    },
    {
      "cell_type": "markdown",
      "source": [
        "---"
      ],
      "metadata": {
        "id": "Eux2DfsCVz7U"
      }
    }
  ]
}